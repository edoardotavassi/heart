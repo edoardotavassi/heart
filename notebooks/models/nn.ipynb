{
 "cells": [
  {
   "cell_type": "code",
   "execution_count": 1,
   "metadata": {},
   "outputs": [],
   "source": [
    "import torch\n",
    "import torch.nn as nn\n",
    "import torch.optim as optim\n",
    "import pandas as pd\n",
    "from sklearn.model_selection import train_test_split\n",
    "from sklearn.preprocessing import StandardScaler\n",
    "from torch.utils.data import DataLoader, TensorDataset"
   ]
  },
  {
   "cell_type": "code",
   "execution_count": 2,
   "metadata": {},
   "outputs": [],
   "source": [
    "# Load the data\n",
    "df_resampled = pd.read_csv('../../data/processed/heart_resampled_se.csv')\n",
    "df = pd.read_csv('../../data/processed/heart_se.csv')"
   ]
  },
  {
   "cell_type": "code",
   "execution_count": 3,
   "metadata": {},
   "outputs": [],
   "source": [
    "# Split the data into features and target variable\n",
    "X = df.drop(['target','index'], axis=1)\n",
    "y = df['target']\n",
    "\n",
    "# Split the dataset into training and testing sets\n",
    "X_train, X_test, y_train, y_test = train_test_split(X, y, test_size=0.2, random_state=42)"
   ]
  },
  {
   "cell_type": "code",
   "execution_count": 5,
   "metadata": {},
   "outputs": [
    {
     "name": "stdout",
     "output_type": "stream",
     "text": [
      "Epoch [1/50], Loss: 0.7009\n",
      "Epoch [2/50], Loss: 0.6931\n",
      "Epoch [3/50], Loss: 0.6816\n",
      "Epoch [4/50], Loss: 0.6672\n",
      "Epoch [5/50], Loss: 0.6394\n",
      "Epoch [6/50], Loss: 0.6045\n",
      "Epoch [7/50], Loss: 0.5558\n",
      "Epoch [8/50], Loss: 0.4906\n",
      "Epoch [9/50], Loss: 0.4238\n",
      "Epoch [10/50], Loss: 0.3745\n",
      "Epoch [11/50], Loss: 0.3510\n",
      "Epoch [12/50], Loss: 0.3208\n",
      "Epoch [13/50], Loss: 0.3170\n",
      "Epoch [14/50], Loss: 0.3252\n",
      "Epoch [15/50], Loss: 0.3167\n",
      "Epoch [16/50], Loss: 0.2887\n",
      "Epoch [17/50], Loss: 0.3001\n",
      "Epoch [18/50], Loss: 0.3012\n",
      "Epoch [19/50], Loss: 0.2791\n",
      "Epoch [20/50], Loss: 0.2930\n",
      "Epoch [21/50], Loss: 0.2749\n",
      "Epoch [22/50], Loss: 0.2612\n",
      "Epoch [23/50], Loss: 0.2634\n",
      "Epoch [24/50], Loss: 0.2646\n",
      "Epoch [25/50], Loss: 0.2532\n",
      "Epoch [26/50], Loss: 0.2499\n",
      "Epoch [27/50], Loss: 0.2447\n",
      "Epoch [28/50], Loss: 0.2299\n",
      "Epoch [29/50], Loss: 0.2339\n",
      "Epoch [30/50], Loss: 0.2302\n",
      "Epoch [31/50], Loss: 0.2258\n",
      "Epoch [32/50], Loss: 0.2339\n",
      "Epoch [33/50], Loss: 0.2113\n",
      "Epoch [34/50], Loss: 0.2191\n",
      "Epoch [35/50], Loss: 0.1993\n",
      "Epoch [36/50], Loss: 0.2148\n",
      "Epoch [37/50], Loss: 0.1965\n",
      "Epoch [38/50], Loss: 0.1753\n",
      "Epoch [39/50], Loss: 0.1761\n",
      "Epoch [40/50], Loss: 0.1710\n",
      "Epoch [41/50], Loss: 0.1725\n",
      "Epoch [42/50], Loss: 0.1773\n",
      "Epoch [43/50], Loss: 0.1647\n",
      "Epoch [44/50], Loss: 0.1580\n",
      "Epoch [45/50], Loss: 0.1521\n",
      "Epoch [46/50], Loss: 0.1459\n",
      "Epoch [47/50], Loss: 0.1393\n",
      "Epoch [48/50], Loss: 0.1352\n",
      "Epoch [49/50], Loss: 0.1357\n",
      "Epoch [50/50], Loss: 0.1337\n",
      "Test Loss: 0.4558, Accuracy: 0.8852\n"
     ]
    }
   ],
   "source": [
    "# Convert to PyTorch tensors\n",
    "X_train_tensor = torch.tensor(X_train.values, dtype=torch.float32)\n",
    "y_train_tensor = torch.tensor(y_train.values, dtype=torch.float32)\n",
    "X_test_tensor = torch.tensor(X_test.values, dtype=torch.float32)\n",
    "y_test_tensor = torch.tensor(y_test.values, dtype=torch.float32)\n",
    "\n",
    "# Create DataLoader for training and testing\n",
    "train_dataset = TensorDataset(X_train_tensor, y_train_tensor)\n",
    "test_dataset = TensorDataset(X_test_tensor, y_test_tensor)\n",
    "\n",
    "train_loader = DataLoader(train_dataset, batch_size=32, shuffle=True)\n",
    "test_loader = DataLoader(test_dataset, batch_size=32, shuffle=False)\n",
    "\n",
    "# Define the neural network model\n",
    "class NeuralNetwork(nn.Module):\n",
    "    def __init__(self, input_size):\n",
    "        super(NeuralNetwork, self).__init__()\n",
    "        self.layer1 = nn.Linear(input_size, 64)\n",
    "        self.layer2 = nn.Linear(64, 32)\n",
    "        self.layer3 = nn.Linear(32, 16)\n",
    "        self.output_layer = nn.Linear(16, 1)\n",
    "        self.relu = nn.ReLU()\n",
    "        self.sigmoid = nn.Sigmoid()  # Assuming a binary classification problem\n",
    "\n",
    "    def forward(self, x):\n",
    "        x = self.relu(self.layer1(x))\n",
    "        x = self.relu(self.layer2(x))\n",
    "        x = self.relu(self.layer3(x))\n",
    "        x = self.sigmoid(self.output_layer(x))\n",
    "        return x\n",
    "\n",
    "# Initialize the model, loss function, and optimizer\n",
    "input_size = X_train.shape[1]\n",
    "model = NeuralNetwork(input_size)\n",
    "\n",
    "criterion = nn.BCELoss()  # Binary Cross Entropy Loss for binary classification\n",
    "optimizer = optim.Adam(model.parameters(), lr=0.001)\n",
    "\n",
    "# Training loop\n",
    "num_epochs = 50\n",
    "\n",
    "for epoch in range(num_epochs):\n",
    "    model.train()\n",
    "    running_loss = 0.0\n",
    "    for X_batch, y_batch in train_loader:\n",
    "        optimizer.zero_grad()\n",
    "        outputs = model(X_batch).squeeze()\n",
    "        loss = criterion(outputs, y_batch)\n",
    "        loss.backward()\n",
    "        optimizer.step()\n",
    "        running_loss += loss.item()\n",
    "    \n",
    "    print(f'Epoch [{epoch+1}/{num_epochs}], Loss: {running_loss/len(train_loader):.4f}')\n",
    "\n",
    "# Test the model\n",
    "model.eval()\n",
    "with torch.no_grad():\n",
    "    test_loss = 0.0\n",
    "    correct = 0\n",
    "    total = 0\n",
    "    for X_batch, y_batch in test_loader:\n",
    "        outputs = model(X_batch).squeeze()\n",
    "        loss = criterion(outputs, y_batch)\n",
    "        test_loss += loss.item()\n",
    "        predicted = (outputs > 0.5).float()\n",
    "        total += y_batch.size(0)\n",
    "        correct += (predicted == y_batch).sum().item()\n",
    "    \n",
    "    accuracy = correct / total\n",
    "    print(f'Test Loss: {test_loss/len(test_loader):.4f}, Accuracy: {accuracy:.4f}')"
   ]
  },
  {
   "cell_type": "code",
   "execution_count": 7,
   "metadata": {},
   "outputs": [
    {
     "data": {
      "image/png": "[encoded data removed]",
      "text/plain": [
       "<Figure size 640x480 with 2 Axes>"
      ]
     },
     "metadata": {},
     "output_type": "display_data"
    }
   ],
   "source": [
    "#plot confusion matrix with seaborn\n",
    "import seaborn as sns\n",
    "import matplotlib.pyplot as plt\n",
    "from sklearn.metrics import confusion_matrix\n",
    "import numpy as np\n",
    "\n",
    "model.eval()\n",
    "with torch.no_grad():\n",
    "    y_pred = model(X_test_tensor).squeeze()\n",
    "    y_pred = (y_pred > 0.5).float()\n",
    "    y_pred = y_pred.numpy()\n",
    "    y_test = y_test_tensor.numpy()\n",
    "\n",
    "cm = confusion_matrix(y_test, y_pred)\n",
    "ax = plt.subplot()\n",
    "sns.heatmap(cm, annot=True, ax = ax, cmap='Blues', fmt='g')\n",
    "\n",
    "ax.set_xlabel('Predicted labels')\n",
    "ax.set_ylabel('True labels')\n",
    "ax.set_title('Confusion Matrix')\n",
    "ax.xaxis.set_ticklabels(['No Disease', 'Disease'])\n",
    "ax.yaxis.set_ticklabels(['No Disease', 'Disease'])\n",
    "plt.show()\n",
    "\n",
    "\n",
    "\n"
   ]
  },
  {
   "cell_type": "code",
   "execution_count": 18,
   "metadata": {},
   "outputs": [
    {
     "name": "stderr",
     "output_type": "stream",
     "text": [
      "[I 2024-08-27 16:22:50,902] A new study created in memory with name: no-name-c046569c-af87-4299-8dad-42f649e36b9d\n",
      "/var/folders/y0/8vyv832s3696sxgrt2_3v0k40000gn/T/ipykernel_91010/1022802541.py:22: FutureWarning:\n",
      "\n",
      "suggest_loguniform has been deprecated in v3.0.0. This feature will be removed in v6.0.0. See https://github.com/optuna/optuna/releases/tag/v3.0.0. Use suggest_float(..., log=True) instead.\n",
      "\n",
      "[I 2024-08-27 16:22:50,982] Trial 0 finished with value: 0.5245901639344263 and parameters: {'n_layers': 2, 'n_units_l0': 102, 'n_units_l1': 68, 'optimizer': 'Adagrad', 'lr': 2.534550647533787e-05}. Best is trial 0 with value: 0.5245901639344263.\n",
      "[I 2024-08-27 16:22:51,025] Trial 1 finished with value: 0.8360655737704918 and parameters: {'n_layers': 1, 'n_units_l0': 81, 'optimizer': 'Adadelta', 'lr': 0.014067948969419162}. Best is trial 1 with value: 0.8360655737704918.\n",
      "[I 2024-08-27 16:22:51,086] Trial 2 finished with value: 0.8852459016393442 and parameters: {'n_layers': 3, 'n_units_l0': 96, 'n_units_l1': 96, 'n_units_l2': 125, 'optimizer': 'Adam', 'lr': 8.956683484603692e-05}. Best is trial 2 with value: 0.8852459016393442.\n",
      "[I 2024-08-27 16:22:51,129] Trial 3 finished with value: 0.6885245901639344 and parameters: {'n_layers': 1, 'n_units_l0': 54, 'optimizer': 'Adadelta', 'lr': 0.0407955662479398}. Best is trial 2 with value: 0.8852459016393442.\n",
      "[I 2024-08-27 16:22:51,167] Trial 4 finished with value: 0.8688524590163934 and parameters: {'n_layers': 1, 'n_units_l0': 82, 'optimizer': 'Adagrad', 'lr': 0.02099433006834068}. Best is trial 2 with value: 0.8852459016393442.\n",
      "[I 2024-08-27 16:22:51,219] Trial 5 finished with value: 0.8688524590163934 and parameters: {'n_layers': 2, 'n_units_l0': 81, 'n_units_l1': 120, 'optimizer': 'Adam', 'lr': 4.3899482542229164e-05}. Best is trial 2 with value: 0.8852459016393442.\n",
      "[I 2024-08-27 16:22:51,270] Trial 6 finished with value: 0.8524590163934426 and parameters: {'n_layers': 2, 'n_units_l0': 17, 'n_units_l1': 123, 'optimizer': 'AdamW', 'lr': 0.0016331497861508696}. Best is trial 2 with value: 0.8852459016393442.\n",
      "[I 2024-08-27 16:22:51,315] Trial 7 finished with value: 0.5573770491803278 and parameters: {'n_layers': 1, 'n_units_l0': 106, 'optimizer': 'Adadelta', 'lr': 0.0009836341865846158}. Best is trial 2 with value: 0.8852459016393442.\n",
      "[I 2024-08-27 16:22:51,354] Trial 8 finished with value: 0.4918032786885246 and parameters: {'n_layers': 1, 'n_units_l0': 45, 'optimizer': 'Adam', 'lr': 3.7716494130917386e-05}. Best is trial 2 with value: 0.8852459016393442.\n",
      "[I 2024-08-27 16:22:51,392] Trial 9 finished with value: 0.8524590163934426 and parameters: {'n_layers': 1, 'n_units_l0': 101, 'optimizer': 'RMSprop', 'lr': 0.009346558933511717}. Best is trial 2 with value: 0.8852459016393442.\n",
      "[I 2024-08-27 16:22:51,440] Trial 10 finished with value: 0.5245901639344263 and parameters: {'n_layers': 3, 'n_units_l0': 127, 'n_units_l1': 24, 'n_units_l2': 126, 'optimizer': 'SGD', 'lr': 0.00025059548064903825}. Best is trial 2 with value: 0.8852459016393442.\n",
      "[I 2024-08-27 16:22:51,507] Trial 11 finished with value: 0.819672131147541 and parameters: {'n_layers': 3, 'n_units_l0': 65, 'n_units_l1': 81, 'n_units_l2': 103, 'optimizer': 'Adagrad', 'lr': 0.08856147043142763}. Best is trial 2 with value: 0.8852459016393442.\n",
      "[I 2024-08-27 16:22:51,575] Trial 12 finished with value: 0.5245901639344263 and parameters: {'n_layers': 3, 'n_units_l0': 89, 'n_units_l1': 83, 'n_units_l2': 22, 'optimizer': 'Adagrad', 'lr': 0.000201092259407804}. Best is trial 2 with value: 0.8852459016393442.\n",
      "[I 2024-08-27 16:22:51,653] Trial 13 finished with value: 0.8852459016393442 and parameters: {'n_layers': 3, 'n_units_l0': 125, 'n_units_l1': 52, 'n_units_l2': 69, 'optimizer': 'Adam', 'lr': 0.0023686389071782303}. Best is trial 2 with value: 0.8852459016393442.\n",
      "[I 2024-08-27 16:22:51,727] Trial 14 finished with value: 0.8852459016393442 and parameters: {'n_layers': 3, 'n_units_l0': 128, 'n_units_l1': 51, 'n_units_l2': 65, 'optimizer': 'Adam', 'lr': 0.0032031962174597388}. Best is trial 2 with value: 0.8852459016393442.\n",
      "[I 2024-08-27 16:22:51,805] Trial 15 finished with value: 0.8688524590163934 and parameters: {'n_layers': 3, 'n_units_l0': 117, 'n_units_l1': 98, 'n_units_l2': 67, 'optimizer': 'Adam', 'lr': 0.0003444863727477375}. Best is trial 2 with value: 0.8852459016393442.\n",
      "[I 2024-08-27 16:22:51,877] Trial 16 finished with value: 0.8524590163934426 and parameters: {'n_layers': 3, 'n_units_l0': 113, 'n_units_l1': 43, 'n_units_l2': 92, 'optimizer': 'Adam', 'lr': 0.00010392722210266037}. Best is trial 2 with value: 0.8852459016393442.\n",
      "[I 2024-08-27 16:22:51,933] Trial 17 finished with value: 0.7704918032786885 and parameters: {'n_layers': 2, 'n_units_l0': 94, 'n_units_l1': 54, 'optimizer': 'RMSprop', 'lr': 1.001005568441051e-05}. Best is trial 2 with value: 0.8852459016393442.\n",
      "[I 2024-08-27 16:22:51,983] Trial 18 finished with value: 0.47540983606557374 and parameters: {'n_layers': 3, 'n_units_l0': 113, 'n_units_l1': 100, 'n_units_l2': 42, 'optimizer': 'SGD', 'lr': 0.0008016560169322676}. Best is trial 2 with value: 0.8852459016393442.\n",
      "[I 2024-08-27 16:22:52,041] Trial 19 finished with value: 0.8524590163934426 and parameters: {'n_layers': 2, 'n_units_l0': 19, 'n_units_l1': 21, 'optimizer': 'AdamW', 'lr': 0.005034486116102964}. Best is trial 2 with value: 0.8852459016393442.\n",
      "[I 2024-08-27 16:22:52,113] Trial 20 finished with value: 0.8852459016393442 and parameters: {'n_layers': 3, 'n_units_l0': 64, 'n_units_l1': 101, 'n_units_l2': 128, 'optimizer': 'Adam', 'lr': 0.0004354511634924661}. Best is trial 2 with value: 0.8852459016393442.\n",
      "[I 2024-08-27 16:22:52,184] Trial 21 finished with value: 0.8360655737704918 and parameters: {'n_layers': 3, 'n_units_l0': 126, 'n_units_l1': 46, 'n_units_l2': 65, 'optimizer': 'Adam', 'lr': 0.002736207055477187}. Best is trial 2 with value: 0.8852459016393442.\n",
      "[I 2024-08-27 16:22:52,253] Trial 22 finished with value: 0.8524590163934426 and parameters: {'n_layers': 3, 'n_units_l0': 122, 'n_units_l1': 64, 'n_units_l2': 55, 'optimizer': 'Adam', 'lr': 0.002899870015298622}. Best is trial 2 with value: 0.8852459016393442.\n",
      "[I 2024-08-27 16:22:52,324] Trial 23 finished with value: 0.8524590163934426 and parameters: {'n_layers': 3, 'n_units_l0': 111, 'n_units_l1': 35, 'n_units_l2': 86, 'optimizer': 'Adam', 'lr': 0.006236057195872527}. Best is trial 2 with value: 0.8852459016393442.\n",
      "[I 2024-08-27 16:22:52,385] Trial 24 finished with value: 0.8688524590163934 and parameters: {'n_layers': 2, 'n_units_l0': 96, 'n_units_l1': 51, 'optimizer': 'Adam', 'lr': 9.732657868191388e-05}. Best is trial 2 with value: 0.8852459016393442.\n",
      "[I 2024-08-27 16:22:52,459] Trial 25 finished with value: 0.8688524590163934 and parameters: {'n_layers': 3, 'n_units_l0': 127, 'n_units_l1': 60, 'n_units_l2': 81, 'optimizer': 'Adam', 'lr': 0.0018513410599445025}. Best is trial 2 with value: 0.8852459016393442.\n",
      "[I 2024-08-27 16:22:52,551] Trial 26 finished with value: 0.8360655737704918 and parameters: {'n_layers': 3, 'n_units_l0': 118, 'n_units_l1': 78, 'n_units_l2': 44, 'optimizer': 'Adam', 'lr': 0.0005578754791855713}. Best is trial 2 with value: 0.8852459016393442.\n",
      "[I 2024-08-27 16:22:52,615] Trial 27 finished with value: 0.8360655737704918 and parameters: {'n_layers': 2, 'n_units_l0': 107, 'n_units_l1': 89, 'optimizer': 'AdamW', 'lr': 0.004136398615174989}. Best is trial 2 with value: 0.8852459016393442.\n",
      "[I 2024-08-27 16:22:52,678] Trial 28 finished with value: 0.8688524590163934 and parameters: {'n_layers': 3, 'n_units_l0': 91, 'n_units_l1': 35, 'n_units_l2': 107, 'optimizer': 'RMSprop', 'lr': 0.001638977506585721}. Best is trial 2 with value: 0.8852459016393442.\n",
      "[I 2024-08-27 16:22:52,722] Trial 29 finished with value: 0.47540983606557374 and parameters: {'n_layers': 2, 'n_units_l0': 99, 'n_units_l1': 112, 'optimizer': 'SGD', 'lr': 0.00012072666760151794}. Best is trial 2 with value: 0.8852459016393442.\n",
      "[I 2024-08-27 16:22:52,790] Trial 30 finished with value: 0.5245901639344263 and parameters: {'n_layers': 3, 'n_units_l0': 73, 'n_units_l1': 75, 'n_units_l2': 72, 'optimizer': 'Adam', 'lr': 1.154757604323863e-05}. Best is trial 2 with value: 0.8852459016393442.\n",
      "[I 2024-08-27 16:22:52,864] Trial 31 finished with value: 0.8688524590163934 and parameters: {'n_layers': 3, 'n_units_l0': 54, 'n_units_l1': 104, 'n_units_l2': 127, 'optimizer': 'Adam', 'lr': 0.0005700827570805628}. Best is trial 2 with value: 0.8852459016393442.\n",
      "[I 2024-08-27 16:22:52,935] Trial 32 finished with value: 0.8852459016393442 and parameters: {'n_layers': 3, 'n_units_l0': 65, 'n_units_l1': 93, 'n_units_l2': 115, 'optimizer': 'Adam', 'lr': 5.871913142391829e-05}. Best is trial 2 with value: 0.8852459016393442.\n",
      "[I 2024-08-27 16:22:53,017] Trial 33 finished with value: 0.5245901639344263 and parameters: {'n_layers': 3, 'n_units_l0': 36, 'n_units_l1': 111, 'n_units_l2': 51, 'optimizer': 'Adadelta', 'lr': 0.00038776776359874675}. Best is trial 2 with value: 0.8852459016393442.\n",
      "[I 2024-08-27 16:22:53,092] Trial 34 finished with value: 0.8688524590163934 and parameters: {'n_layers': 3, 'n_units_l0': 68, 'n_units_l1': 57, 'n_units_l2': 115, 'optimizer': 'Adam', 'lr': 0.024509867492093638}. Best is trial 2 with value: 0.8852459016393442.\n",
      "[I 2024-08-27 16:22:53,164] Trial 35 finished with value: 0.6557377049180327 and parameters: {'n_layers': 3, 'n_units_l0': 76, 'n_units_l1': 69, 'n_units_l2': 79, 'optimizer': 'Adam', 'lr': 1.957415747248043e-05}. Best is trial 2 with value: 0.8852459016393442.\n",
      "[I 2024-08-27 16:22:53,233] Trial 36 finished with value: 0.8360655737704918 and parameters: {'n_layers': 3, 'n_units_l0': 59, 'n_units_l1': 38, 'n_units_l2': 119, 'optimizer': 'Adam', 'lr': 0.011050263611981243}. Best is trial 2 with value: 0.8852459016393442.\n",
      "[I 2024-08-27 16:22:53,295] Trial 37 finished with value: 0.6885245901639344 and parameters: {'n_layers': 2, 'n_units_l0': 86, 'n_units_l1': 110, 'optimizer': 'Adadelta', 'lr': 0.0012370088188723462}. Best is trial 2 with value: 0.8852459016393442.\n",
      "[I 2024-08-27 16:22:53,356] Trial 38 finished with value: 0.5245901639344263 and parameters: {'n_layers': 3, 'n_units_l0': 46, 'n_units_l1': 68, 'n_units_l2': 96, 'optimizer': 'Adagrad', 'lr': 0.00015175731812026175}. Best is trial 2 with value: 0.8852459016393442.\n",
      "[I 2024-08-27 16:22:53,429] Trial 39 finished with value: 0.8688524590163934 and parameters: {'n_layers': 3, 'n_units_l0': 106, 'n_units_l1': 88, 'n_units_l2': 60, 'optimizer': 'AdamW', 'lr': 0.0006658791637724802}. Best is trial 2 with value: 0.8852459016393442.\n",
      "[I 2024-08-27 16:22:53,491] Trial 40 finished with value: 0.8524590163934426 and parameters: {'n_layers': 2, 'n_units_l0': 121, 'n_units_l1': 120, 'optimizer': 'Adam', 'lr': 0.019102101306184317}. Best is trial 2 with value: 0.8852459016393442.\n",
      "[I 2024-08-27 16:22:53,564] Trial 41 finished with value: 0.8852459016393442 and parameters: {'n_layers': 3, 'n_units_l0': 62, 'n_units_l1': 95, 'n_units_l2': 115, 'optimizer': 'Adam', 'lr': 6.615773572819134e-05}. Best is trial 2 with value: 0.8852459016393442.\n",
      "[I 2024-08-27 16:22:53,636] Trial 42 finished with value: 0.819672131147541 and parameters: {'n_layers': 3, 'n_units_l0': 75, 'n_units_l1': 91, 'n_units_l2': 128, 'optimizer': 'Adam', 'lr': 2.7052222425905142e-05}. Best is trial 2 with value: 0.8852459016393442.\n",
      "[I 2024-08-27 16:22:53,711] Trial 43 finished with value: 0.7704918032786885 and parameters: {'n_layers': 3, 'n_units_l0': 84, 'n_units_l1': 103, 'n_units_l2': 109, 'optimizer': 'Adam', 'lr': 5.391273458755154e-05}. Best is trial 2 with value: 0.8852459016393442.\n",
      "[I 2024-08-27 16:22:53,783] Trial 44 finished with value: 0.8360655737704918 and parameters: {'n_layers': 3, 'n_units_l0': 55, 'n_units_l1': 82, 'n_units_l2': 118, 'optimizer': 'Adam', 'lr': 0.00020276679187905067}. Best is trial 2 with value: 0.8852459016393442.\n",
      "[I 2024-08-27 16:22:53,835] Trial 45 finished with value: 0.5409836065573771 and parameters: {'n_layers': 3, 'n_units_l0': 79, 'n_units_l1': 94, 'n_units_l2': 72, 'optimizer': 'SGD', 'lr': 3.0554283451801445e-05}. Best is trial 2 with value: 0.8852459016393442.\n",
      "[I 2024-08-27 16:22:53,880] Trial 46 finished with value: 0.7377049180327869 and parameters: {'n_layers': 1, 'n_units_l0': 70, 'optimizer': 'RMSprop', 'lr': 7.817673137708744e-05}. Best is trial 2 with value: 0.8852459016393442.\n",
      "[I 2024-08-27 16:22:53,943] Trial 47 finished with value: 0.8524590163934426 and parameters: {'n_layers': 3, 'n_units_l0': 47, 'n_units_l1': 116, 'n_units_l2': 121, 'optimizer': 'Adagrad', 'lr': 0.0011140761378116563}. Best is trial 2 with value: 0.8852459016393442.\n",
      "[I 2024-08-27 16:22:54,023] Trial 48 finished with value: 0.6721311475409836 and parameters: {'n_layers': 3, 'n_units_l0': 65, 'n_units_l1': 127, 'n_units_l2': 128, 'optimizer': 'Adadelta', 'lr': 0.0002926245108699081}. Best is trial 2 with value: 0.8852459016393442.\n",
      "[I 2024-08-27 16:22:54,092] Trial 49 finished with value: 0.8524590163934426 and parameters: {'n_layers': 3, 'n_units_l0': 37, 'n_units_l1': 28, 'n_units_l2': 98, 'optimizer': 'Adam', 'lr': 0.0025144554166687313}. Best is trial 2 with value: 0.8852459016393442.\n",
      "[I 2024-08-27 16:22:54,163] Trial 50 finished with value: 0.9016393442622951 and parameters: {'n_layers': 3, 'n_units_l0': 104, 'n_units_l1': 46, 'n_units_l2': 109, 'optimizer': 'Adam', 'lr': 4.649269074979512e-05}. Best is trial 50 with value: 0.9016393442622951.\n",
      "[I 2024-08-27 16:22:54,235] Trial 51 finished with value: 0.47540983606557374 and parameters: {'n_layers': 3, 'n_units_l0': 122, 'n_units_l1': 49, 'n_units_l2': 112, 'optimizer': 'Adam', 'lr': 2.1227608523314494e-05}. Best is trial 50 with value: 0.9016393442622951.\n",
      "[I 2024-08-27 16:22:54,306] Trial 52 finished with value: 0.5573770491803278 and parameters: {'n_layers': 3, 'n_units_l0': 116, 'n_units_l1': 41, 'n_units_l2': 103, 'optimizer': 'Adam', 'lr': 4.6546514592672433e-05}. Best is trial 50 with value: 0.9016393442622951.\n",
      "[I 2024-08-27 16:22:54,377] Trial 53 finished with value: 0.8360655737704918 and parameters: {'n_layers': 3, 'n_units_l0': 105, 'n_units_l1': 61, 'n_units_l2': 123, 'optimizer': 'Adam', 'lr': 0.00015457669280228873}. Best is trial 50 with value: 0.9016393442622951.\n",
      "[I 2024-08-27 16:22:54,446] Trial 54 finished with value: 0.8524590163934426 and parameters: {'n_layers': 3, 'n_units_l0': 124, 'n_units_l1': 29, 'n_units_l2': 105, 'optimizer': 'Adam', 'lr': 0.006501307413354648}. Best is trial 50 with value: 0.9016393442622951.\n",
      "[I 2024-08-27 16:22:54,517] Trial 55 finished with value: 0.47540983606557374 and parameters: {'n_layers': 3, 'n_units_l0': 128, 'n_units_l1': 53, 'n_units_l2': 62, 'optimizer': 'Adam', 'lr': 1.5128757313384105e-05}. Best is trial 50 with value: 0.9016393442622951.\n",
      "[I 2024-08-27 16:22:54,591] Trial 56 finished with value: 0.5245901639344263 and parameters: {'n_layers': 3, 'n_units_l0': 111, 'n_units_l1': 104, 'n_units_l2': 31, 'optimizer': 'AdamW', 'lr': 4.017999405924958e-05}. Best is trial 50 with value: 0.9016393442622951.\n",
      "[I 2024-08-27 16:22:54,661] Trial 57 finished with value: 0.7868852459016393 and parameters: {'n_layers': 3, 'n_units_l0': 102, 'n_units_l1': 45, 'n_units_l2': 121, 'optimizer': 'Adam', 'lr': 7.480230335872968e-05}. Best is trial 50 with value: 0.9016393442622951.\n",
      "[I 2024-08-27 16:22:54,712] Trial 58 finished with value: 0.5245901639344263 and parameters: {'n_layers': 3, 'n_units_l0': 93, 'n_units_l1': 99, 'n_units_l2': 78, 'optimizer': 'SGD', 'lr': 0.0036302522858158858}. Best is trial 50 with value: 0.9016393442622951.\n",
      "[I 2024-08-27 16:22:54,767] Trial 59 finished with value: 0.8688524590163934 and parameters: {'n_layers': 2, 'n_units_l0': 88, 'n_units_l1': 66, 'optimizer': 'RMSprop', 'lr': 0.008152463332740735}. Best is trial 50 with value: 0.9016393442622951.\n",
      "[I 2024-08-27 16:22:54,815] Trial 60 finished with value: 0.8524590163934426 and parameters: {'n_layers': 1, 'n_units_l0': 79, 'optimizer': 'Adam', 'lr': 0.00044482904706493484}. Best is trial 50 with value: 0.9016393442622951.\n",
      "[I 2024-08-27 16:22:54,889] Trial 61 finished with value: 0.8688524590163934 and parameters: {'n_layers': 3, 'n_units_l0': 58, 'n_units_l1': 94, 'n_units_l2': 115, 'optimizer': 'Adam', 'lr': 7.011232578330667e-05}. Best is trial 50 with value: 0.9016393442622951.\n",
      "[I 2024-08-27 16:22:54,960] Trial 62 finished with value: 0.7704918032786885 and parameters: {'n_layers': 3, 'n_units_l0': 61, 'n_units_l1': 85, 'n_units_l2': 112, 'optimizer': 'Adam', 'lr': 5.25615115620418e-05}. Best is trial 50 with value: 0.9016393442622951.\n",
      "[I 2024-08-27 16:22:55,031] Trial 63 finished with value: 0.8688524590163934 and parameters: {'n_layers': 3, 'n_units_l0': 67, 'n_units_l1': 92, 'n_units_l2': 122, 'optimizer': 'Adam', 'lr': 0.001985618267585086}. Best is trial 50 with value: 0.9016393442622951.\n",
      "[I 2024-08-27 16:22:55,101] Trial 64 finished with value: 0.5245901639344263 and parameters: {'n_layers': 3, 'n_units_l0': 50, 'n_units_l1': 75, 'n_units_l2': 87, 'optimizer': 'Adam', 'lr': 3.294840568000077e-05}. Best is trial 50 with value: 0.9016393442622951.\n",
      "[I 2024-08-27 16:22:55,166] Trial 65 finished with value: 0.8524590163934426 and parameters: {'n_layers': 3, 'n_units_l0': 117, 'n_units_l1': 107, 'n_units_l2': 69, 'optimizer': 'Adagrad', 'lr': 0.00011402502592072475}. Best is trial 50 with value: 0.9016393442622951.\n",
      "[I 2024-08-27 16:22:55,235] Trial 66 finished with value: 0.8524590163934426 and parameters: {'n_layers': 3, 'n_units_l0': 64, 'n_units_l1': 98, 'n_units_l2': 53, 'optimizer': 'Adam', 'lr': 0.00018299286907847302}. Best is trial 50 with value: 0.9016393442622951.\n",
      "[I 2024-08-27 16:22:55,306] Trial 67 finished with value: 0.8360655737704918 and parameters: {'n_layers': 3, 'n_units_l0': 99, 'n_units_l1': 48, 'n_units_l2': 117, 'optimizer': 'Adam', 'lr': 6.257123903899135e-05}. Best is trial 50 with value: 0.9016393442622951.\n",
      "[I 2024-08-27 16:22:55,375] Trial 68 finished with value: 0.8852459016393442 and parameters: {'n_layers': 3, 'n_units_l0': 72, 'n_units_l1': 55, 'n_units_l2': 110, 'optimizer': 'Adam', 'lr': 9.542670229699926e-05}. Best is trial 50 with value: 0.9016393442622951.\n",
      "[I 2024-08-27 16:22:55,444] Trial 69 finished with value: 0.8524590163934426 and parameters: {'n_layers': 3, 'n_units_l0': 62, 'n_units_l1': 96, 'n_units_l2': 58, 'optimizer': 'Adam', 'lr': 0.0008195019909548718}. Best is trial 50 with value: 0.9016393442622951.\n",
      "[I 2024-08-27 16:22:55,518] Trial 70 finished with value: 0.9016393442622951 and parameters: {'n_layers': 3, 'n_units_l0': 120, 'n_units_l1': 60, 'n_units_l2': 65, 'optimizer': 'Adadelta', 'lr': 0.07992992721466653}. Best is trial 50 with value: 0.9016393442622951.\n",
      "[I 2024-08-27 16:22:55,593] Trial 71 finished with value: 0.5245901639344263 and parameters: {'n_layers': 3, 'n_units_l0': 120, 'n_units_l1': 58, 'n_units_l2': 66, 'optimizer': 'Adadelta', 'lr': 0.03960280308424538}. Best is trial 50 with value: 0.9016393442622951.\n",
      "[I 2024-08-27 16:22:55,666] Trial 72 finished with value: 0.47540983606557374 and parameters: {'n_layers': 3, 'n_units_l0': 109, 'n_units_l1': 61, 'n_units_l2': 73, 'optimizer': 'Adadelta', 'lr': 0.00023954807509359794}. Best is trial 50 with value: 0.9016393442622951.\n",
      "[I 2024-08-27 16:22:55,740] Trial 73 finished with value: 0.8688524590163934 and parameters: {'n_layers': 3, 'n_units_l0': 125, 'n_units_l1': 41, 'n_units_l2': 125, 'optimizer': 'Adadelta', 'lr': 0.05856645366436384}. Best is trial 50 with value: 0.9016393442622951.\n",
      "[I 2024-08-27 16:22:55,815] Trial 74 finished with value: 0.47540983606557374 and parameters: {'n_layers': 3, 'n_units_l0': 116, 'n_units_l1': 78, 'n_units_l2': 76, 'optimizer': 'Adadelta', 'lr': 0.0013822818924152022}. Best is trial 50 with value: 0.9016393442622951.\n",
      "[I 2024-08-27 16:22:55,885] Trial 75 finished with value: 0.8360655737704918 and parameters: {'n_layers': 3, 'n_units_l0': 113, 'n_units_l1': 16, 'n_units_l2': 48, 'optimizer': 'AdamW', 'lr': 0.013185607881384075}. Best is trial 50 with value: 0.9016393442622951.\n",
      "[I 2024-08-27 16:22:55,958] Trial 76 finished with value: 0.5245901639344263 and parameters: {'n_layers': 3, 'n_units_l0': 125, 'n_units_l1': 87, 'n_units_l2': 87, 'optimizer': 'Adam', 'lr': 1.5684044947861816e-05}. Best is trial 50 with value: 0.9016393442622951.\n",
      "[I 2024-08-27 16:22:56,022] Trial 77 finished with value: 0.8688524590163934 and parameters: {'n_layers': 3, 'n_units_l0': 57, 'n_units_l1': 50, 'n_units_l2': 63, 'optimizer': 'RMSprop', 'lr': 0.00013184168524123862}. Best is trial 50 with value: 0.9016393442622951.\n",
      "[I 2024-08-27 16:22:56,073] Trial 78 finished with value: 0.8688524590163934 and parameters: {'n_layers': 3, 'n_units_l0': 51, 'n_units_l1': 101, 'n_units_l2': 56, 'optimizer': 'SGD', 'lr': 0.09981271303685721}. Best is trial 50 with value: 0.9016393442622951.\n",
      "[I 2024-08-27 16:22:56,134] Trial 79 finished with value: 0.9016393442622951 and parameters: {'n_layers': 2, 'n_units_l0': 119, 'n_units_l1': 72, 'optimizer': 'Adam', 'lr': 9.021772118507765e-05}. Best is trial 50 with value: 0.9016393442622951.\n",
      "[I 2024-08-27 16:22:56,197] Trial 80 finished with value: 0.5245901639344263 and parameters: {'n_layers': 2, 'n_units_l0': 119, 'n_units_l1': 70, 'optimizer': 'Adadelta', 'lr': 0.00031660130926196935}. Best is trial 50 with value: 0.9016393442622951.\n",
      "[I 2024-08-27 16:22:56,257] Trial 81 finished with value: 0.9016393442622951 and parameters: {'n_layers': 2, 'n_units_l0': 124, 'n_units_l1': 65, 'optimizer': 'Adam', 'lr': 8.631303524221483e-05}. Best is trial 50 with value: 0.9016393442622951.\n",
      "[I 2024-08-27 16:22:56,318] Trial 82 finished with value: 0.8688524590163934 and parameters: {'n_layers': 2, 'n_units_l0': 128, 'n_units_l1': 64, 'optimizer': 'Adam', 'lr': 9.091358448351309e-05}. Best is trial 50 with value: 0.9016393442622951.\n",
      "[I 2024-08-27 16:22:56,379] Trial 83 finished with value: 0.5245901639344263 and parameters: {'n_layers': 2, 'n_units_l0': 114, 'n_units_l1': 73, 'optimizer': 'Adam', 'lr': 2.4231786843793316e-05}. Best is trial 50 with value: 0.9016393442622951.\n",
      "[I 2024-08-27 16:22:56,439] Trial 84 finished with value: 0.7049180327868853 and parameters: {'n_layers': 2, 'n_units_l0': 122, 'n_units_l1': 54, 'optimizer': 'Adam', 'lr': 4.166398722154856e-05}. Best is trial 50 with value: 0.9016393442622951.\n",
      "[I 2024-08-27 16:22:56,499] Trial 85 finished with value: 0.8032786885245902 and parameters: {'n_layers': 2, 'n_units_l0': 123, 'n_units_l1': 58, 'optimizer': 'Adam', 'lr': 0.004398643508227476}. Best is trial 50 with value: 0.9016393442622951.\n",
      "[I 2024-08-27 16:22:56,553] Trial 86 finished with value: 0.8524590163934426 and parameters: {'n_layers': 2, 'n_units_l0': 110, 'n_units_l1': 63, 'optimizer': 'Adagrad', 'lr': 0.0004381983714787249}. Best is trial 50 with value: 0.9016393442622951.\n",
      "[I 2024-08-27 16:22:56,615] Trial 87 finished with value: 0.8688524590163934 and parameters: {'n_layers': 2, 'n_units_l0': 103, 'n_units_l1': 80, 'optimizer': 'Adam', 'lr': 0.002383889497322648}. Best is trial 50 with value: 0.9016393442622951.\n",
      "[I 2024-08-27 16:22:56,676] Trial 88 finished with value: 0.7704918032786885 and parameters: {'n_layers': 2, 'n_units_l0': 120, 'n_units_l1': 44, 'optimizer': 'Adam', 'lr': 5.40057061741245e-05}. Best is trial 50 with value: 0.9016393442622951.\n",
      "[I 2024-08-27 16:22:56,735] Trial 89 finished with value: 0.6721311475409836 and parameters: {'n_layers': 2, 'n_units_l0': 114, 'n_units_l1': 35, 'optimizer': 'Adam', 'lr': 3.466279763374485e-05}. Best is trial 50 with value: 0.9016393442622951.\n",
      "[I 2024-08-27 16:22:56,784] Trial 90 finished with value: 0.8688524590163934 and parameters: {'n_layers': 1, 'n_units_l0': 97, 'optimizer': 'Adam', 'lr': 0.026570871778880203}. Best is trial 50 with value: 0.9016393442622951.\n",
      "[I 2024-08-27 16:22:56,855] Trial 91 finished with value: 0.8852459016393442 and parameters: {'n_layers': 3, 'n_units_l0': 69, 'n_units_l1': 66, 'n_units_l2': 103, 'optimizer': 'Adam', 'lr': 0.00015901490163537852}. Best is trial 50 with value: 0.9016393442622951.\n",
      "[I 2024-08-27 16:22:56,934] Trial 92 finished with value: 0.8852459016393442 and parameters: {'n_layers': 3, 'n_units_l0': 125, 'n_units_l1': 107, 'n_units_l2': 116, 'optimizer': 'Adam', 'lr': 8.325411384647286e-05}. Best is trial 50 with value: 0.9016393442622951.\n",
      "[I 2024-08-27 16:22:57,007] Trial 93 finished with value: 0.9016393442622951 and parameters: {'n_layers': 3, 'n_units_l0': 119, 'n_units_l1': 71, 'n_units_l2': 69, 'optimizer': 'Adam', 'lr': 6.036184533844558e-05}. Best is trial 50 with value: 0.9016393442622951.\n",
      "[I 2024-08-27 16:22:57,079] Trial 94 finished with value: 0.8852459016393442 and parameters: {'n_layers': 3, 'n_units_l0': 118, 'n_units_l1': 75, 'n_units_l2': 83, 'optimizer': 'Adam', 'lr': 0.0001285592872080831}. Best is trial 50 with value: 0.9016393442622951.\n",
      "[I 2024-08-27 16:22:57,142] Trial 95 finished with value: 0.8524590163934426 and parameters: {'n_layers': 2, 'n_units_l0': 128, 'n_units_l1': 67, 'optimizer': 'AdamW', 'lr': 0.00023317177038950797}. Best is trial 50 with value: 0.9016393442622951.\n",
      "[I 2024-08-27 16:22:57,213] Trial 96 finished with value: 0.8688524590163934 and parameters: {'n_layers': 3, 'n_units_l0': 108, 'n_units_l1': 71, 'n_units_l2': 69, 'optimizer': 'Adam', 'lr': 0.003335503391797398}. Best is trial 50 with value: 0.9016393442622951.\n",
      "[I 2024-08-27 16:22:57,285] Trial 97 finished with value: 0.5737704918032787 and parameters: {'n_layers': 3, 'n_units_l0': 123, 'n_units_l1': 47, 'n_units_l2': 61, 'optimizer': 'Adam', 'lr': 5.9174020260241225e-05}. Best is trial 50 with value: 0.9016393442622951.\n",
      "[I 2024-08-27 16:22:57,349] Trial 98 finished with value: 0.8852459016393442 and parameters: {'n_layers': 3, 'n_units_l0': 115, 'n_units_l1': 55, 'n_units_l2': 74, 'optimizer': 'RMSprop', 'lr': 0.0009017691140767597}. Best is trial 50 with value: 0.9016393442622951.\n",
      "[I 2024-08-27 16:22:57,401] Trial 99 finished with value: 0.5245901639344263 and parameters: {'n_layers': 3, 'n_units_l0': 111, 'n_units_l1': 52, 'n_units_l2': 68, 'optimizer': 'SGD', 'lr': 4.504666290782709e-05}. Best is trial 50 with value: 0.9016393442622951.\n",
      "[I 2024-08-27 16:22:57,464] Trial 100 finished with value: 0.47540983606557374 and parameters: {'n_layers': 2, 'n_units_l0': 104, 'n_units_l1': 63, 'optimizer': 'Adadelta', 'lr': 0.00010450018251299992}. Best is trial 50 with value: 0.9016393442622951.\n",
      "[I 2024-08-27 16:22:57,535] Trial 101 finished with value: 0.9016393442622951 and parameters: {'n_layers': 3, 'n_units_l0': 75, 'n_units_l1': 84, 'n_units_l2': 128, 'optimizer': 'Adam', 'lr': 6.991331756024646e-05}. Best is trial 50 with value: 0.9016393442622951.\n",
      "[I 2024-08-27 16:22:57,608] Trial 102 finished with value: 0.5245901639344263 and parameters: {'n_layers': 3, 'n_units_l0': 74, 'n_units_l1': 91, 'n_units_l2': 125, 'optimizer': 'Adam', 'lr': 2.8029306564542444e-05}. Best is trial 50 with value: 0.9016393442622951.\n",
      "[I 2024-08-27 16:22:57,683] Trial 103 finished with value: 0.9016393442622951 and parameters: {'n_layers': 3, 'n_units_l0': 83, 'n_units_l1': 86, 'n_units_l2': 128, 'optimizer': 'Adam', 'lr': 7.780409060785171e-05}. Best is trial 50 with value: 0.9016393442622951.\n",
      "[I 2024-08-27 16:22:57,758] Trial 104 finished with value: 0.8688524590163934 and parameters: {'n_layers': 3, 'n_units_l0': 77, 'n_units_l1': 85, 'n_units_l2': 128, 'optimizer': 'Adam', 'lr': 7.546953870599513e-05}. Best is trial 50 with value: 0.9016393442622951.\n",
      "[I 2024-08-27 16:22:57,855] Trial 105 finished with value: 0.6557377049180327 and parameters: {'n_layers': 3, 'n_units_l0': 88, 'n_units_l1': 79, 'n_units_l2': 123, 'optimizer': 'Adam', 'lr': 4.7071779151261444e-05}. Best is trial 50 with value: 0.9016393442622951.\n",
      "[I 2024-08-27 16:22:57,945] Trial 106 finished with value: 0.8524590163934426 and parameters: {'n_layers': 3, 'n_units_l0': 84, 'n_units_l1': 73, 'n_units_l2': 126, 'optimizer': 'Adam', 'lr': 0.00019193556671660524}. Best is trial 50 with value: 0.9016393442622951.\n",
      "[I 2024-08-27 16:22:58,016] Trial 107 finished with value: 0.8852459016393442 and parameters: {'n_layers': 3, 'n_units_l0': 82, 'n_units_l1': 83, 'n_units_l2': 65, 'optimizer': 'Adam', 'lr': 0.00010575606241136589}. Best is trial 50 with value: 0.9016393442622951.\n",
      "[I 2024-08-27 16:22:58,079] Trial 108 finished with value: 0.6065573770491803 and parameters: {'n_layers': 3, 'n_units_l0': 94, 'n_units_l1': 57, 'n_units_l2': 37, 'optimizer': 'Adagrad', 'lr': 0.00013827513686872917}. Best is trial 50 with value: 0.9016393442622951.\n",
      "[I 2024-08-27 16:22:58,152] Trial 109 finished with value: 0.8852459016393442 and parameters: {'n_layers': 3, 'n_units_l0': 91, 'n_units_l1': 77, 'n_units_l2': 119, 'optimizer': 'Adam', 'lr': 6.715982782455867e-05}. Best is trial 50 with value: 0.9016393442622951.\n",
      "[I 2024-08-27 16:22:58,224] Trial 110 finished with value: 0.8524590163934426 and parameters: {'n_layers': 3, 'n_units_l0': 100, 'n_units_l1': 60, 'n_units_l2': 21, 'optimizer': 'Adam', 'lr': 8.582033841246022e-05}. Best is trial 50 with value: 0.9016393442622951.\n",
      "[I 2024-08-27 16:22:58,298] Trial 111 finished with value: 0.8524590163934426 and parameters: {'n_layers': 3, 'n_units_l0': 71, 'n_units_l1': 97, 'n_units_l2': 124, 'optimizer': 'Adam', 'lr': 3.800255403135608e-05}. Best is trial 50 with value: 0.9016393442622951.\n",
      "[I 2024-08-27 16:22:58,371] Trial 112 finished with value: 0.8852459016393442 and parameters: {'n_layers': 3, 'n_units_l0': 126, 'n_units_l1': 88, 'n_units_l2': 120, 'optimizer': 'Adam', 'lr': 5.783919261367091e-05}. Best is trial 50 with value: 0.9016393442622951.\n",
      "[I 2024-08-27 16:22:58,443] Trial 113 finished with value: 0.8524590163934426 and parameters: {'n_layers': 3, 'n_units_l0': 67, 'n_units_l1': 102, 'n_units_l2': 71, 'optimizer': 'Adam', 'lr': 4.9525408216532854e-05}. Best is trial 50 with value: 0.9016393442622951.\n",
      "[I 2024-08-27 16:22:58,518] Trial 114 finished with value: 0.8688524590163934 and parameters: {'n_layers': 3, 'n_units_l0': 120, 'n_units_l1': 85, 'n_units_l2': 98, 'optimizer': 'Adam', 'lr': 0.0006333804890465284}. Best is trial 50 with value: 0.9016393442622951.\n",
      "[I 2024-08-27 16:22:58,597] Trial 115 finished with value: 0.29508196721311475 and parameters: {'n_layers': 3, 'n_units_l0': 78, 'n_units_l1': 92, 'n_units_l2': 112, 'optimizer': 'Adadelta', 'lr': 0.0014825134890080554}. Best is trial 50 with value: 0.9016393442622951.\n",
      "[I 2024-08-27 16:22:58,671] Trial 116 finished with value: 0.8688524590163934 and parameters: {'n_layers': 3, 'n_units_l0': 65, 'n_units_l1': 51, 'n_units_l2': 128, 'optimizer': 'Adam', 'lr': 0.00016590658294225852}. Best is trial 50 with value: 0.9016393442622951.\n",
      "[I 2024-08-27 16:22:58,747] Trial 117 finished with value: 0.8032786885245902 and parameters: {'n_layers': 3, 'n_units_l0': 118, 'n_units_l1': 69, 'n_units_l2': 121, 'optimizer': 'Adam', 'lr': 0.006701736937797325}. Best is trial 50 with value: 0.9016393442622951.\n",
      "[I 2024-08-27 16:22:58,817] Trial 118 finished with value: 0.5245901639344263 and parameters: {'n_layers': 3, 'n_units_l0': 22, 'n_units_l1': 99, 'n_units_l2': 64, 'optimizer': 'Adam', 'lr': 2.2829971036742572e-05}. Best is trial 50 with value: 0.9016393442622951.\n",
      "[I 2024-08-27 16:22:58,881] Trial 119 finished with value: 0.8360655737704918 and parameters: {'n_layers': 2, 'n_units_l0': 123, 'n_units_l1': 81, 'optimizer': 'AdamW', 'lr': 0.05682116171927603}. Best is trial 50 with value: 0.9016393442622951.\n",
      "[I 2024-08-27 16:22:58,955] Trial 120 finished with value: 0.8688524590163934 and parameters: {'n_layers': 3, 'n_units_l0': 106, 'n_units_l1': 94, 'n_units_l2': 16, 'optimizer': 'Adam', 'lr': 0.0019407472745184182}. Best is trial 50 with value: 0.9016393442622951.\n",
      "[I 2024-08-27 16:22:59,027] Trial 121 finished with value: 0.7868852459016393 and parameters: {'n_layers': 3, 'n_units_l0': 60, 'n_units_l1': 95, 'n_units_l2': 114, 'optimizer': 'Adam', 'lr': 6.370990182341332e-05}. Best is trial 50 with value: 0.9016393442622951.\n",
      "[I 2024-08-27 16:22:59,100] Trial 122 finished with value: 0.8688524590163934 and parameters: {'n_layers': 3, 'n_units_l0': 56, 'n_units_l1': 89, 'n_units_l2': 119, 'optimizer': 'Adam', 'lr': 7.382962217678735e-05}. Best is trial 50 with value: 0.9016393442622951.\n",
      "[I 2024-08-27 16:22:59,176] Trial 123 finished with value: 0.8852459016393442 and parameters: {'n_layers': 3, 'n_units_l0': 63, 'n_units_l1': 106, 'n_units_l2': 107, 'optimizer': 'Adam', 'lr': 9.424590807821245e-05}. Best is trial 50 with value: 0.9016393442622951.\n",
      "[I 2024-08-27 16:22:59,249] Trial 124 finished with value: 0.8524590163934426 and parameters: {'n_layers': 3, 'n_units_l0': 121, 'n_units_l1': 65, 'n_units_l2': 59, 'optimizer': 'Adam', 'lr': 3.5283025388323145e-05}. Best is trial 50 with value: 0.9016393442622951.\n",
      "[I 2024-08-27 16:22:59,321] Trial 125 finished with value: 0.8524590163934426 and parameters: {'n_layers': 3, 'n_units_l0': 66, 'n_units_l1': 39, 'n_units_l2': 124, 'optimizer': 'Adam', 'lr': 0.00010642139664982684}. Best is trial 50 with value: 0.9016393442622951.\n",
      "[I 2024-08-27 16:22:59,388] Trial 126 finished with value: 0.8524590163934426 and parameters: {'n_layers': 3, 'n_units_l0': 126, 'n_units_l1': 49, 'n_units_l2': 77, 'optimizer': 'RMSprop', 'lr': 0.005170905379082568}. Best is trial 50 with value: 0.9016393442622951.\n",
      "[I 2024-08-27 16:22:59,463] Trial 127 finished with value: 0.5245901639344263 and parameters: {'n_layers': 3, 'n_units_l0': 53, 'n_units_l1': 90, 'n_units_l2': 117, 'optimizer': 'Adadelta', 'lr': 0.01901855291738409}. Best is trial 50 with value: 0.9016393442622951.\n",
      "[I 2024-08-27 16:22:59,510] Trial 128 finished with value: 0.5245901639344263 and parameters: {'n_layers': 2, 'n_units_l0': 70, 'n_units_l1': 93, 'optimizer': 'SGD', 'lr': 8.034069201733892e-05}. Best is trial 50 with value: 0.9016393442622951.\n",
      "[I 2024-08-27 16:22:59,585] Trial 129 finished with value: 0.8852459016393442 and parameters: {'n_layers': 3, 'n_units_l0': 128, 'n_units_l1': 101, 'n_units_l2': 114, 'optimizer': 'Adam', 'lr': 0.00012021897189029232}. Best is trial 50 with value: 0.9016393442622951.\n",
      "[I 2024-08-27 16:22:59,656] Trial 130 finished with value: 0.47540983606557374 and parameters: {'n_layers': 3, 'n_units_l0': 62, 'n_units_l1': 96, 'n_units_l2': 67, 'optimizer': 'Adam', 'lr': 1.799004920755564e-05}. Best is trial 50 with value: 0.9016393442622951.\n",
      "[I 2024-08-27 16:22:59,728] Trial 131 finished with value: 0.7704918032786885 and parameters: {'n_layers': 3, 'n_units_l0': 75, 'n_units_l1': 46, 'n_units_l2': 109, 'optimizer': 'Adam', 'lr': 5.972273998634966e-05}. Best is trial 50 with value: 0.9016393442622951.\n",
      "[I 2024-08-27 16:22:59,798] Trial 132 finished with value: 0.7704918032786885 and parameters: {'n_layers': 3, 'n_units_l0': 72, 'n_units_l1': 53, 'n_units_l2': 109, 'optimizer': 'Adam', 'lr': 9.416229878408069e-05}. Best is trial 50 with value: 0.9016393442622951.\n",
      "[I 2024-08-27 16:22:59,871] Trial 133 finished with value: 0.7540983606557377 and parameters: {'n_layers': 3, 'n_units_l0': 81, 'n_units_l1': 58, 'n_units_l2': 112, 'optimizer': 'Adam', 'lr': 2.9449908025204593e-05}. Best is trial 50 with value: 0.9016393442622951.\n",
      "[I 2024-08-27 16:22:59,943] Trial 134 finished with value: 0.7868852459016393 and parameters: {'n_layers': 3, 'n_units_l0': 59, 'n_units_l1': 55, 'n_units_l2': 91, 'optimizer': 'Adam', 'lr': 3.979775785193816e-05}. Best is trial 50 with value: 0.9016393442622951.\n",
      "[I 2024-08-27 16:23:00,016] Trial 135 finished with value: 0.7377049180327869 and parameters: {'n_layers': 3, 'n_units_l0': 68, 'n_units_l1': 71, 'n_units_l2': 101, 'optimizer': 'Adam', 'lr': 7.048598543242865e-05}. Best is trial 50 with value: 0.9016393442622951.\n",
      "[I 2024-08-27 16:23:00,081] Trial 136 finished with value: 0.5245901639344263 and parameters: {'n_layers': 3, 'n_units_l0': 73, 'n_units_l1': 62, 'n_units_l2': 126, 'optimizer': 'Adagrad', 'lr': 5.0009006769363134e-05}. Best is trial 50 with value: 0.9016393442622951.\n",
      "[I 2024-08-27 16:23:00,154] Trial 137 finished with value: 0.9180327868852459 and parameters: {'n_layers': 3, 'n_units_l0': 124, 'n_units_l1': 60, 'n_units_l2': 106, 'optimizer': 'Adam', 'lr': 8.148400753807485e-05}. Best is trial 137 with value: 0.9180327868852459.\n",
      "[I 2024-08-27 16:23:00,228] Trial 138 finished with value: 0.8852459016393442 and parameters: {'n_layers': 3, 'n_units_l0': 117, 'n_units_l1': 66, 'n_units_l2': 122, 'optimizer': 'Adam', 'lr': 0.00013907375476730907}. Best is trial 137 with value: 0.9180327868852459.\n",
      "[I 2024-08-27 16:23:00,289] Trial 139 finished with value: 0.8688524590163934 and parameters: {'n_layers': 2, 'n_units_l0': 123, 'n_units_l1': 60, 'optimizer': 'Adam', 'lr': 0.0011263922045044346}. Best is trial 137 with value: 0.9180327868852459.\n",
      "[I 2024-08-27 16:23:00,340] Trial 140 finished with value: 0.8360655737704918 and parameters: {'n_layers': 1, 'n_units_l0': 120, 'optimizer': 'Adadelta', 'lr': 0.00908487463430055}. Best is trial 137 with value: 0.9180327868852459.\n",
      "[I 2024-08-27 16:23:00,412] Trial 141 finished with value: 0.8688524590163934 and parameters: {'n_layers': 3, 'n_units_l0': 125, 'n_units_l1': 55, 'n_units_l2': 71, 'optimizer': 'Adam', 'lr': 8.321224278555193e-05}. Best is trial 137 with value: 0.9180327868852459.\n",
      "[I 2024-08-27 16:23:00,484] Trial 142 finished with value: 0.639344262295082 and parameters: {'n_layers': 3, 'n_units_l0': 84, 'n_units_l1': 56, 'n_units_l2': 105, 'optimizer': 'Adam', 'lr': 6.287544689781354e-05}. Best is trial 137 with value: 0.9180327868852459.\n",
      "[I 2024-08-27 16:23:00,557] Trial 143 finished with value: 0.8688524590163934 and parameters: {'n_layers': 3, 'n_units_l0': 112, 'n_units_l1': 43, 'n_units_l2': 117, 'optimizer': 'Adam', 'lr': 0.00011310400025702352}. Best is trial 137 with value: 0.9180327868852459.\n",
      "[I 2024-08-27 16:23:00,631] Trial 144 finished with value: 0.8852459016393442 and parameters: {'n_layers': 3, 'n_units_l0': 124, 'n_units_l1': 76, 'n_units_l2': 110, 'optimizer': 'Adam', 'lr': 4.566079887372251e-05}. Best is trial 137 with value: 0.9180327868852459.\n",
      "[I 2024-08-27 16:23:00,703] Trial 145 finished with value: 0.8524590163934426 and parameters: {'n_layers': 3, 'n_units_l0': 97, 'n_units_l1': 52, 'n_units_l2': 80, 'optimizer': 'Adam', 'lr': 9.454975755609388e-05}. Best is trial 137 with value: 0.9180327868852459.\n",
      "[I 2024-08-27 16:23:00,777] Trial 146 finished with value: 0.9180327868852459 and parameters: {'n_layers': 3, 'n_units_l0': 115, 'n_units_l1': 73, 'n_units_l2': 106, 'optimizer': 'Adam', 'lr': 5.530275202782377e-05}. Best is trial 137 with value: 0.9180327868852459.\n",
      "[I 2024-08-27 16:23:00,850] Trial 147 finished with value: 0.8688524590163934 and parameters: {'n_layers': 3, 'n_units_l0': 116, 'n_units_l1': 68, 'n_units_l2': 107, 'optimizer': 'Adam', 'lr': 5.744202827712619e-05}. Best is trial 137 with value: 0.9180327868852459.\n",
      "[I 2024-08-27 16:23:00,912] Trial 148 finished with value: 0.8852459016393442 and parameters: {'n_layers': 2, 'n_units_l0': 119, 'n_units_l1': 72, 'optimizer': 'Adam', 'lr': 3.2622767163402866e-05}. Best is trial 137 with value: 0.9180327868852459.\n",
      "[I 2024-08-27 16:23:00,990] Trial 149 finished with value: 0.9016393442622951 and parameters: {'n_layers': 3, 'n_units_l0': 122, 'n_units_l1': 84, 'n_units_l2': 75, 'optimizer': 'Adam', 'lr': 7.417837462635805e-05}. Best is trial 137 with value: 0.9180327868852459.\n",
      "[I 2024-08-27 16:23:01,067] Trial 150 finished with value: 0.8032786885245902 and parameters: {'n_layers': 3, 'n_units_l0': 121, 'n_units_l1': 84, 'n_units_l2': 94, 'optimizer': 'AdamW', 'lr': 7.377395724221299e-05}. Best is trial 137 with value: 0.9180327868852459.\n",
      "[I 2024-08-27 16:23:01,141] Trial 151 finished with value: 0.8360655737704918 and parameters: {'n_layers': 3, 'n_units_l0': 127, 'n_units_l1': 86, 'n_units_l2': 74, 'optimizer': 'Adam', 'lr': 5.4124813111268616e-05}. Best is trial 137 with value: 0.9180327868852459.\n",
      "[I 2024-08-27 16:23:01,216] Trial 152 finished with value: 0.8688524590163934 and parameters: {'n_layers': 3, 'n_units_l0': 114, 'n_units_l1': 80, 'n_units_l2': 83, 'optimizer': 'Adam', 'lr': 4.4420834132646396e-05}. Best is trial 137 with value: 0.9180327868852459.\n",
      "[I 2024-08-27 16:23:01,289] Trial 153 finished with value: 0.8688524590163934 and parameters: {'n_layers': 3, 'n_units_l0': 122, 'n_units_l1': 82, 'n_units_l2': 57, 'optimizer': 'Adam', 'lr': 7.463294712903285e-05}. Best is trial 137 with value: 0.9180327868852459.\n",
      "[I 2024-08-27 16:23:01,381] Trial 154 finished with value: 0.8852459016393442 and parameters: {'n_layers': 3, 'n_units_l0': 118, 'n_units_l1': 104, 'n_units_l2': 101, 'optimizer': 'Adam', 'lr': 0.00011453303810771856}. Best is trial 137 with value: 0.9180327868852459.\n",
      "[I 2024-08-27 16:23:01,456] Trial 155 finished with value: 0.8688524590163934 and parameters: {'n_layers': 3, 'n_units_l0': 125, 'n_units_l1': 98, 'n_units_l2': 62, 'optimizer': 'Adam', 'lr': 6.184165299011263e-05}. Best is trial 137 with value: 0.9180327868852459.\n",
      "[I 2024-08-27 16:23:01,523] Trial 156 finished with value: 0.8360655737704918 and parameters: {'n_layers': 3, 'n_units_l0': 128, 'n_units_l1': 74, 'n_units_l2': 69, 'optimizer': 'RMSprop', 'lr': 8.767315991278471e-05}. Best is trial 137 with value: 0.9180327868852459.\n",
      "[I 2024-08-27 16:23:01,599] Trial 157 finished with value: 0.8524590163934426 and parameters: {'n_layers': 3, 'n_units_l0': 108, 'n_units_l1': 87, 'n_units_l2': 128, 'optimizer': 'Adam', 'lr': 0.0028920176809445904}. Best is trial 137 with value: 0.9180327868852459.\n",
      "[I 2024-08-27 16:23:01,645] Trial 158 finished with value: 0.6557377049180327 and parameters: {'n_layers': 2, 'n_units_l0': 91, 'n_units_l1': 69, 'optimizer': 'SGD', 'lr': 0.000293645160415896}. Best is trial 137 with value: 0.9180327868852459.\n",
      "[I 2024-08-27 16:23:01,722] Trial 159 finished with value: 0.7213114754098361 and parameters: {'n_layers': 3, 'n_units_l0': 116, 'n_units_l1': 90, 'n_units_l2': 124, 'optimizer': 'Adam', 'lr': 5.122982711366988e-05}. Best is trial 137 with value: 0.9180327868852459.\n",
      "[I 2024-08-27 16:23:01,800] Trial 160 finished with value: 0.5245901639344263 and parameters: {'n_layers': 3, 'n_units_l0': 122, 'n_units_l1': 77, 'n_units_l2': 121, 'optimizer': 'Adadelta', 'lr': 4.192335327460364e-05}. Best is trial 137 with value: 0.9180327868852459.\n",
      "[I 2024-08-27 16:23:01,872] Trial 161 finished with value: 0.8360655737704918 and parameters: {'n_layers': 3, 'n_units_l0': 65, 'n_units_l1': 59, 'n_units_l2': 106, 'optimizer': 'Adam', 'lr': 9.41303030977643e-05}. Best is trial 137 with value: 0.9180327868852459.\n",
      "[I 2024-08-27 16:23:01,944] Trial 162 finished with value: 0.7868852459016393 and parameters: {'n_layers': 3, 'n_units_l0': 125, 'n_units_l1': 49, 'n_units_l2': 66, 'optimizer': 'Adam', 'lr': 6.894845466411864e-05}. Best is trial 137 with value: 0.9180327868852459.\n",
      "[I 2024-08-27 16:23:01,992] Trial 163 finished with value: 0.8524590163934426 and parameters: {'n_layers': 1, 'n_units_l0': 69, 'optimizer': 'Adam', 'lr': 0.0004999898568628421}. Best is trial 137 with value: 0.9180327868852459.\n",
      "[I 2024-08-27 16:23:02,066] Trial 164 finished with value: 0.8688524590163934 and parameters: {'n_layers': 3, 'n_units_l0': 119, 'n_units_l1': 63, 'n_units_l2': 114, 'optimizer': 'Adam', 'lr': 0.00015546057691893619}. Best is trial 137 with value: 0.9180327868852459.\n",
      "[I 2024-08-27 16:23:02,140] Trial 165 finished with value: 0.8524590163934426 and parameters: {'n_layers': 3, 'n_units_l0': 123, 'n_units_l1': 96, 'n_units_l2': 102, 'optimizer': 'Adam', 'lr': 0.00012691250474690692}. Best is trial 137 with value: 0.9180327868852459.\n",
      "[I 2024-08-27 16:23:02,212] Trial 166 finished with value: 0.8524590163934426 and parameters: {'n_layers': 3, 'n_units_l0': 62, 'n_units_l1': 47, 'n_units_l2': 53, 'optimizer': 'Adam', 'lr': 8.171706647397016e-05}. Best is trial 137 with value: 0.9180327868852459.\n",
      "[I 2024-08-27 16:23:02,286] Trial 167 finished with value: 0.8688524590163934 and parameters: {'n_layers': 3, 'n_units_l0': 76, 'n_units_l1': 92, 'n_units_l2': 110, 'optimizer': 'Adam', 'lr': 0.000722596509168181}. Best is trial 137 with value: 0.9180327868852459.\n",
      "[I 2024-08-27 16:23:02,362] Trial 168 finished with value: 0.9016393442622951 and parameters: {'n_layers': 3, 'n_units_l0': 112, 'n_units_l1': 100, 'n_units_l2': 126, 'optimizer': 'Adam', 'lr': 6.680030570454329e-05}. Best is trial 137 with value: 0.9180327868852459.\n",
      "[I 2024-08-27 16:23:02,430] Trial 169 finished with value: 0.5409836065573771 and parameters: {'n_layers': 3, 'n_units_l0': 114, 'n_units_l1': 102, 'n_units_l2': 128, 'optimizer': 'Adagrad', 'lr': 3.6434480144159936e-05}. Best is trial 137 with value: 0.9180327868852459.\n",
      "[I 2024-08-27 16:23:02,507] Trial 170 finished with value: 0.8524590163934426 and parameters: {'n_layers': 3, 'n_units_l0': 112, 'n_units_l1': 113, 'n_units_l2': 125, 'optimizer': 'Adam', 'lr': 6.527535509206163e-05}. Best is trial 137 with value: 0.9180327868852459.\n",
      "[I 2024-08-27 16:23:02,583] Trial 171 finished with value: 0.8852459016393442 and parameters: {'n_layers': 3, 'n_units_l0': 110, 'n_units_l1': 99, 'n_units_l2': 126, 'optimizer': 'Adam', 'lr': 0.00010384289821607862}. Best is trial 137 with value: 0.9180327868852459.\n",
      "[I 2024-08-27 16:23:02,658] Trial 172 finished with value: 0.8688524590163934 and parameters: {'n_layers': 3, 'n_units_l0': 120, 'n_units_l1': 65, 'n_units_l2': 123, 'optimizer': 'Adam', 'lr': 5.3737146086345966e-05}. Best is trial 137 with value: 0.9180327868852459.\n",
      "[I 2024-08-27 16:23:02,730] Trial 173 finished with value: 0.8688524590163934 and parameters: {'n_layers': 3, 'n_units_l0': 117, 'n_units_l1': 51, 'n_units_l2': 119, 'optimizer': 'Adam', 'lr': 8.014078453756796e-05}. Best is trial 137 with value: 0.9180327868852459.\n",
      "[I 2024-08-27 16:23:02,805] Trial 174 finished with value: 0.9016393442622951 and parameters: {'n_layers': 3, 'n_units_l0': 121, 'n_units_l1': 94, 'n_units_l2': 115, 'optimizer': 'Adam', 'lr': 6.169244227595008e-05}. Best is trial 137 with value: 0.9180327868852459.\n",
      "[I 2024-08-27 16:23:02,881] Trial 175 finished with value: 0.9016393442622951 and parameters: {'n_layers': 3, 'n_units_l0': 122, 'n_units_l1': 100, 'n_units_l2': 115, 'optimizer': 'Adam', 'lr': 6.349901170523536e-05}. Best is trial 137 with value: 0.9180327868852459.\n",
      "[I 2024-08-27 16:23:02,958] Trial 176 finished with value: 0.8852459016393442 and parameters: {'n_layers': 3, 'n_units_l0': 121, 'n_units_l1': 106, 'n_units_l2': 116, 'optimizer': 'Adam', 'lr': 4.471173329818695e-05}. Best is trial 137 with value: 0.9180327868852459.\n",
      "[I 2024-08-27 16:23:03,038] Trial 177 finished with value: 0.8852459016393442 and parameters: {'n_layers': 3, 'n_units_l0': 126, 'n_units_l1': 100, 'n_units_l2': 121, 'optimizer': 'Adam', 'lr': 5.710086575743198e-05}. Best is trial 137 with value: 0.9180327868852459.\n",
      "[I 2024-08-27 16:23:03,112] Trial 178 finished with value: 0.8524590163934426 and parameters: {'n_layers': 3, 'n_units_l0': 101, 'n_units_l1': 94, 'n_units_l2': 60, 'optimizer': 'Adam', 'lr': 0.012299769070024934}. Best is trial 137 with value: 0.9180327868852459.\n",
      "[I 2024-08-27 16:23:03,191] Trial 179 finished with value: 0.6557377049180327 and parameters: {'n_layers': 3, 'n_units_l0': 118, 'n_units_l1': 96, 'n_units_l2': 112, 'optimizer': 'Adadelta', 'lr': 7.087860227784138e-05}. Best is trial 137 with value: 0.9180327868852459.\n",
      "[I 2024-08-27 16:23:03,267] Trial 180 finished with value: 0.8688524590163934 and parameters: {'n_layers': 3, 'n_units_l0': 124, 'n_units_l1': 103, 'n_units_l2': 71, 'optimizer': 'Adam', 'lr': 2.8116478253390537e-05}. Best is trial 137 with value: 0.9180327868852459.\n",
      "[I 2024-08-27 16:23:03,345] Trial 181 finished with value: 0.8524590163934426 and parameters: {'n_layers': 3, 'n_units_l0': 122, 'n_units_l1': 100, 'n_units_l2': 118, 'optimizer': 'Adam', 'lr': 5.240029955361932e-05}. Best is trial 137 with value: 0.9180327868852459.\n",
      "[I 2024-08-27 16:23:03,422] Trial 182 finished with value: 0.8852459016393442 and parameters: {'n_layers': 3, 'n_units_l0': 115, 'n_units_l1': 109, 'n_units_l2': 114, 'optimizer': 'Adam', 'lr': 6.586705809837017e-05}. Best is trial 137 with value: 0.9180327868852459.\n",
      "[I 2024-08-27 16:23:03,495] Trial 183 finished with value: 0.8688524590163934 and parameters: {'n_layers': 3, 'n_units_l0': 119, 'n_units_l1': 92, 'n_units_l2': 64, 'optimizer': 'Adam', 'lr': 8.565514092767825e-05}. Best is trial 137 with value: 0.9180327868852459.\n",
      "[I 2024-08-27 16:23:03,572] Trial 184 finished with value: 0.8688524590163934 and parameters: {'n_layers': 3, 'n_units_l0': 128, 'n_units_l1': 97, 'n_units_l2': 123, 'optimizer': 'Adam', 'lr': 4.02467456257329e-05}. Best is trial 137 with value: 0.9180327868852459.\n",
      "[I 2024-08-27 16:23:03,636] Trial 185 finished with value: 0.9016393442622951 and parameters: {'n_layers': 2, 'n_units_l0': 124, 'n_units_l1': 89, 'optimizer': 'Adam', 'lr': 6.371067929336075e-05}. Best is trial 137 with value: 0.9180327868852459.\n",
      "[I 2024-08-27 16:23:03,699] Trial 186 finished with value: 0.8688524590163934 and parameters: {'n_layers': 2, 'n_units_l0': 124, 'n_units_l1': 89, 'optimizer': 'Adam', 'lr': 0.0023696460763464105}. Best is trial 137 with value: 0.9180327868852459.\n",
      "[I 2024-08-27 16:23:03,763] Trial 187 finished with value: 0.9016393442622951 and parameters: {'n_layers': 2, 'n_units_l0': 121, 'n_units_l1': 83, 'optimizer': 'AdamW', 'lr': 5.8390055573221014e-05}. Best is trial 137 with value: 0.9180327868852459.\n",
      "[I 2024-08-27 16:23:03,826] Trial 188 finished with value: 0.8852459016393442 and parameters: {'n_layers': 2, 'n_units_l0': 121, 'n_units_l1': 83, 'optimizer': 'AdamW', 'lr': 0.00010679940996059197}. Best is trial 137 with value: 0.9180327868852459.\n",
      "[I 2024-08-27 16:23:03,891] Trial 189 finished with value: 0.8524590163934426 and parameters: {'n_layers': 2, 'n_units_l0': 126, 'n_units_l1': 87, 'optimizer': 'AdamW', 'lr': 4.833439692737519e-05}. Best is trial 137 with value: 0.9180327868852459.\n",
      "[I 2024-08-27 16:23:03,955] Trial 190 finished with value: 0.8524590163934426 and parameters: {'n_layers': 2, 'n_units_l0': 123, 'n_units_l1': 78, 'optimizer': 'AdamW', 'lr': 0.037818810099084665}. Best is trial 137 with value: 0.9180327868852459.\n",
      "[I 2024-08-27 16:23:04,036] Trial 191 finished with value: 0.819672131147541 and parameters: {'n_layers': 2, 'n_units_l0': 117, 'n_units_l1': 88, 'optimizer': 'AdamW', 'lr': 0.07493118149235697}. Best is trial 137 with value: 0.9180327868852459.\n",
      "[I 2024-08-27 16:23:04,098] Trial 192 finished with value: 0.819672131147541 and parameters: {'n_layers': 2, 'n_units_l0': 122, 'n_units_l1': 84, 'optimizer': 'Adam', 'lr': 6.17965342181128e-05}. Best is trial 137 with value: 0.9180327868852459.\n",
      "[I 2024-08-27 16:23:04,161] Trial 193 finished with value: 0.8688524590163934 and parameters: {'n_layers': 2, 'n_units_l0': 119, 'n_units_l1': 81, 'optimizer': 'Adam', 'lr': 7.254540581518117e-05}. Best is trial 137 with value: 0.9180327868852459.\n",
      "[I 2024-08-27 16:23:04,223] Trial 194 finished with value: 0.9016393442622951 and parameters: {'n_layers': 2, 'n_units_l0': 126, 'n_units_l1': 93, 'optimizer': 'Adam', 'lr': 5.632791210021814e-05}. Best is trial 137 with value: 0.9180327868852459.\n",
      "[I 2024-08-27 16:23:04,286] Trial 195 finished with value: 0.8360655737704918 and parameters: {'n_layers': 2, 'n_units_l0': 125, 'n_units_l1': 90, 'optimizer': 'Adam', 'lr': 8.087948546893144e-05}. Best is trial 137 with value: 0.9180327868852459.\n",
      "[I 2024-08-27 16:23:04,349] Trial 196 finished with value: 0.8688524590163934 and parameters: {'n_layers': 2, 'n_units_l0': 128, 'n_units_l1': 94, 'optimizer': 'AdamW', 'lr': 0.015658582203757668}. Best is trial 137 with value: 0.9180327868852459.\n",
      "[I 2024-08-27 16:23:04,408] Trial 197 finished with value: 0.8852459016393442 and parameters: {'n_layers': 2, 'n_units_l0': 120, 'n_units_l1': 71, 'optimizer': 'RMSprop', 'lr': 5.367633167806441e-05}. Best is trial 137 with value: 0.9180327868852459.\n",
      "[I 2024-08-27 16:23:04,470] Trial 198 finished with value: 0.7868852459016393 and parameters: {'n_layers': 2, 'n_units_l0': 126, 'n_units_l1': 86, 'optimizer': 'Adam', 'lr': 3.410201838537495e-05}. Best is trial 137 with value: 0.9180327868852459.\n",
      "[I 2024-08-27 16:23:04,518] Trial 199 finished with value: 0.26229508196721313 and parameters: {'n_layers': 2, 'n_units_l0': 123, 'n_units_l1': 98, 'optimizer': 'SGD', 'lr': 6.165674444734674e-05}. Best is trial 137 with value: 0.9180327868852459.\n"
     ]
    },
    {
     "name": "stdout",
     "output_type": "stream",
     "text": [
      "Best trial:\n",
      "  Accuracy: 0.9180327868852459\n",
      "  Best hyperparameters: \n",
      "    n_layers: 3\n",
      "    n_units_l0: 124\n",
      "    n_units_l1: 60\n",
      "    n_units_l2: 106\n",
      "    optimizer: Adam\n",
      "    lr: 8.148400753807485e-05\n"
     ]
    }
   ],
   "source": [
    "import optuna\n",
    "# Define the neural network model inside an objective function for Optuna\n",
    "def objective(trial):\n",
    "    # Suggest hyperparameters\n",
    "    n_layers = trial.suggest_int('n_layers', 1, 3)\n",
    "    layers = []\n",
    "    input_size = X_train.shape[1]\n",
    "    \n",
    "    for i in range(n_layers):\n",
    "        num_hidden_units = trial.suggest_int(f'n_units_l{i}', 16, 128)\n",
    "        layers.append(nn.Linear(input_size, num_hidden_units))\n",
    "        layers.append(nn.ReLU())\n",
    "        input_size = num_hidden_units\n",
    "    \n",
    "    layers.append(nn.Linear(input_size, 1))\n",
    "    layers.append(nn.Sigmoid())  # Assuming binary classification\n",
    "    \n",
    "    model = nn.Sequential(*layers)\n",
    "    \n",
    "    # Suggest optimizer\n",
    "    optimizer_name = trial.suggest_categorical('optimizer', ['Adam', 'RMSprop', 'SGD', 'Adadelta', 'Adagrad', 'AdamW'])\n",
    "    lr = trial.suggest_loguniform('lr', 1e-5, 1e-1)\n",
    "    \n",
    "    optimizer = getattr(optim, optimizer_name)(model.parameters(), lr=lr)\n",
    "    \n",
    "    # Define loss function\n",
    "    criterion = nn.BCELoss()\n",
    "    \n",
    "    # Training loop\n",
    "    num_epochs = 20\n",
    "    for epoch in range(num_epochs):\n",
    "        model.train()\n",
    "        running_loss = 0.0\n",
    "        for X_batch, y_batch in train_loader:\n",
    "            optimizer.zero_grad()\n",
    "            outputs = model(X_batch).squeeze()\n",
    "            loss = criterion(outputs, y_batch)\n",
    "            loss.backward()\n",
    "            optimizer.step()\n",
    "            running_loss += loss.item()\n",
    "    \n",
    "    # Validation loop\n",
    "    model.eval()\n",
    "    with torch.no_grad():\n",
    "        correct = 0\n",
    "        total = 0\n",
    "        for X_batch, y_batch in test_loader:\n",
    "            outputs = model(X_batch).squeeze()\n",
    "            predicted = (outputs > 0.5).float()\n",
    "            total += y_batch.size(0)\n",
    "            correct += (predicted == y_batch).sum().item()\n",
    "    \n",
    "    accuracy = correct / total\n",
    "    return accuracy\n",
    "\n",
    "# Optimize the objective function\n",
    "study = optuna.create_study(direction='maximize')\n",
    "study.optimize(objective, n_trials=200)\n",
    "\n",
    "# Print best trial\n",
    "print(\"Best trial:\")\n",
    "trial = study.best_trial\n",
    "\n",
    "print(f\"  Accuracy: {trial.value}\")\n",
    "print(\"  Best hyperparameters: \")\n",
    "for key, value in trial.params.items():\n",
    "    print(f\"    {key}: {value}\")"
   ]
  },
  {
   "cell_type": "code",
   "execution_count": 19,
   "metadata": {},
   "outputs": [
    {
     "data": {
      "application/vnd.plotly.v1+json": {
       "config": {
        "plotlyServerURL": "https://plot.ly"
       },
       "data": [
        {
         "mode": "markers",
         "name": "Objective Value",
         "type": "scatter",
         "x": [
          0,
          1,
          2,
          3,
          4,
          5,
          6,
          7,
          8,
          9,
          10,
          11,
          12,
          13,
          14,
          15,
          16,
          17,
          18,
          19,
          20,
          21,
          22,
          23,
          24,
          25,
          26,
          27,
          28,
          29,
          30,
          31,
          32,
          33,
          34,
          35,
          36,
          37,
          38,
          39,
          40,
          41,
          42,
          43,
          44,
          45,
          46,
          47,
          48,
          49,
          50,
          51,
          52,
          53,
          54,
          55,
          56,
          57,
          58,
          59,
          60,
          61,
          62,
          63,
          64,
          65,
          66,
          67,
          68,
          69,
          70,
          71,
          72,
          73,
          74,
          75,
          76,
          77,
          78,
          79,
          80,
          81,
          82,
          83,
          84,
          85,
          86,
          87,
          88,
          89,
          90,
          91,
          92,
          93,
          94,
          95,
          96,
          97,
          98,
          99,
          100,
          101,
          102,
          103,
          104,
          105,
          106,
          107,
          108,
          109,
          110,
          111,
          112,
          113,
          114,
          115,
          116,
          117,
          118,
          119,
          120,
          121,
          122,
          123,
          124,
          125,
          126,
          127,
          128,
          129,
          130,
          131,
          132,
          133,
          134,
          135,
          136,
          137,
          138,
          139,
          140,
          141,
          142,
          143,
          144,
          145,
          146,
          147,
          148,
          149,
          150,
          151,
          152,
          153,
          154,
          155,
          156,
          157,
          158,
          159,
          160,
          161,
          162,
          163,
          164,
          165,
          166,
          167,
          168,
          169,
          170,
          171,
          172,
          173,
          174,
          175,
          176,
          177,
          178,
          179,
          180,
          181,
          182,
          183,
          184,
          185,
          186,
          187,
          188,
          189,
          190,
          191,
          192,
          193,
          194,
          195,
          196,
          197,
          198,
          199
         ],
         "y": [
          0.5245901639344263,
          0.8360655737704918,
          0.8852459016393442,
          0.6885245901639344,
          0.8688524590163934,
          0.8688524590163934,
          0.8524590163934426,
          0.5573770491803278,
          0.4918032786885246,
          0.8524590163934426,
          0.5245901639344263,
          0.819672131147541,
          0.5245901639344263,
          0.8852459016393442,
          0.8852459016393442,
          0.8688524590163934,
          0.8524590163934426,
          0.7704918032786885,
          0.47540983606557374,
          0.8524590163934426,
          0.8852459016393442,
          0.8360655737704918,
          0.8524590163934426,
          0.8524590163934426,
          0.8688524590163934,
          0.8688524590163934,
          0.8360655737704918,
          0.8360655737704918,
          0.8688524590163934,
          0.47540983606557374,
          0.5245901639344263,
          0.8688524590163934,
          0.8852459016393442,
          0.5245901639344263,
          0.8688524590163934,
          0.6557377049180327,
          0.8360655737704918,
          0.6885245901639344,
          0.5245901639344263,
          0.8688524590163934,
          0.8524590163934426,
          0.8852459016393442,
          0.819672131147541,
          0.7704918032786885,
          0.8360655737704918,
          0.5409836065573771,
          0.7377049180327869,
          0.8524590163934426,
          0.6721311475409836,
          0.8524590163934426,
          0.9016393442622951,
          0.47540983606557374,
          0.5573770491803278,
          0.8360655737704918,
          0.8524590163934426,
          0.47540983606557374,
          0.5245901639344263,
          0.7868852459016393,
          0.5245901639344263,
          0.8688524590163934,
          0.8524590163934426,
          0.8688524590163934,
          0.7704918032786885,
          0.8688524590163934,
          0.5245901639344263,
          0.8524590163934426,
          0.8524590163934426,
          0.8360655737704918,
          0.8852459016393442,
          0.8524590163934426,
          0.9016393442622951,
          0.5245901639344263,
          0.47540983606557374,
          0.8688524590163934,
          0.47540983606557374,
          0.8360655737704918,
          0.5245901639344263,
          0.8688524590163934,
          0.8688524590163934,
          0.9016393442622951,
          0.5245901639344263,
          0.9016393442622951,
          0.8688524590163934,
          0.5245901639344263,
          0.7049180327868853,
          0.8032786885245902,
          0.8524590163934426,
          0.8688524590163934,
          0.7704918032786885,
          0.6721311475409836,
          0.8688524590163934,
          0.8852459016393442,
          0.8852459016393442,
          0.9016393442622951,
          0.8852459016393442,
          0.8524590163934426,
          0.8688524590163934,
          0.5737704918032787,
          0.8852459016393442,
          0.5245901639344263,
          0.47540983606557374,
          0.9016393442622951,
          0.5245901639344263,
          0.9016393442622951,
          0.8688524590163934,
          0.6557377049180327,
          0.8524590163934426,
          0.8852459016393442,
          0.6065573770491803,
          0.8852459016393442,
          0.8524590163934426,
          0.8524590163934426,
          0.8852459016393442,
          0.8524590163934426,
          0.8688524590163934,
          0.29508196721311475,
          0.8688524590163934,
          0.8032786885245902,
          0.5245901639344263,
          0.8360655737704918,
          0.8688524590163934,
          0.7868852459016393,
          0.8688524590163934,
          0.8852459016393442,
          0.8524590163934426,
          0.8524590163934426,
          0.8524590163934426,
          0.5245901639344263,
          0.5245901639344263,
          0.8852459016393442,
          0.47540983606557374,
          0.7704918032786885,
          0.7704918032786885,
          0.7540983606557377,
          0.7868852459016393,
          0.7377049180327869,
          0.5245901639344263,
          0.9180327868852459,
          0.8852459016393442,
          0.8688524590163934,
          0.8360655737704918,
          0.8688524590163934,
          0.639344262295082,
          0.8688524590163934,
          0.8852459016393442,
          0.8524590163934426,
          0.9180327868852459,
          0.8688524590163934,
          0.8852459016393442,
          0.9016393442622951,
          0.8032786885245902,
          0.8360655737704918,
          0.8688524590163934,
          0.8688524590163934,
          0.8852459016393442,
          0.8688524590163934,
          0.8360655737704918,
          0.8524590163934426,
          0.6557377049180327,
          0.7213114754098361,
          0.5245901639344263,
          0.8360655737704918,
          0.7868852459016393,
          0.8524590163934426,
          0.8688524590163934,
          0.8524590163934426,
          0.8524590163934426,
          0.8688524590163934,
          0.9016393442622951,
          0.5409836065573771,
          0.8524590163934426,
          0.8852459016393442,
          0.8688524590163934,
          0.8688524590163934,
          0.9016393442622951,
          0.9016393442622951,
          0.8852459016393442,
          0.8852459016393442,
          0.8524590163934426,
          0.6557377049180327,
          0.8688524590163934,
          0.8524590163934426,
          0.8852459016393442,
          0.8688524590163934,
          0.8688524590163934,
          0.9016393442622951,
          0.8688524590163934,
          0.9016393442622951,
          0.8852459016393442,
          0.8524590163934426,
          0.8524590163934426,
          0.819672131147541,
          0.819672131147541,
          0.8688524590163934,
          0.9016393442622951,
          0.8360655737704918,
          0.8688524590163934,
          0.8852459016393442,
          0.7868852459016393,
          0.26229508196721313
         ]
        },
        {
         "mode": "lines",
         "name": "Best Value",
         "type": "scatter",
         "x": [
          0,
          1,
          2,
          3,
          4,
          5,
          6,
          7,
          8,
          9,
          10,
          11,
          12,
          13,
          14,
          15,
          16,
          17,
          18,
          19,
          20,
          21,
          22,
          23,
          24,
          25,
          26,
          27,
          28,
          29,
          30,
          31,
          32,
          33,
          34,
          35,
          36,
          37,
          38,
          39,
          40,
          41,
          42,
          43,
          44,
          45,
          46,
          47,
          48,
          49,
          50,
          51,
          52,
          53,
          54,
          55,
          56,
          57,
          58,
          59,
          60,
          61,
          62,
          63,
          64,
          65,
          66,
          67,
          68,
          69,
          70,
          71,
          72,
          73,
          74,
          75,
          76,
          77,
          78,
          79,
          80,
          81,
          82,
          83,
          84,
          85,
          86,
          87,
          88,
          89,
          90,
          91,
          92,
          93,
          94,
          95,
          96,
          97,
          98,
          99,
          100,
          101,
          102,
          103,
          104,
          105,
          106,
          107,
          108,
          109,
          110,
          111,
          112,
          113,
          114,
          115,
          116,
          117,
          118,
          119,
          120,
          121,
          122,
          123,
          124,
          125,
          126,
          127,
          128,
          129,
          130,
          131,
          132,
          133,
          134,
          135,
          136,
          137,
          138,
          139,
          140,
          141,
          142,
          143,
          144,
          145,
          146,
          147,
          148,
          149,
          150,
          151,
          152,
          153,
          154,
          155,
          156,
          157,
          158,
          159,
          160,
          161,
          162,
          163,
          164,
          165,
          166,
          167,
          168,
          169,
          170,
          171,
          172,
          173,
          174,
          175,
          176,
          177,
          178,
          179,
          180,
          181,
          182,
          183,
          184,
          185,
          186,
          187,
          188,
          189,
          190,
          191,
          192,
          193,
          194,
          195,
          196,
          197,
          198,
          199
         ],
         "y": [
          0.5245901639344263,
          0.8360655737704918,
          0.8852459016393442,
          0.8852459016393442,
          0.8852459016393442,
          0.8852459016393442,
          0.8852459016393442,
          0.8852459016393442,
          0.8852459016393442,
          0.8852459016393442,
          0.8852459016393442,
          0.8852459016393442,
          0.8852459016393442,
          0.8852459016393442,
          0.8852459016393442,
          0.8852459016393442,
          0.8852459016393442,
          0.8852459016393442,
          0.8852459016393442,
          0.8852459016393442,
          0.8852459016393442,
          0.8852459016393442,
          0.8852459016393442,
          0.8852459016393442,
          0.8852459016393442,
          0.8852459016393442,
          0.8852459016393442,
          0.8852459016393442,
          0.8852459016393442,
          0.8852459016393442,
          0.8852459016393442,
          0.8852459016393442,
          0.8852459016393442,
          0.8852459016393442,
          0.8852459016393442,
          0.8852459016393442,
          0.8852459016393442,
          0.8852459016393442,
          0.8852459016393442,
          0.8852459016393442,
          0.8852459016393442,
          0.8852459016393442,
          0.8852459016393442,
          0.8852459016393442,
          0.8852459016393442,
          0.8852459016393442,
          0.8852459016393442,
          0.8852459016393442,
          0.8852459016393442,
          0.8852459016393442,
          0.9016393442622951,
          0.9016393442622951,
          0.9016393442622951,
          0.9016393442622951,
          0.9016393442622951,
          0.9016393442622951,
          0.9016393442622951,
          0.9016393442622951,
          0.9016393442622951,
          0.9016393442622951,
          0.9016393442622951,
          0.9016393442622951,
          0.9016393442622951,
          0.9016393442622951,
          0.9016393442622951,
          0.9016393442622951,
          0.9016393442622951,
          0.9016393442622951,
          0.9016393442622951,
          0.9016393442622951,
          0.9016393442622951,
          0.9016393442622951,
          0.9016393442622951,
          0.9016393442622951,
          0.9016393442622951,
          0.9016393442622951,
          0.9016393442622951,
          0.9016393442622951,
          0.9016393442622951,
          0.9016393442622951,
          0.9016393442622951,
          0.9016393442622951,
          0.9016393442622951,
          0.9016393442622951,
          0.9016393442622951,
          0.9016393442622951,
          0.9016393442622951,
          0.9016393442622951,
          0.9016393442622951,
          0.9016393442622951,
          0.9016393442622951,
          0.9016393442622951,
          0.9016393442622951,
          0.9016393442622951,
          0.9016393442622951,
          0.9016393442622951,
          0.9016393442622951,
          0.9016393442622951,
          0.9016393442622951,
          0.9016393442622951,
          0.9016393442622951,
          0.9016393442622951,
          0.9016393442622951,
          0.9016393442622951,
          0.9016393442622951,
          0.9016393442622951,
          0.9016393442622951,
          0.9016393442622951,
          0.9016393442622951,
          0.9016393442622951,
          0.9016393442622951,
          0.9016393442622951,
          0.9016393442622951,
          0.9016393442622951,
          0.9016393442622951,
          0.9016393442622951,
          0.9016393442622951,
          0.9016393442622951,
          0.9016393442622951,
          0.9016393442622951,
          0.9016393442622951,
          0.9016393442622951,
          0.9016393442622951,
          0.9016393442622951,
          0.9016393442622951,
          0.9016393442622951,
          0.9016393442622951,
          0.9016393442622951,
          0.9016393442622951,
          0.9016393442622951,
          0.9016393442622951,
          0.9016393442622951,
          0.9016393442622951,
          0.9016393442622951,
          0.9016393442622951,
          0.9016393442622951,
          0.9016393442622951,
          0.9180327868852459,
          0.9180327868852459,
          0.9180327868852459,
          0.9180327868852459,
          0.9180327868852459,
          0.9180327868852459,
          0.9180327868852459,
          0.9180327868852459,
          0.9180327868852459,
          0.9180327868852459,
          0.9180327868852459,
          0.9180327868852459,
          0.9180327868852459,
          0.9180327868852459,
          0.9180327868852459,
          0.9180327868852459,
          0.9180327868852459,
          0.9180327868852459,
          0.9180327868852459,
          0.9180327868852459,
          0.9180327868852459,
          0.9180327868852459,
          0.9180327868852459,
          0.9180327868852459,
          0.9180327868852459,
          0.9180327868852459,
          0.9180327868852459,
          0.9180327868852459,
          0.9180327868852459,
          0.9180327868852459,
          0.9180327868852459,
          0.9180327868852459,
          0.9180327868852459,
          0.9180327868852459,
          0.9180327868852459,
          0.9180327868852459,
          0.9180327868852459,
          0.9180327868852459,
          0.9180327868852459,
          0.9180327868852459,
          0.9180327868852459,
          0.9180327868852459,
          0.9180327868852459,
          0.9180327868852459,
          0.9180327868852459,
          0.9180327868852459,
          0.9180327868852459,
          0.9180327868852459,
          0.9180327868852459,
          0.9180327868852459,
          0.9180327868852459,
          0.9180327868852459,
          0.9180327868852459,
          0.9180327868852459,
          0.9180327868852459,
          0.9180327868852459,
          0.9180327868852459,
          0.9180327868852459,
          0.9180327868852459,
          0.9180327868852459,
          0.9180327868852459,
          0.9180327868852459,
          0.9180327868852459
         ]
        },
        {
         "marker": {
          "color": "#cccccc"
         },
         "mode": "markers",
         "name": "Infeasible Trial",
         "showlegend": false,
         "type": "scatter",
         "x": [],
         "y": []
        }
       ],
       "layout": {
        "template": {
         "data": {
          "bar": [
           {
            "error_x": {
             "color": "#2a3f5f"
            },
            "error_y": {
             "color": "#2a3f5f"
            },
            "marker": {
             "line": {
              "color": "#E5ECF6",
              "width": 0.5
             },
             "pattern": {
              "fillmode": "overlay",
              "size": 10,
              "solidity": 0.2
             }
            },
            "type": "bar"
           }
          ],
          "barpolar": [
           {
            "marker": {
             "line": {
              "color": "#E5ECF6",
              "width": 0.5
             },
             "pattern": {
              "fillmode": "overlay",
              "size": 10,
              "solidity": 0.2
             }
            },
            "type": "barpolar"
           }
          ],
          "carpet": [
           {
            "aaxis": {
             "endlinecolor": "#2a3f5f",
             "gridcolor": "white",
             "linecolor": "white",
             "minorgridcolor": "white",
             "startlinecolor": "#2a3f5f"
            },
            "baxis": {
             "endlinecolor": "#2a3f5f",
             "gridcolor": "white",
             "linecolor": "white",
             "minorgridcolor": "white",
             "startlinecolor": "#2a3f5f"
            },
            "type": "carpet"
           }
          ],
          "choropleth": [
           {
            "colorbar": {
             "outlinewidth": 0,
             "ticks": ""
            },
            "type": "choropleth"
           }
          ],
          "contour": [
           {
            "colorbar": {
             "outlinewidth": 0,
             "ticks": ""
            },
            "colorscale": [
             [
              0,
              "#0d0887"
             ],
             [
              0.1111111111111111,
              "#46039f"
             ],
             [
              0.2222222222222222,
              "#7201a8"
             ],
             [
              0.3333333333333333,
              "#9c179e"
             ],
             [
              0.4444444444444444,
              "#bd3786"
             ],
             [
              0.5555555555555556,
              "#d8576b"
             ],
             [
              0.6666666666666666,
              "#ed7953"
             ],
             [
              0.7777777777777778,
              "#fb9f3a"
             ],
             [
              0.8888888888888888,
              "#fdca26"
             ],
             [
              1,
              "#f0f921"
             ]
            ],
            "type": "contour"
           }
          ],
          "contourcarpet": [
           {
            "colorbar": {
             "outlinewidth": 0,
             "ticks": ""
            },
            "type": "contourcarpet"
           }
          ],
          "heatmap": [
           {
            "colorbar": {
             "outlinewidth": 0,
             "ticks": ""
            },
            "colorscale": [
             [
              0,
              "#0d0887"
             ],
             [
              0.1111111111111111,
              "#46039f"
             ],
             [
              0.2222222222222222,
              "#7201a8"
             ],
             [
              0.3333333333333333,
              "#9c179e"
             ],
             [
              0.4444444444444444,
              "#bd3786"
             ],
             [
              0.5555555555555556,
              "#d8576b"
             ],
             [
              0.6666666666666666,
              "#ed7953"
             ],
             [
              0.7777777777777778,
              "#fb9f3a"
             ],
             [
              0.8888888888888888,
              "#fdca26"
             ],
             [
              1,
              "#f0f921"
             ]
            ],
            "type": "heatmap"
           }
          ],
          "heatmapgl": [
           {
            "colorbar": {
             "outlinewidth": 0,
             "ticks": ""
            },
            "colorscale": [
             [
              0,
              "#0d0887"
             ],
             [
              0.1111111111111111,
              "#46039f"
             ],
             [
              0.2222222222222222,
              "#7201a8"
             ],
             [
              0.3333333333333333,
              "#9c179e"
             ],
             [
              0.4444444444444444,
              "#bd3786"
             ],
             [
              0.5555555555555556,
              "#d8576b"
             ],
             [
              0.6666666666666666,
              "#ed7953"
             ],
             [
              0.7777777777777778,
              "#fb9f3a"
             ],
             [
              0.8888888888888888,
              "#fdca26"
             ],
             [
              1,
              "#f0f921"
             ]
            ],
            "type": "heatmapgl"
           }
          ],
          "histogram": [
           {
            "marker": {
             "pattern": {
              "fillmode": "overlay",
              "size": 10,
              "solidity": 0.2
             }
            },
            "type": "histogram"
           }
          ],
          "histogram2d": [
           {
            "colorbar": {
             "outlinewidth": 0,
             "ticks": ""
            },
            "colorscale": [
             [
              0,
              "#0d0887"
             ],
             [
              0.1111111111111111,
              "#46039f"
             ],
             [
              0.2222222222222222,
              "#7201a8"
             ],
             [
              0.3333333333333333,
              "#9c179e"
             ],
             [
              0.4444444444444444,
              "#bd3786"
             ],
             [
              0.5555555555555556,
              "#d8576b"
             ],
             [
              0.6666666666666666,
              "#ed7953"
             ],
             [
              0.7777777777777778,
              "#fb9f3a"
             ],
             [
              0.8888888888888888,
              "#fdca26"
             ],
             [
              1,
              "#f0f921"
             ]
            ],
            "type": "histogram2d"
           }
          ],
          "histogram2dcontour": [
           {
            "colorbar": {
             "outlinewidth": 0,
             "ticks": ""
            },
            "colorscale": [
             [
              0,
              "#0d0887"
             ],
             [
              0.1111111111111111,
              "#46039f"
             ],
             [
              0.2222222222222222,
              "#7201a8"
             ],
             [
              0.3333333333333333,
              "#9c179e"
             ],
             [
              0.4444444444444444,
              "#bd3786"
             ],
             [
              0.5555555555555556,
              "#d8576b"
             ],
             [
              0.6666666666666666,
              "#ed7953"
             ],
             [
              0.7777777777777778,
              "#fb9f3a"
             ],
             [
              0.8888888888888888,
              "#fdca26"
             ],
             [
              1,
              "#f0f921"
             ]
            ],
            "type": "histogram2dcontour"
           }
          ],
          "mesh3d": [
           {
            "colorbar": {
             "outlinewidth": 0,
             "ticks": ""
            },
            "type": "mesh3d"
           }
          ],
          "parcoords": [
           {
            "line": {
             "colorbar": {
              "outlinewidth": 0,
              "ticks": ""
             }
            },
            "type": "parcoords"
           }
          ],
          "pie": [
           {
            "automargin": true,
            "type": "pie"
           }
          ],
          "scatter": [
           {
            "fillpattern": {
             "fillmode": "overlay",
             "size": 10,
             "solidity": 0.2
            },
            "type": "scatter"
           }
          ],
          "scatter3d": [
           {
            "line": {
             "colorbar": {
              "outlinewidth": 0,
              "ticks": ""
             }
            },
            "marker": {
             "colorbar": {
              "outlinewidth": 0,
              "ticks": ""
             }
            },
            "type": "scatter3d"
           }
          ],
          "scattercarpet": [
           {
            "marker": {
             "colorbar": {
              "outlinewidth": 0,
              "ticks": ""
             }
            },
            "type": "scattercarpet"
           }
          ],
          "scattergeo": [
           {
            "marker": {
             "colorbar": {
              "outlinewidth": 0,
              "ticks": ""
             }
            },
            "type": "scattergeo"
           }
          ],
          "scattergl": [
           {
            "marker": {
             "colorbar": {
              "outlinewidth": 0,
              "ticks": ""
             }
            },
            "type": "scattergl"
           }
          ],
          "scattermapbox": [
           {
            "marker": {
             "colorbar": {
              "outlinewidth": 0,
              "ticks": ""
             }
            },
            "type": "scattermapbox"
           }
          ],
          "scatterpolar": [
           {
            "marker": {
             "colorbar": {
              "outlinewidth": 0,
              "ticks": ""
             }
            },
            "type": "scatterpolar"
           }
          ],
          "scatterpolargl": [
           {
            "marker": {
             "colorbar": {
              "outlinewidth": 0,
              "ticks": ""
             }
            },
            "type": "scatterpolargl"
           }
          ],
          "scatterternary": [
           {
            "marker": {
             "colorbar": {
              "outlinewidth": 0,
              "ticks": ""
             }
            },
            "type": "scatterternary"
           }
          ],
          "surface": [
           {
            "colorbar": {
             "outlinewidth": 0,
             "ticks": ""
            },
            "colorscale": [
             [
              0,
              "#0d0887"
             ],
             [
              0.1111111111111111,
              "#46039f"
             ],
             [
              0.2222222222222222,
              "#7201a8"
             ],
             [
              0.3333333333333333,
              "#9c179e"
             ],
             [
              0.4444444444444444,
              "#bd3786"
             ],
             [
              0.5555555555555556,
              "#d8576b"
             ],
             [
              0.6666666666666666,
              "#ed7953"
             ],
             [
              0.7777777777777778,
              "#fb9f3a"
             ],
             [
              0.8888888888888888,
              "#fdca26"
             ],
             [
              1,
              "#f0f921"
             ]
            ],
            "type": "surface"
           }
          ],
          "table": [
           {
            "cells": {
             "fill": {
              "color": "#EBF0F8"
             },
             "line": {
              "color": "white"
             }
            },
            "header": {
             "fill": {
              "color": "#C8D4E3"
             },
             "line": {
              "color": "white"
             }
            },
            "type": "table"
           }
          ]
         },
         "layout": {
          "annotationdefaults": {
           "arrowcolor": "#2a3f5f",
           "arrowhead": 0,
           "arrowwidth": 1
          },
          "autotypenumbers": "strict",
          "coloraxis": {
           "colorbar": {
            "outlinewidth": 0,
            "ticks": ""
           }
          },
          "colorscale": {
           "diverging": [
            [
             0,
             "#8e0152"
            ],
            [
             0.1,
             "#c51b7d"
            ],
            [
             0.2,
             "#de77ae"
            ],
            [
             0.3,
             "#f1b6da"
            ],
            [
             0.4,
             "#fde0ef"
            ],
            [
             0.5,
             "#f7f7f7"
            ],
            [
             0.6,
             "#e6f5d0"
            ],
            [
             0.7,
             "#b8e186"
            ],
            [
             0.8,
             "#7fbc41"
            ],
            [
             0.9,
             "#4d9221"
            ],
            [
             1,
             "#276419"
            ]
           ],
           "sequential": [
            [
             0,
             "#0d0887"
            ],
            [
             0.1111111111111111,
             "#46039f"
            ],
            [
             0.2222222222222222,
             "#7201a8"
            ],
            [
             0.3333333333333333,
             "#9c179e"
            ],
            [
             0.4444444444444444,
             "#bd3786"
            ],
            [
             0.5555555555555556,
             "#d8576b"
            ],
            [
             0.6666666666666666,
             "#ed7953"
            ],
            [
             0.7777777777777778,
             "#fb9f3a"
            ],
            [
             0.8888888888888888,
             "#fdca26"
            ],
            [
             1,
             "#f0f921"
            ]
           ],
           "sequentialminus": [
            [
             0,
             "#0d0887"
            ],
            [
             0.1111111111111111,
             "#46039f"
            ],
            [
             0.2222222222222222,
             "#7201a8"
            ],
            [
             0.3333333333333333,
             "#9c179e"
            ],
            [
             0.4444444444444444,
             "#bd3786"
            ],
            [
             0.5555555555555556,
             "#d8576b"
            ],
            [
             0.6666666666666666,
             "#ed7953"
            ],
            [
             0.7777777777777778,
             "#fb9f3a"
            ],
            [
             0.8888888888888888,
             "#fdca26"
            ],
            [
             1,
             "#f0f921"
            ]
           ]
          },
          "colorway": [
           "#636efa",
           "#EF553B",
           "#00cc96",
           "#ab63fa",
           "#FFA15A",
           "#19d3f3",
           "#FF6692",
           "#B6E880",
           "#FF97FF",
           "#FECB52"
          ],
          "font": {
           "color": "#2a3f5f"
          },
          "geo": {
           "bgcolor": "white",
           "lakecolor": "white",
           "landcolor": "#E5ECF6",
           "showlakes": true,
           "showland": true,
           "subunitcolor": "white"
          },
          "hoverlabel": {
           "align": "left"
          },
          "hovermode": "closest",
          "mapbox": {
           "style": "light"
          },
          "paper_bgcolor": "white",
          "plot_bgcolor": "#E5ECF6",
          "polar": {
           "angularaxis": {
            "gridcolor": "white",
            "linecolor": "white",
            "ticks": ""
           },
           "bgcolor": "#E5ECF6",
           "radialaxis": {
            "gridcolor": "white",
            "linecolor": "white",
            "ticks": ""
           }
          },
          "scene": {
           "xaxis": {
            "backgroundcolor": "#E5ECF6",
            "gridcolor": "white",
            "gridwidth": 2,
            "linecolor": "white",
            "showbackground": true,
            "ticks": "",
            "zerolinecolor": "white"
           },
           "yaxis": {
            "backgroundcolor": "#E5ECF6",
            "gridcolor": "white",
            "gridwidth": 2,
            "linecolor": "white",
            "showbackground": true,
            "ticks": "",
            "zerolinecolor": "white"
           },
           "zaxis": {
            "backgroundcolor": "#E5ECF6",
            "gridcolor": "white",
            "gridwidth": 2,
            "linecolor": "white",
            "showbackground": true,
            "ticks": "",
            "zerolinecolor": "white"
           }
          },
          "shapedefaults": {
           "line": {
            "color": "#2a3f5f"
           }
          },
          "ternary": {
           "aaxis": {
            "gridcolor": "white",
            "linecolor": "white",
            "ticks": ""
           },
           "baxis": {
            "gridcolor": "white",
            "linecolor": "white",
            "ticks": ""
           },
           "bgcolor": "#E5ECF6",
           "caxis": {
            "gridcolor": "white",
            "linecolor": "white",
            "ticks": ""
           }
          },
          "title": {
           "x": 0.05
          },
          "xaxis": {
           "automargin": true,
           "gridcolor": "white",
           "linecolor": "white",
           "ticks": "",
           "title": {
            "standoff": 15
           },
           "zerolinecolor": "white",
           "zerolinewidth": 2
          },
          "yaxis": {
           "automargin": true,
           "gridcolor": "white",
           "linecolor": "white",
           "ticks": "",
           "title": {
            "standoff": 15
           },
           "zerolinecolor": "white",
           "zerolinewidth": 2
          }
         }
        },
        "title": {
         "text": "Optimization History Plot"
        },
        "xaxis": {
         "title": {
          "text": "Trial"
         }
        },
        "yaxis": {
         "title": {
          "text": "Objective Value"
         }
        }
       }
      }
     },
     "metadata": {},
     "output_type": "display_data"
    }
   ],
   "source": [
    "from optuna.visualization import plot_optimization_history, plot_param_importances, plot_parallel_coordinate, plot_slice\n",
    "\n",
    "# Plot the optimization history\n",
    "opt_history = plot_optimization_history(study)\n",
    "opt_history.show()\n",
    "\n"
   ]
  },
  {
   "cell_type": "code",
   "execution_count": 20,
   "metadata": {},
   "outputs": [
    {
     "data": {
      "application/vnd.plotly.v1+json": {
       "config": {
        "plotlyServerURL": "https://plot.ly"
       },
       "data": [
        {
         "cliponaxis": false,
         "hovertemplate": [
          "n_layers (IntDistribution): 0.027212702665393492<extra></extra>",
          "lr (FloatDistribution): 0.12170973898538634<extra></extra>",
          "n_units_l0 (IntDistribution): 0.1879240829700836<extra></extra>",
          "optimizer (CategoricalDistribution): 0.6631534753791366<extra></extra>"
         ],
         "name": "Objective Value",
         "orientation": "h",
         "text": [
          "0.03",
          "0.12",
          "0.19",
          "0.66"
         ],
         "textposition": "outside",
         "type": "bar",
         "x": [
          0.027212702665393492,
          0.12170973898538634,
          0.1879240829700836,
          0.6631534753791366
         ],
         "y": [
          "n_layers",
          "lr",
          "n_units_l0",
          "optimizer"
         ]
        }
       ],
       "layout": {
        "template": {
         "data": {
          "bar": [
           {
            "error_x": {
             "color": "#2a3f5f"
            },
            "error_y": {
             "color": "#2a3f5f"
            },
            "marker": {
             "line": {
              "color": "#E5ECF6",
              "width": 0.5
             },
             "pattern": {
              "fillmode": "overlay",
              "size": 10,
              "solidity": 0.2
             }
            },
            "type": "bar"
           }
          ],
          "barpolar": [
           {
            "marker": {
             "line": {
              "color": "#E5ECF6",
              "width": 0.5
             },
             "pattern": {
              "fillmode": "overlay",
              "size": 10,
              "solidity": 0.2
             }
            },
            "type": "barpolar"
           }
          ],
          "carpet": [
           {
            "aaxis": {
             "endlinecolor": "#2a3f5f",
             "gridcolor": "white",
             "linecolor": "white",
             "minorgridcolor": "white",
             "startlinecolor": "#2a3f5f"
            },
            "baxis": {
             "endlinecolor": "#2a3f5f",
             "gridcolor": "white",
             "linecolor": "white",
             "minorgridcolor": "white",
             "startlinecolor": "#2a3f5f"
            },
            "type": "carpet"
           }
          ],
          "choropleth": [
           {
            "colorbar": {
             "outlinewidth": 0,
             "ticks": ""
            },
            "type": "choropleth"
           }
          ],
          "contour": [
           {
            "colorbar": {
             "outlinewidth": 0,
             "ticks": ""
            },
            "colorscale": [
             [
              0,
              "#0d0887"
             ],
             [
              0.1111111111111111,
              "#46039f"
             ],
             [
              0.2222222222222222,
              "#7201a8"
             ],
             [
              0.3333333333333333,
              "#9c179e"
             ],
             [
              0.4444444444444444,
              "#bd3786"
             ],
             [
              0.5555555555555556,
              "#d8576b"
             ],
             [
              0.6666666666666666,
              "#ed7953"
             ],
             [
              0.7777777777777778,
              "#fb9f3a"
             ],
             [
              0.8888888888888888,
              "#fdca26"
             ],
             [
              1,
              "#f0f921"
             ]
            ],
            "type": "contour"
           }
          ],
          "contourcarpet": [
           {
            "colorbar": {
             "outlinewidth": 0,
             "ticks": ""
            },
            "type": "contourcarpet"
           }
          ],
          "heatmap": [
           {
            "colorbar": {
             "outlinewidth": 0,
             "ticks": ""
            },
            "colorscale": [
             [
              0,
              "#0d0887"
             ],
             [
              0.1111111111111111,
              "#46039f"
             ],
             [
              0.2222222222222222,
              "#7201a8"
             ],
             [
              0.3333333333333333,
              "#9c179e"
             ],
             [
              0.4444444444444444,
              "#bd3786"
             ],
             [
              0.5555555555555556,
              "#d8576b"
             ],
             [
              0.6666666666666666,
              "#ed7953"
             ],
             [
              0.7777777777777778,
              "#fb9f3a"
             ],
             [
              0.8888888888888888,
              "#fdca26"
             ],
             [
              1,
              "#f0f921"
             ]
            ],
            "type": "heatmap"
           }
          ],
          "heatmapgl": [
           {
            "colorbar": {
             "outlinewidth": 0,
             "ticks": ""
            },
            "colorscale": [
             [
              0,
              "#0d0887"
             ],
             [
              0.1111111111111111,
              "#46039f"
             ],
             [
              0.2222222222222222,
              "#7201a8"
             ],
             [
              0.3333333333333333,
              "#9c179e"
             ],
             [
              0.4444444444444444,
              "#bd3786"
             ],
             [
              0.5555555555555556,
              "#d8576b"
             ],
             [
              0.6666666666666666,
              "#ed7953"
             ],
             [
              0.7777777777777778,
              "#fb9f3a"
             ],
             [
              0.8888888888888888,
              "#fdca26"
             ],
             [
              1,
              "#f0f921"
             ]
            ],
            "type": "heatmapgl"
           }
          ],
          "histogram": [
           {
            "marker": {
             "pattern": {
              "fillmode": "overlay",
              "size": 10,
              "solidity": 0.2
             }
            },
            "type": "histogram"
           }
          ],
          "histogram2d": [
           {
            "colorbar": {
             "outlinewidth": 0,
             "ticks": ""
            },
            "colorscale": [
             [
              0,
              "#0d0887"
             ],
             [
              0.1111111111111111,
              "#46039f"
             ],
             [
              0.2222222222222222,
              "#7201a8"
             ],
             [
              0.3333333333333333,
              "#9c179e"
             ],
             [
              0.4444444444444444,
              "#bd3786"
             ],
             [
              0.5555555555555556,
              "#d8576b"
             ],
             [
              0.6666666666666666,
              "#ed7953"
             ],
             [
              0.7777777777777778,
              "#fb9f3a"
             ],
             [
              0.8888888888888888,
              "#fdca26"
             ],
             [
              1,
              "#f0f921"
             ]
            ],
            "type": "histogram2d"
           }
          ],
          "histogram2dcontour": [
           {
            "colorbar": {
             "outlinewidth": 0,
             "ticks": ""
            },
            "colorscale": [
             [
              0,
              "#0d0887"
             ],
             [
              0.1111111111111111,
              "#46039f"
             ],
             [
              0.2222222222222222,
              "#7201a8"
             ],
             [
              0.3333333333333333,
              "#9c179e"
             ],
             [
              0.4444444444444444,
              "#bd3786"
             ],
             [
              0.5555555555555556,
              "#d8576b"
             ],
             [
              0.6666666666666666,
              "#ed7953"
             ],
             [
              0.7777777777777778,
              "#fb9f3a"
             ],
             [
              0.8888888888888888,
              "#fdca26"
             ],
             [
              1,
              "#f0f921"
             ]
            ],
            "type": "histogram2dcontour"
           }
          ],
          "mesh3d": [
           {
            "colorbar": {
             "outlinewidth": 0,
             "ticks": ""
            },
            "type": "mesh3d"
           }
          ],
          "parcoords": [
           {
            "line": {
             "colorbar": {
              "outlinewidth": 0,
              "ticks": ""
             }
            },
            "type": "parcoords"
           }
          ],
          "pie": [
           {
            "automargin": true,
            "type": "pie"
           }
          ],
          "scatter": [
           {
            "fillpattern": {
             "fillmode": "overlay",
             "size": 10,
             "solidity": 0.2
            },
            "type": "scatter"
           }
          ],
          "scatter3d": [
           {
            "line": {
             "colorbar": {
              "outlinewidth": 0,
              "ticks": ""
             }
            },
            "marker": {
             "colorbar": {
              "outlinewidth": 0,
              "ticks": ""
             }
            },
            "type": "scatter3d"
           }
          ],
          "scattercarpet": [
           {
            "marker": {
             "colorbar": {
              "outlinewidth": 0,
              "ticks": ""
             }
            },
            "type": "scattercarpet"
           }
          ],
          "scattergeo": [
           {
            "marker": {
             "colorbar": {
              "outlinewidth": 0,
              "ticks": ""
             }
            },
            "type": "scattergeo"
           }
          ],
          "scattergl": [
           {
            "marker": {
             "colorbar": {
              "outlinewidth": 0,
              "ticks": ""
             }
            },
            "type": "scattergl"
           }
          ],
          "scattermapbox": [
           {
            "marker": {
             "colorbar": {
              "outlinewidth": 0,
              "ticks": ""
             }
            },
            "type": "scattermapbox"
           }
          ],
          "scatterpolar": [
           {
            "marker": {
             "colorbar": {
              "outlinewidth": 0,
              "ticks": ""
             }
            },
            "type": "scatterpolar"
           }
          ],
          "scatterpolargl": [
           {
            "marker": {
             "colorbar": {
              "outlinewidth": 0,
              "ticks": ""
             }
            },
            "type": "scatterpolargl"
           }
          ],
          "scatterternary": [
           {
            "marker": {
             "colorbar": {
              "outlinewidth": 0,
              "ticks": ""
             }
            },
            "type": "scatterternary"
           }
          ],
          "surface": [
           {
            "colorbar": {
             "outlinewidth": 0,
             "ticks": ""
            },
            "colorscale": [
             [
              0,
              "#0d0887"
             ],
             [
              0.1111111111111111,
              "#46039f"
             ],
             [
              0.2222222222222222,
              "#7201a8"
             ],
             [
              0.3333333333333333,
              "#9c179e"
             ],
             [
              0.4444444444444444,
              "#bd3786"
             ],
             [
              0.5555555555555556,
              "#d8576b"
             ],
             [
              0.6666666666666666,
              "#ed7953"
             ],
             [
              0.7777777777777778,
              "#fb9f3a"
             ],
             [
              0.8888888888888888,
              "#fdca26"
             ],
             [
              1,
              "#f0f921"
             ]
            ],
            "type": "surface"
           }
          ],
          "table": [
           {
            "cells": {
             "fill": {
              "color": "#EBF0F8"
             },
             "line": {
              "color": "white"
             }
            },
            "header": {
             "fill": {
              "color": "#C8D4E3"
             },
             "line": {
              "color": "white"
             }
            },
            "type": "table"
           }
          ]
         },
         "layout": {
          "annotationdefaults": {
           "arrowcolor": "#2a3f5f",
           "arrowhead": 0,
           "arrowwidth": 1
          },
          "autotypenumbers": "strict",
          "coloraxis": {
           "colorbar": {
            "outlinewidth": 0,
            "ticks": ""
           }
          },
          "colorscale": {
           "diverging": [
            [
             0,
             "#8e0152"
            ],
            [
             0.1,
             "#c51b7d"
            ],
            [
             0.2,
             "#de77ae"
            ],
            [
             0.3,
             "#f1b6da"
            ],
            [
             0.4,
             "#fde0ef"
            ],
            [
             0.5,
             "#f7f7f7"
            ],
            [
             0.6,
             "#e6f5d0"
            ],
            [
             0.7,
             "#b8e186"
            ],
            [
             0.8,
             "#7fbc41"
            ],
            [
             0.9,
             "#4d9221"
            ],
            [
             1,
             "#276419"
            ]
           ],
           "sequential": [
            [
             0,
             "#0d0887"
            ],
            [
             0.1111111111111111,
             "#46039f"
            ],
            [
             0.2222222222222222,
             "#7201a8"
            ],
            [
             0.3333333333333333,
             "#9c179e"
            ],
            [
             0.4444444444444444,
             "#bd3786"
            ],
            [
             0.5555555555555556,
             "#d8576b"
            ],
            [
             0.6666666666666666,
             "#ed7953"
            ],
            [
             0.7777777777777778,
             "#fb9f3a"
            ],
            [
             0.8888888888888888,
             "#fdca26"
            ],
            [
             1,
             "#f0f921"
            ]
           ],
           "sequentialminus": [
            [
             0,
             "#0d0887"
            ],
            [
             0.1111111111111111,
             "#46039f"
            ],
            [
             0.2222222222222222,
             "#7201a8"
            ],
            [
             0.3333333333333333,
             "#9c179e"
            ],
            [
             0.4444444444444444,
             "#bd3786"
            ],
            [
             0.5555555555555556,
             "#d8576b"
            ],
            [
             0.6666666666666666,
             "#ed7953"
            ],
            [
             0.7777777777777778,
             "#fb9f3a"
            ],
            [
             0.8888888888888888,
             "#fdca26"
            ],
            [
             1,
             "#f0f921"
            ]
           ]
          },
          "colorway": [
           "#636efa",
           "#EF553B",
           "#00cc96",
           "#ab63fa",
           "#FFA15A",
           "#19d3f3",
           "#FF6692",
           "#B6E880",
           "#FF97FF",
           "#FECB52"
          ],
          "font": {
           "color": "#2a3f5f"
          },
          "geo": {
           "bgcolor": "white",
           "lakecolor": "white",
           "landcolor": "#E5ECF6",
           "showlakes": true,
           "showland": true,
           "subunitcolor": "white"
          },
          "hoverlabel": {
           "align": "left"
          },
          "hovermode": "closest",
          "mapbox": {
           "style": "light"
          },
          "paper_bgcolor": "white",
          "plot_bgcolor": "#E5ECF6",
          "polar": {
           "angularaxis": {
            "gridcolor": "white",
            "linecolor": "white",
            "ticks": ""
           },
           "bgcolor": "#E5ECF6",
           "radialaxis": {
            "gridcolor": "white",
            "linecolor": "white",
            "ticks": ""
           }
          },
          "scene": {
           "xaxis": {
            "backgroundcolor": "#E5ECF6",
            "gridcolor": "white",
            "gridwidth": 2,
            "linecolor": "white",
            "showbackground": true,
            "ticks": "",
            "zerolinecolor": "white"
           },
           "yaxis": {
            "backgroundcolor": "#E5ECF6",
            "gridcolor": "white",
            "gridwidth": 2,
            "linecolor": "white",
            "showbackground": true,
            "ticks": "",
            "zerolinecolor": "white"
           },
           "zaxis": {
            "backgroundcolor": "#E5ECF6",
            "gridcolor": "white",
            "gridwidth": 2,
            "linecolor": "white",
            "showbackground": true,
            "ticks": "",
            "zerolinecolor": "white"
           }
          },
          "shapedefaults": {
           "line": {
            "color": "#2a3f5f"
           }
          },
          "ternary": {
           "aaxis": {
            "gridcolor": "white",
            "linecolor": "white",
            "ticks": ""
           },
           "baxis": {
            "gridcolor": "white",
            "linecolor": "white",
            "ticks": ""
           },
           "bgcolor": "#E5ECF6",
           "caxis": {
            "gridcolor": "white",
            "linecolor": "white",
            "ticks": ""
           }
          },
          "title": {
           "x": 0.05
          },
          "xaxis": {
           "automargin": true,
           "gridcolor": "white",
           "linecolor": "white",
           "ticks": "",
           "title": {
            "standoff": 15
           },
           "zerolinecolor": "white",
           "zerolinewidth": 2
          },
          "yaxis": {
           "automargin": true,
           "gridcolor": "white",
           "linecolor": "white",
           "ticks": "",
           "title": {
            "standoff": 15
           },
           "zerolinecolor": "white",
           "zerolinewidth": 2
          }
         }
        },
        "title": {
         "text": "Hyperparameter Importances"
        },
        "xaxis": {
         "title": {
          "text": "Hyperparameter Importance"
         }
        },
        "yaxis": {
         "title": {
          "text": "Hyperparameter"
         }
        }
       }
      }
     },
     "metadata": {},
     "output_type": "display_data"
    }
   ],
   "source": [
    "# Plot the hyperparameter importances\n",
    "param_importance = plot_param_importances(study)\n",
    "param_importance.show()"
   ]
  },
  {
   "cell_type": "code",
   "execution_count": 21,
   "metadata": {},
   "outputs": [
    {
     "data": {
      "application/vnd.plotly.v1+json": {
       "config": {
        "plotlyServerURL": "https://plot.ly"
       },
       "data": [
        {
         "dimensions": [
          {
           "label": "Objective Value",
           "range": [
            0.29508196721311475,
            0.9180327868852459
           ],
           "values": [
            0.8852459016393442,
            0.5245901639344263,
            0.819672131147541,
            0.5245901639344263,
            0.8852459016393442,
            0.8852459016393442,
            0.8688524590163934,
            0.8524590163934426,
            0.47540983606557374,
            0.8852459016393442,
            0.8360655737704918,
            0.8524590163934426,
            0.8524590163934426,
            0.8688524590163934,
            0.8360655737704918,
            0.8688524590163934,
            0.5245901639344263,
            0.8688524590163934,
            0.8852459016393442,
            0.5245901639344263,
            0.8688524590163934,
            0.6557377049180327,
            0.8360655737704918,
            0.5245901639344263,
            0.8688524590163934,
            0.8852459016393442,
            0.819672131147541,
            0.7704918032786885,
            0.8360655737704918,
            0.5409836065573771,
            0.8524590163934426,
            0.6721311475409836,
            0.8524590163934426,
            0.9016393442622951,
            0.47540983606557374,
            0.5573770491803278,
            0.8360655737704918,
            0.8524590163934426,
            0.47540983606557374,
            0.5245901639344263,
            0.7868852459016393,
            0.5245901639344263,
            0.8688524590163934,
            0.7704918032786885,
            0.8688524590163934,
            0.5245901639344263,
            0.8524590163934426,
            0.8524590163934426,
            0.8360655737704918,
            0.8852459016393442,
            0.8524590163934426,
            0.9016393442622951,
            0.5245901639344263,
            0.47540983606557374,
            0.8688524590163934,
            0.47540983606557374,
            0.8360655737704918,
            0.5245901639344263,
            0.8688524590163934,
            0.8688524590163934,
            0.8852459016393442,
            0.8852459016393442,
            0.9016393442622951,
            0.8852459016393442,
            0.8688524590163934,
            0.5737704918032787,
            0.8852459016393442,
            0.5245901639344263,
            0.9016393442622951,
            0.5245901639344263,
            0.9016393442622951,
            0.8688524590163934,
            0.6557377049180327,
            0.8524590163934426,
            0.8852459016393442,
            0.6065573770491803,
            0.8852459016393442,
            0.8524590163934426,
            0.8524590163934426,
            0.8852459016393442,
            0.8524590163934426,
            0.8688524590163934,
            0.29508196721311475,
            0.8688524590163934,
            0.8032786885245902,
            0.5245901639344263,
            0.8688524590163934,
            0.7868852459016393,
            0.8688524590163934,
            0.8852459016393442,
            0.8524590163934426,
            0.8524590163934426,
            0.8524590163934426,
            0.5245901639344263,
            0.8852459016393442,
            0.47540983606557374,
            0.7704918032786885,
            0.7704918032786885,
            0.7540983606557377,
            0.7868852459016393,
            0.7377049180327869,
            0.5245901639344263,
            0.9180327868852459,
            0.8852459016393442,
            0.8688524590163934,
            0.639344262295082,
            0.8688524590163934,
            0.8852459016393442,
            0.8524590163934426,
            0.9180327868852459,
            0.8688524590163934,
            0.9016393442622951,
            0.8032786885245902,
            0.8360655737704918,
            0.8688524590163934,
            0.8688524590163934,
            0.8852459016393442,
            0.8688524590163934,
            0.8360655737704918,
            0.8524590163934426,
            0.7213114754098361,
            0.5245901639344263,
            0.8360655737704918,
            0.7868852459016393,
            0.8688524590163934,
            0.8524590163934426,
            0.8524590163934426,
            0.8688524590163934,
            0.9016393442622951,
            0.5409836065573771,
            0.8524590163934426,
            0.8852459016393442,
            0.8688524590163934,
            0.8688524590163934,
            0.9016393442622951,
            0.9016393442622951,
            0.8852459016393442,
            0.8852459016393442,
            0.8524590163934426,
            0.6557377049180327,
            0.8688524590163934,
            0.8524590163934426,
            0.8852459016393442,
            0.8688524590163934,
            0.8688524590163934
           ]
          },
          {
           "label": "lr",
           "range": [
            -4.937509169150679,
            -1.0008141395730932
           ],
           "ticktext": [
            "1.15e-05",
            "0.0001",
            "0.001",
            "0.01",
            "0.0998"
           ],
           "tickvals": [
            -4.937509169150679,
            -4,
            -3,
            -2,
            -1.0008141395730932
           ],
           "values": [
            -4.047852772812316,
            -3.601026765532143,
            -1.0527551812558749,
            -3.6966046462663957,
            -2.6255011412919202,
            -2.4944164570433496,
            -3.462827953313734,
            -3.983270680927049,
            -3.096011943429693,
            -3.361060544709194,
            -2.562851041583224,
            -2.5376214686195695,
            -2.2050899102025814,
            -2.7325135667644123,
            -3.2534627271152323,
            -2.785427006669119,
            -4.937509169150679,
            -3.24406209461771,
            -4.231220377148343,
            -3.4114282980760375,
            -1.6106590366715492,
            -4.7083169221398675,
            -1.9566273614482603,
            -3.8188503569735253,
            -3.1766045745356166,
            -4.179419367082773,
            -4.56779705042213,
            -4.268308639119908,
            -3.693003170071482,
            -4.5149278967446005,
            -2.953085127742595,
            -3.5336892992301414,
            -2.599556060367734,
            -4.332615318433561,
            -4.6730989301689005,
            -4.332112833476213,
            -3.8108559887516655,
            -2.1869992979249733,
            -4.820196743761661,
            -4.3959901317996986,
            -4.126085028865693,
            -2.440063192448616,
            -4.15420562612584,
            -4.279332153843739,
            -2.7021042403402555,
            -4.482165595368301,
            -3.942999820361074,
            -3.7375658336586968,
            -4.203625245014984,
            -4.0203300840212615,
            -3.0864499869871196,
            -1.0972905825047017,
            -1.4022740736467962,
            -3.6206073145974758,
            -1.2323510727216862,
            -2.85940338110335,
            -1.879899843614557,
            -4.804541921754361,
            -3.879947254324956,
            -1.0008141395730932,
            -3.798562175083522,
            -4.079594297441095,
            -4.2192374917583795,
            -3.8908965441667283,
            -2.4768386133870104,
            -4.227868923920102,
            -3.044904643520177,
            -4.346337376369644,
            -4.155440089032155,
            -4.552387646403751,
            -4.108997569055097,
            -4.122228304547533,
            -4.327239386546324,
            -3.716844540650049,
            -3.97569472753365,
            -3.8592559029813467,
            -4.1728904259190385,
            -4.066409777261115,
            -4.420187214845012,
            -4.23777777805576,
            -4.305171936072969,
            -3.1983353189715884,
            -2.82900134641219,
            -3.7801363814332793,
            -2.1738126234576614,
            -4.641494639477389,
            -2.7120310150640394,
            -4.195793064162704,
            -4.131769354074572,
            -4.025737496693848,
            -4.4524341828054865,
            -3.9729710457934355,
            -2.2864334091856344,
            -1.7208225307163472,
            -3.9200269904273095,
            -4.7449676487422385,
            -4.223860275735108,
            -4.0261229476045655,
            -4.530916057216727,
            -4.400141394759484,
            -4.1518972242057615,
            -4.30095177090461,
            -4.088927619720083,
            -3.856754819937251,
            -4.079812772470654,
            -4.201518915103974,
            -3.9465220346958625,
            -4.340456494435482,
            -4.02433958043275,
            -4.257253256385007,
            -4.240770233563602,
            -4.1297226870297505,
            -4.132096920318729,
            -4.266603590220747,
            -4.352413290546567,
            -4.127069408485392,
            -3.9410692190164007,
            -4.208718910504833,
            -4.057133340337933,
            -2.5387990562207996,
            -4.290477109743527,
            -4.377543987226308,
            -4.026270542889848,
            -4.161475463184534,
            -3.8083797249474904,
            -3.896495584563895,
            -4.087687232311674,
            -3.141104140820388,
            -4.175221550017082,
            -4.4384874227120825,
            -4.185250756975665,
            -3.9836231993795543,
            -4.2697254021355215,
            -4.096146410360158,
            -4.209768036597108,
            -4.197233033988384,
            -4.3495784939153035,
            -4.243357306976131,
            -1.910103042426892,
            -4.149484855299983,
            -4.551039078065543,
            -4.280666230304211,
            -4.181331733555243,
            -4.067246566037411,
            -4.3952692311700785
           ]
          },
          {
           "label": "n_layers",
           "range": [
            3,
            3
           ],
           "values": [
            3,
            3,
            3,
            3,
            3,
            3,
            3,
            3,
            3,
            3,
            3,
            3,
            3,
            3,
            3,
            3,
            3,
            3,
            3,
            3,
            3,
            3,
            3,
            3,
            3,
            3,
            3,
            3,
            3,
            3,
            3,
            3,
            3,
            3,
            3,
            3,
            3,
            3,
            3,
            3,
            3,
            3,
            3,
            3,
            3,
            3,
            3,
            3,
            3,
            3,
            3,
            3,
            3,
            3,
            3,
            3,
            3,
            3,
            3,
            3,
            3,
            3,
            3,
            3,
            3,
            3,
            3,
            3,
            3,
            3,
            3,
            3,
            3,
            3,
            3,
            3,
            3,
            3,
            3,
            3,
            3,
            3,
            3,
            3,
            3,
            3,
            3,
            3,
            3,
            3,
            3,
            3,
            3,
            3,
            3,
            3,
            3,
            3,
            3,
            3,
            3,
            3,
            3,
            3,
            3,
            3,
            3,
            3,
            3,
            3,
            3,
            3,
            3,
            3,
            3,
            3,
            3,
            3,
            3,
            3,
            3,
            3,
            3,
            3,
            3,
            3,
            3,
            3,
            3,
            3,
            3,
            3,
            3,
            3,
            3,
            3,
            3,
            3,
            3,
            3,
            3,
            3,
            3,
            3,
            3
           ]
          },
          {
           "label": "n_units_l0",
           "range": [
            22,
            128
           ],
           "values": [
            96,
            127,
            65,
            89,
            125,
            128,
            117,
            113,
            113,
            64,
            126,
            122,
            111,
            127,
            118,
            91,
            73,
            54,
            65,
            36,
            68,
            76,
            59,
            46,
            106,
            62,
            75,
            84,
            55,
            79,
            47,
            65,
            37,
            104,
            122,
            116,
            105,
            124,
            128,
            111,
            102,
            93,
            58,
            61,
            67,
            50,
            117,
            64,
            99,
            72,
            62,
            120,
            120,
            109,
            125,
            116,
            113,
            125,
            57,
            51,
            69,
            125,
            119,
            118,
            108,
            123,
            115,
            111,
            75,
            74,
            83,
            77,
            88,
            84,
            82,
            94,
            91,
            100,
            71,
            126,
            67,
            120,
            78,
            65,
            118,
            22,
            106,
            60,
            56,
            63,
            121,
            66,
            126,
            53,
            128,
            62,
            75,
            72,
            81,
            59,
            68,
            73,
            124,
            117,
            125,
            84,
            112,
            124,
            97,
            115,
            116,
            122,
            121,
            127,
            114,
            122,
            118,
            125,
            128,
            108,
            116,
            122,
            65,
            125,
            119,
            123,
            62,
            76,
            112,
            114,
            112,
            110,
            120,
            117,
            121,
            122,
            121,
            126,
            101,
            118,
            124,
            122,
            115,
            119,
            128
           ]
          },
          {
           "label": "n_units_l1",
           "range": [
            16,
            127
           ],
           "values": [
            96,
            24,
            81,
            83,
            52,
            51,
            98,
            43,
            100,
            101,
            46,
            64,
            35,
            60,
            78,
            35,
            75,
            104,
            93,
            111,
            57,
            69,
            38,
            68,
            88,
            95,
            91,
            103,
            82,
            94,
            116,
            127,
            28,
            46,
            49,
            41,
            61,
            29,
            53,
            104,
            45,
            99,
            94,
            85,
            92,
            75,
            107,
            98,
            48,
            55,
            96,
            60,
            58,
            61,
            41,
            78,
            16,
            87,
            50,
            101,
            66,
            107,
            71,
            75,
            71,
            47,
            55,
            52,
            84,
            91,
            86,
            85,
            79,
            73,
            83,
            57,
            77,
            60,
            97,
            88,
            102,
            85,
            92,
            51,
            69,
            99,
            94,
            95,
            89,
            106,
            65,
            39,
            49,
            90,
            101,
            96,
            46,
            53,
            58,
            55,
            71,
            62,
            60,
            66,
            55,
            56,
            43,
            76,
            52,
            73,
            68,
            84,
            84,
            86,
            80,
            82,
            104,
            98,
            74,
            87,
            90,
            77,
            59,
            49,
            63,
            96,
            47,
            92,
            100,
            102,
            113,
            99,
            65,
            51,
            94,
            100,
            106,
            100,
            94,
            96,
            103,
            100,
            109,
            92,
            97
           ]
          },
          {
           "label": "n_units_l2",
           "range": [
            16,
            128
           ],
           "values": [
            125,
            126,
            103,
            22,
            69,
            65,
            67,
            92,
            42,
            128,
            65,
            55,
            86,
            81,
            44,
            107,
            72,
            127,
            115,
            51,
            115,
            79,
            119,
            96,
            60,
            115,
            128,
            109,
            118,
            72,
            121,
            128,
            98,
            109,
            112,
            103,
            123,
            105,
            62,
            31,
            121,
            78,
            115,
            112,
            122,
            87,
            69,
            53,
            117,
            110,
            58,
            65,
            66,
            73,
            125,
            76,
            48,
            87,
            63,
            56,
            103,
            116,
            69,
            83,
            69,
            61,
            74,
            68,
            128,
            125,
            128,
            128,
            123,
            126,
            65,
            37,
            119,
            21,
            124,
            120,
            71,
            98,
            112,
            128,
            121,
            64,
            16,
            114,
            119,
            107,
            59,
            124,
            77,
            117,
            114,
            67,
            109,
            109,
            112,
            91,
            101,
            126,
            106,
            122,
            71,
            105,
            117,
            110,
            80,
            106,
            107,
            75,
            94,
            74,
            83,
            57,
            101,
            62,
            69,
            128,
            124,
            121,
            106,
            66,
            114,
            102,
            53,
            110,
            126,
            128,
            125,
            126,
            123,
            119,
            115,
            115,
            116,
            121,
            60,
            112,
            71,
            118,
            114,
            64,
            123
           ]
          },
          {
           "label": "optimizer",
           "range": [
            0,
            5
           ],
           "ticktext": [
            "Adam",
            "SGD",
            "Adagrad",
            "RMSprop",
            "Adadelta",
            "AdamW"
           ],
           "tickvals": [
            0,
            1,
            2,
            3,
            4,
            5
           ],
           "values": [
            0,
            1,
            2,
            2,
            0,
            0,
            0,
            0,
            1,
            0,
            0,
            0,
            0,
            0,
            0,
            3,
            0,
            0,
            0,
            4,
            0,
            0,
            0,
            2,
            5,
            0,
            0,
            0,
            0,
            1,
            2,
            4,
            0,
            0,
            0,
            0,
            0,
            0,
            0,
            5,
            0,
            1,
            0,
            0,
            0,
            0,
            2,
            0,
            0,
            0,
            0,
            4,
            4,
            4,
            4,
            4,
            5,
            0,
            3,
            1,
            0,
            0,
            0,
            0,
            0,
            0,
            3,
            1,
            0,
            0,
            0,
            0,
            0,
            0,
            0,
            2,
            0,
            0,
            0,
            0,
            0,
            0,
            4,
            0,
            0,
            0,
            0,
            0,
            0,
            0,
            0,
            0,
            3,
            4,
            0,
            0,
            0,
            0,
            0,
            0,
            0,
            2,
            0,
            0,
            0,
            0,
            0,
            0,
            0,
            0,
            0,
            0,
            5,
            0,
            0,
            0,
            0,
            0,
            3,
            0,
            0,
            4,
            0,
            0,
            0,
            0,
            0,
            0,
            0,
            2,
            0,
            0,
            0,
            0,
            0,
            0,
            0,
            0,
            0,
            4,
            0,
            0,
            0,
            0,
            0
           ]
          }
         ],
         "labelangle": 30,
         "labelside": "bottom",
         "line": {
          "color": [
           0.8852459016393442,
           0.5245901639344263,
           0.819672131147541,
           0.5245901639344263,
           0.8852459016393442,
           0.8852459016393442,
           0.8688524590163934,
           0.8524590163934426,
           0.47540983606557374,
           0.8852459016393442,
           0.8360655737704918,
           0.8524590163934426,
           0.8524590163934426,
           0.8688524590163934,
           0.8360655737704918,
           0.8688524590163934,
           0.5245901639344263,
           0.8688524590163934,
           0.8852459016393442,
           0.5245901639344263,
           0.8688524590163934,
           0.6557377049180327,
           0.8360655737704918,
           0.5245901639344263,
           0.8688524590163934,
           0.8852459016393442,
           0.819672131147541,
           0.7704918032786885,
           0.8360655737704918,
           0.5409836065573771,
           0.8524590163934426,
           0.6721311475409836,
           0.8524590163934426,
           0.9016393442622951,
           0.47540983606557374,
           0.5573770491803278,
           0.8360655737704918,
           0.8524590163934426,
           0.47540983606557374,
           0.5245901639344263,
           0.7868852459016393,
           0.5245901639344263,
           0.8688524590163934,
           0.7704918032786885,
           0.8688524590163934,
           0.5245901639344263,
           0.8524590163934426,
           0.8524590163934426,
           0.8360655737704918,
           0.8852459016393442,
           0.8524590163934426,
           0.9016393442622951,
           0.5245901639344263,
           0.47540983606557374,
           0.8688524590163934,
           0.47540983606557374,
           0.8360655737704918,
           0.5245901639344263,
           0.8688524590163934,
           0.8688524590163934,
           0.8852459016393442,
           0.8852459016393442,
           0.9016393442622951,
           0.8852459016393442,
           0.8688524590163934,
           0.5737704918032787,
           0.8852459016393442,
           0.5245901639344263,
           0.9016393442622951,
           0.5245901639344263,
           0.9016393442622951,
           0.8688524590163934,
           0.6557377049180327,
           0.8524590163934426,
           0.8852459016393442,
           0.6065573770491803,
           0.8852459016393442,
           0.8524590163934426,
           0.8524590163934426,
           0.8852459016393442,
           0.8524590163934426,
           0.8688524590163934,
           0.29508196721311475,
           0.8688524590163934,
           0.8032786885245902,
           0.5245901639344263,
           0.8688524590163934,
           0.7868852459016393,
           0.8688524590163934,
           0.8852459016393442,
           0.8524590163934426,
           0.8524590163934426,
           0.8524590163934426,
           0.5245901639344263,
           0.8852459016393442,
           0.47540983606557374,
           0.7704918032786885,
           0.7704918032786885,
           0.7540983606557377,
           0.7868852459016393,
           0.7377049180327869,
           0.5245901639344263,
           0.9180327868852459,
           0.8852459016393442,
           0.8688524590163934,
           0.639344262295082,
           0.8688524590163934,
           0.8852459016393442,
           0.8524590163934426,
           0.9180327868852459,
           0.8688524590163934,
           0.9016393442622951,
           0.8032786885245902,
           0.8360655737704918,
           0.8688524590163934,
           0.8688524590163934,
           0.8852459016393442,
           0.8688524590163934,
           0.8360655737704918,
           0.8524590163934426,
           0.7213114754098361,
           0.5245901639344263,
           0.8360655737704918,
           0.7868852459016393,
           0.8688524590163934,
           0.8524590163934426,
           0.8524590163934426,
           0.8688524590163934,
           0.9016393442622951,
           0.5409836065573771,
           0.8524590163934426,
           0.8852459016393442,
           0.8688524590163934,
           0.8688524590163934,
           0.9016393442622951,
           0.9016393442622951,
           0.8852459016393442,
           0.8852459016393442,
           0.8524590163934426,
           0.6557377049180327,
           0.8688524590163934,
           0.8524590163934426,
           0.8852459016393442,
           0.8688524590163934,
           0.8688524590163934
          ],
          "colorbar": {
           "title": {
            "text": "Objective Value"
           }
          },
          "colorscale": [
           [
            0,
            "rgb(247,251,255)"
           ],
           [
            0.125,
            "rgb(222,235,247)"
           ],
           [
            0.25,
            "rgb(198,219,239)"
           ],
           [
            0.375,
            "rgb(158,202,225)"
           ],
           [
            0.5,
            "rgb(107,174,214)"
           ],
           [
            0.625,
            "rgb(66,146,198)"
           ],
           [
            0.75,
            "rgb(33,113,181)"
           ],
           [
            0.875,
            "rgb(8,81,156)"
           ],
           [
            1,
            "rgb(8,48,107)"
           ]
          ],
          "reversescale": false,
          "showscale": true
         },
         "type": "parcoords"
        }
       ],
       "layout": {
        "template": {
         "data": {
          "bar": [
           {
            "error_x": {
             "color": "#2a3f5f"
            },
            "error_y": {
             "color": "#2a3f5f"
            },
            "marker": {
             "line": {
              "color": "#E5ECF6",
              "width": 0.5
             },
             "pattern": {
              "fillmode": "overlay",
              "size": 10,
              "solidity": 0.2
             }
            },
            "type": "bar"
           }
          ],
          "barpolar": [
           {
            "marker": {
             "line": {
              "color": "#E5ECF6",
              "width": 0.5
             },
             "pattern": {
              "fillmode": "overlay",
              "size": 10,
              "solidity": 0.2
             }
            },
            "type": "barpolar"
           }
          ],
          "carpet": [
           {
            "aaxis": {
             "endlinecolor": "#2a3f5f",
             "gridcolor": "white",
             "linecolor": "white",
             "minorgridcolor": "white",
             "startlinecolor": "#2a3f5f"
            },
            "baxis": {
             "endlinecolor": "#2a3f5f",
             "gridcolor": "white",
             "linecolor": "white",
             "minorgridcolor": "white",
             "startlinecolor": "#2a3f5f"
            },
            "type": "carpet"
           }
          ],
          "choropleth": [
           {
            "colorbar": {
             "outlinewidth": 0,
             "ticks": ""
            },
            "type": "choropleth"
           }
          ],
          "contour": [
           {
            "colorbar": {
             "outlinewidth": 0,
             "ticks": ""
            },
            "colorscale": [
             [
              0,
              "#0d0887"
             ],
             [
              0.1111111111111111,
              "#46039f"
             ],
             [
              0.2222222222222222,
              "#7201a8"
             ],
             [
              0.3333333333333333,
              "#9c179e"
             ],
             [
              0.4444444444444444,
              "#bd3786"
             ],
             [
              0.5555555555555556,
              "#d8576b"
             ],
             [
              0.6666666666666666,
              "#ed7953"
             ],
             [
              0.7777777777777778,
              "#fb9f3a"
             ],
             [
              0.8888888888888888,
              "#fdca26"
             ],
             [
              1,
              "#f0f921"
             ]
            ],
            "type": "contour"
           }
          ],
          "contourcarpet": [
           {
            "colorbar": {
             "outlinewidth": 0,
             "ticks": ""
            },
            "type": "contourcarpet"
           }
          ],
          "heatmap": [
           {
            "colorbar": {
             "outlinewidth": 0,
             "ticks": ""
            },
            "colorscale": [
             [
              0,
              "#0d0887"
             ],
             [
              0.1111111111111111,
              "#46039f"
             ],
             [
              0.2222222222222222,
              "#7201a8"
             ],
             [
              0.3333333333333333,
              "#9c179e"
             ],
             [
              0.4444444444444444,
              "#bd3786"
             ],
             [
              0.5555555555555556,
              "#d8576b"
             ],
             [
              0.6666666666666666,
              "#ed7953"
             ],
             [
              0.7777777777777778,
              "#fb9f3a"
             ],
             [
              0.8888888888888888,
              "#fdca26"
             ],
             [
              1,
              "#f0f921"
             ]
            ],
            "type": "heatmap"
           }
          ],
          "heatmapgl": [
           {
            "colorbar": {
             "outlinewidth": 0,
             "ticks": ""
            },
            "colorscale": [
             [
              0,
              "#0d0887"
             ],
             [
              0.1111111111111111,
              "#46039f"
             ],
             [
              0.2222222222222222,
              "#7201a8"
             ],
             [
              0.3333333333333333,
              "#9c179e"
             ],
             [
              0.4444444444444444,
              "#bd3786"
             ],
             [
              0.5555555555555556,
              "#d8576b"
             ],
             [
              0.6666666666666666,
              "#ed7953"
             ],
             [
              0.7777777777777778,
              "#fb9f3a"
             ],
             [
              0.8888888888888888,
              "#fdca26"
             ],
             [
              1,
              "#f0f921"
             ]
            ],
            "type": "heatmapgl"
           }
          ],
          "histogram": [
           {
            "marker": {
             "pattern": {
              "fillmode": "overlay",
              "size": 10,
              "solidity": 0.2
             }
            },
            "type": "histogram"
           }
          ],
          "histogram2d": [
           {
            "colorbar": {
             "outlinewidth": 0,
             "ticks": ""
            },
            "colorscale": [
             [
              0,
              "#0d0887"
             ],
             [
              0.1111111111111111,
              "#46039f"
             ],
             [
              0.2222222222222222,
              "#7201a8"
             ],
             [
              0.3333333333333333,
              "#9c179e"
             ],
             [
              0.4444444444444444,
              "#bd3786"
             ],
             [
              0.5555555555555556,
              "#d8576b"
             ],
             [
              0.6666666666666666,
              "#ed7953"
             ],
             [
              0.7777777777777778,
              "#fb9f3a"
             ],
             [
              0.8888888888888888,
              "#fdca26"
             ],
             [
              1,
              "#f0f921"
             ]
            ],
            "type": "histogram2d"
           }
          ],
          "histogram2dcontour": [
           {
            "colorbar": {
             "outlinewidth": 0,
             "ticks": ""
            },
            "colorscale": [
             [
              0,
              "#0d0887"
             ],
             [
              0.1111111111111111,
              "#46039f"
             ],
             [
              0.2222222222222222,
              "#7201a8"
             ],
             [
              0.3333333333333333,
              "#9c179e"
             ],
             [
              0.4444444444444444,
              "#bd3786"
             ],
             [
              0.5555555555555556,
              "#d8576b"
             ],
             [
              0.6666666666666666,
              "#ed7953"
             ],
             [
              0.7777777777777778,
              "#fb9f3a"
             ],
             [
              0.8888888888888888,
              "#fdca26"
             ],
             [
              1,
              "#f0f921"
             ]
            ],
            "type": "histogram2dcontour"
           }
          ],
          "mesh3d": [
           {
            "colorbar": {
             "outlinewidth": 0,
             "ticks": ""
            },
            "type": "mesh3d"
           }
          ],
          "parcoords": [
           {
            "line": {
             "colorbar": {
              "outlinewidth": 0,
              "ticks": ""
             }
            },
            "type": "parcoords"
           }
          ],
          "pie": [
           {
            "automargin": true,
            "type": "pie"
           }
          ],
          "scatter": [
           {
            "fillpattern": {
             "fillmode": "overlay",
             "size": 10,
             "solidity": 0.2
            },
            "type": "scatter"
           }
          ],
          "scatter3d": [
           {
            "line": {
             "colorbar": {
              "outlinewidth": 0,
              "ticks": ""
             }
            },
            "marker": {
             "colorbar": {
              "outlinewidth": 0,
              "ticks": ""
             }
            },
            "type": "scatter3d"
           }
          ],
          "scattercarpet": [
           {
            "marker": {
             "colorbar": {
              "outlinewidth": 0,
              "ticks": ""
             }
            },
            "type": "scattercarpet"
           }
          ],
          "scattergeo": [
           {
            "marker": {
             "colorbar": {
              "outlinewidth": 0,
              "ticks": ""
             }
            },
            "type": "scattergeo"
           }
          ],
          "scattergl": [
           {
            "marker": {
             "colorbar": {
              "outlinewidth": 0,
              "ticks": ""
             }
            },
            "type": "scattergl"
           }
          ],
          "scattermapbox": [
           {
            "marker": {
             "colorbar": {
              "outlinewidth": 0,
              "ticks": ""
             }
            },
            "type": "scattermapbox"
           }
          ],
          "scatterpolar": [
           {
            "marker": {
             "colorbar": {
              "outlinewidth": 0,
              "ticks": ""
             }
            },
            "type": "scatterpolar"
           }
          ],
          "scatterpolargl": [
           {
            "marker": {
             "colorbar": {
              "outlinewidth": 0,
              "ticks": ""
             }
            },
            "type": "scatterpolargl"
           }
          ],
          "scatterternary": [
           {
            "marker": {
             "colorbar": {
              "outlinewidth": 0,
              "ticks": ""
             }
            },
            "type": "scatterternary"
           }
          ],
          "surface": [
           {
            "colorbar": {
             "outlinewidth": 0,
             "ticks": ""
            },
            "colorscale": [
             [
              0,
              "#0d0887"
             ],
             [
              0.1111111111111111,
              "#46039f"
             ],
             [
              0.2222222222222222,
              "#7201a8"
             ],
             [
              0.3333333333333333,
              "#9c179e"
             ],
             [
              0.4444444444444444,
              "#bd3786"
             ],
             [
              0.5555555555555556,
              "#d8576b"
             ],
             [
              0.6666666666666666,
              "#ed7953"
             ],
             [
              0.7777777777777778,
              "#fb9f3a"
             ],
             [
              0.8888888888888888,
              "#fdca26"
             ],
             [
              1,
              "#f0f921"
             ]
            ],
            "type": "surface"
           }
          ],
          "table": [
           {
            "cells": {
             "fill": {
              "color": "#EBF0F8"
             },
             "line": {
              "color": "white"
             }
            },
            "header": {
             "fill": {
              "color": "#C8D4E3"
             },
             "line": {
              "color": "white"
             }
            },
            "type": "table"
           }
          ]
         },
         "layout": {
          "annotationdefaults": {
           "arrowcolor": "#2a3f5f",
           "arrowhead": 0,
           "arrowwidth": 1
          },
          "autotypenumbers": "strict",
          "coloraxis": {
           "colorbar": {
            "outlinewidth": 0,
            "ticks": ""
           }
          },
          "colorscale": {
           "diverging": [
            [
             0,
             "#8e0152"
            ],
            [
             0.1,
             "#c51b7d"
            ],
            [
             0.2,
             "#de77ae"
            ],
            [
             0.3,
             "#f1b6da"
            ],
            [
             0.4,
             "#fde0ef"
            ],
            [
             0.5,
             "#f7f7f7"
            ],
            [
             0.6,
             "#e6f5d0"
            ],
            [
             0.7,
             "#b8e186"
            ],
            [
             0.8,
             "#7fbc41"
            ],
            [
             0.9,
             "#4d9221"
            ],
            [
             1,
             "#276419"
            ]
           ],
           "sequential": [
            [
             0,
             "#0d0887"
            ],
            [
             0.1111111111111111,
             "#46039f"
            ],
            [
             0.2222222222222222,
             "#7201a8"
            ],
            [
             0.3333333333333333,
             "#9c179e"
            ],
            [
             0.4444444444444444,
             "#bd3786"
            ],
            [
             0.5555555555555556,
             "#d8576b"
            ],
            [
             0.6666666666666666,
             "#ed7953"
            ],
            [
             0.7777777777777778,
             "#fb9f3a"
            ],
            [
             0.8888888888888888,
             "#fdca26"
            ],
            [
             1,
             "#f0f921"
            ]
           ],
           "sequentialminus": [
            [
             0,
             "#0d0887"
            ],
            [
             0.1111111111111111,
             "#46039f"
            ],
            [
             0.2222222222222222,
             "#7201a8"
            ],
            [
             0.3333333333333333,
             "#9c179e"
            ],
            [
             0.4444444444444444,
             "#bd3786"
            ],
            [
             0.5555555555555556,
             "#d8576b"
            ],
            [
             0.6666666666666666,
             "#ed7953"
            ],
            [
             0.7777777777777778,
             "#fb9f3a"
            ],
            [
             0.8888888888888888,
             "#fdca26"
            ],
            [
             1,
             "#f0f921"
            ]
           ]
          },
          "colorway": [
           "#636efa",
           "#EF553B",
           "#00cc96",
           "#ab63fa",
           "#FFA15A",
           "#19d3f3",
           "#FF6692",
           "#B6E880",
           "#FF97FF",
           "#FECB52"
          ],
          "font": {
           "color": "#2a3f5f"
          },
          "geo": {
           "bgcolor": "white",
           "lakecolor": "white",
           "landcolor": "#E5ECF6",
           "showlakes": true,
           "showland": true,
           "subunitcolor": "white"
          },
          "hoverlabel": {
           "align": "left"
          },
          "hovermode": "closest",
          "mapbox": {
           "style": "light"
          },
          "paper_bgcolor": "white",
          "plot_bgcolor": "#E5ECF6",
          "polar": {
           "angularaxis": {
            "gridcolor": "white",
            "linecolor": "white",
            "ticks": ""
           },
           "bgcolor": "#E5ECF6",
           "radialaxis": {
            "gridcolor": "white",
            "linecolor": "white",
            "ticks": ""
           }
          },
          "scene": {
           "xaxis": {
            "backgroundcolor": "#E5ECF6",
            "gridcolor": "white",
            "gridwidth": 2,
            "linecolor": "white",
            "showbackground": true,
            "ticks": "",
            "zerolinecolor": "white"
           },
           "yaxis": {
            "backgroundcolor": "#E5ECF6",
            "gridcolor": "white",
            "gridwidth": 2,
            "linecolor": "white",
            "showbackground": true,
            "ticks": "",
            "zerolinecolor": "white"
           },
           "zaxis": {
            "backgroundcolor": "#E5ECF6",
            "gridcolor": "white",
            "gridwidth": 2,
            "linecolor": "white",
            "showbackground": true,
            "ticks": "",
            "zerolinecolor": "white"
           }
          },
          "shapedefaults": {
           "line": {
            "color": "#2a3f5f"
           }
          },
          "ternary": {
           "aaxis": {
            "gridcolor": "white",
            "linecolor": "white",
            "ticks": ""
           },
           "baxis": {
            "gridcolor": "white",
            "linecolor": "white",
            "ticks": ""
           },
           "bgcolor": "#E5ECF6",
           "caxis": {
            "gridcolor": "white",
            "linecolor": "white",
            "ticks": ""
           }
          },
          "title": {
           "x": 0.05
          },
          "xaxis": {
           "automargin": true,
           "gridcolor": "white",
           "linecolor": "white",
           "ticks": "",
           "title": {
            "standoff": 15
           },
           "zerolinecolor": "white",
           "zerolinewidth": 2
          },
          "yaxis": {
           "automargin": true,
           "gridcolor": "white",
           "linecolor": "white",
           "ticks": "",
           "title": {
            "standoff": 15
           },
           "zerolinecolor": "white",
           "zerolinewidth": 2
          }
         }
        },
        "title": {
         "text": "Parallel Coordinate Plot"
        }
       }
      }
     },
     "metadata": {},
     "output_type": "display_data"
    }
   ],
   "source": [
    "\n",
    "# Plot the parallel coordinate plot to visualize hyperparameter interactions\n",
    "parallel_coordinate = plot_parallel_coordinate(study)\n",
    "parallel_coordinate.show()\n",
    "\n"
   ]
  },
  {
   "cell_type": "code",
   "execution_count": 22,
   "metadata": {},
   "outputs": [
    {
     "data": {
      "application/vnd.plotly.v1+json": {
       "config": {
        "plotlyServerURL": "https://plot.ly"
       },
       "data": [
        {
         "marker": {
          "color": [
           0,
           1,
           2,
           3,
           4,
           5,
           6,
           7,
           8,
           9,
           10,
           11,
           12,
           13,
           14,
           15,
           16,
           17,
           18,
           19,
           20,
           21,
           22,
           23,
           24,
           25,
           26,
           27,
           28,
           29,
           30,
           31,
           32,
           33,
           34,
           35,
           36,
           37,
           38,
           39,
           40,
           41,
           42,
           43,
           44,
           45,
           46,
           47,
           48,
           49,
           50,
           51,
           52,
           53,
           54,
           55,
           56,
           57,
           58,
           59,
           60,
           61,
           62,
           63,
           64,
           65,
           66,
           67,
           68,
           69,
           70,
           71,
           72,
           73,
           74,
           75,
           76,
           77,
           78,
           79,
           80,
           81,
           82,
           83,
           84,
           85,
           86,
           87,
           88,
           89,
           90,
           91,
           92,
           93,
           94,
           95,
           96,
           97,
           98,
           99,
           100,
           101,
           102,
           103,
           104,
           105,
           106,
           107,
           108,
           109,
           110,
           111,
           112,
           113,
           114,
           115,
           116,
           117,
           118,
           119,
           120,
           121,
           122,
           123,
           124,
           125,
           126,
           127,
           128,
           129,
           130,
           131,
           132,
           133,
           134,
           135,
           136,
           137,
           138,
           139,
           140,
           141,
           142,
           143,
           144,
           145,
           146,
           147,
           148,
           149,
           150,
           151,
           152,
           153,
           154,
           155,
           156,
           157,
           158,
           159,
           160,
           161,
           162,
           163,
           164,
           165,
           166,
           167,
           168,
           169,
           170,
           171,
           172,
           173,
           174,
           175,
           176,
           177,
           178,
           179,
           180,
           181,
           182,
           183,
           184,
           185,
           186,
           187,
           188,
           189,
           190,
           191,
           192,
           193,
           194,
           195,
           196,
           197,
           198,
           199
          ],
          "colorbar": {
           "title": {
            "text": "Trial"
           },
           "x": 1,
           "xpad": 40
          },
          "colorscale": [
           [
            0,
            "rgb(247,251,255)"
           ],
           [
            0.125,
            "rgb(222,235,247)"
           ],
           [
            0.25,
            "rgb(198,219,239)"
           ],
           [
            0.375,
            "rgb(158,202,225)"
           ],
           [
            0.5,
            "rgb(107,174,214)"
           ],
           [
            0.625,
            "rgb(66,146,198)"
           ],
           [
            0.75,
            "rgb(33,113,181)"
           ],
           [
            0.875,
            "rgb(8,81,156)"
           ],
           [
            1,
            "rgb(8,48,107)"
           ]
          ],
          "line": {
           "color": "Grey",
           "width": 0.5
          },
          "showscale": true
         },
         "mode": "markers",
         "name": "Feasible Trial",
         "showlegend": false,
         "type": "scatter",
         "x": [
          0.00002534550647533787,
          0.014067948969419162,
          0.00008956683484603692,
          0.0407955662479398,
          0.02099433006834068,
          0.000043899482542229164,
          0.0016331497861508696,
          0.0009836341865846158,
          0.000037716494130917386,
          0.009346558933511717,
          0.00025059548064903825,
          0.08856147043142763,
          0.000201092259407804,
          0.0023686389071782303,
          0.0032031962174597388,
          0.0003444863727477375,
          0.00010392722210266037,
          0.00001001005568441051,
          0.0008016560169322676,
          0.005034486116102964,
          0.0004354511634924661,
          0.002736207055477187,
          0.002899870015298622,
          0.006236057195872527,
          0.00009732657868191388,
          0.0018513410599445025,
          0.0005578754791855713,
          0.004136398615174989,
          0.001638977506585721,
          0.00012072666760151794,
          0.00001154757604323863,
          0.0005700827570805628,
          0.00005871913142391829,
          0.00038776776359874675,
          0.024509867492093638,
          0.00001957415747248043,
          0.011050263611981243,
          0.0012370088188723462,
          0.00015175731812026175,
          0.0006658791637724802,
          0.019102101306184317,
          0.00006615773572819134,
          0.000027052222425905142,
          0.00005391273458755154,
          0.00020276679187905067,
          0.000030554283451801445,
          0.00007817673137708744,
          0.0011140761378116563,
          0.0002926245108699081,
          0.0025144554166687313,
          0.00004649269074979512,
          0.000021227608523314494,
          0.000046546514592672433,
          0.00015457669280228873,
          0.006501307413354648,
          0.000015128757313384105,
          0.00004017999405924958,
          0.00007480230335872968,
          0.0036302522858158858,
          0.008152463332740735,
          0.00044482904706493484,
          0.00007011232578330667,
          0.0000525615115620418,
          0.001985618267585086,
          0.00003294840568000077,
          0.00011402502592072475,
          0.00018299286907847302,
          0.00006257123903899135,
          0.00009542670229699926,
          0.0008195019909548718,
          0.07992992721466653,
          0.03960280308424538,
          0.00023954807509359794,
          0.05856645366436384,
          0.0013822818924152022,
          0.013185607881384075,
          0.000015684044947861816,
          0.00013184168524123862,
          0.09981271303685721,
          0.00009021772118507765,
          0.00031660130926196935,
          0.00008631303524221483,
          0.00009091358448351309,
          0.000024231786843793316,
          0.00004166398722154856,
          0.004398643508227476,
          0.0004381983714787249,
          0.002383889497322648,
          0.0000540057061741245,
          0.00003466279763374485,
          0.026570871778880203,
          0.00015901490163537852,
          0.00008325411384647286,
          0.00006036184533844558,
          0.0001285592872080831,
          0.00023317177038950797,
          0.003335503391797398,
          0.000059174020260241225,
          0.0009017691140767597,
          0.00004504666290782709,
          0.00010450018251299992,
          0.00006991331756024646,
          0.000028029306564542444,
          0.00007780409060785171,
          0.00007546953870599513,
          0.000047071779151261444,
          0.00019193556671660524,
          0.00010575606241136589,
          0.00013827513686872917,
          0.00006715982782455867,
          0.00008582033841246022,
          0.00003800255403135608,
          0.00005783919261367091,
          0.000049525408216532854,
          0.0006333804890465284,
          0.0014825134890080554,
          0.00016590658294225852,
          0.006701736937797325,
          0.000022829971036742572,
          0.05682116171927603,
          0.0019407472745184182,
          0.00006370990182341332,
          0.00007382962217678735,
          0.00009424590807821245,
          0.000035283025388323145,
          0.00010642139664982684,
          0.005170905379082568,
          0.01901855291738409,
          0.00008034069201733892,
          0.00012021897189029232,
          0.00001799004920755564,
          0.00005972273998634966,
          0.00009416229878408069,
          0.000029449908025204593,
          0.00003979775785193816,
          0.00007048598543242865,
          0.000050009006769363134,
          0.00008148400753807485,
          0.00013907375476730907,
          0.0011263922045044346,
          0.00908487463430055,
          0.00008321224278555193,
          0.00006287544689781354,
          0.00011310400025702352,
          0.00004566079887372251,
          0.00009454975755609388,
          0.00005530275202782377,
          0.00005744202827712619,
          0.000032622767163402866,
          0.00007417837462635805,
          0.00007377395724221299,
          0.000054124813111268616,
          0.000044420834132646396,
          0.00007463294712903285,
          0.00011453303810771856,
          0.00006184165299011263,
          0.00008767315991278471,
          0.0028920176809445904,
          0.000293645160415896,
          0.00005122982711366988,
          0.00004192335327460364,
          0.0000941303030977643,
          0.00006894845466411864,
          0.0004999898568628421,
          0.00015546057691893619,
          0.00012691250474690692,
          0.00008171706647397016,
          0.000722596509168181,
          0.00006680030570454329,
          0.000036434480144159936,
          0.00006527535509206163,
          0.00010384289821607862,
          0.000053737146086345966,
          0.00008014078453756796,
          0.00006169244227595008,
          0.00006349901170523536,
          0.00004471173329818695,
          0.00005710086575743198,
          0.012299769070024934,
          0.00007087860227784138,
          0.000028116478253390537,
          0.00005240029955361932,
          0.00006586705809837017,
          0.00008565514092767825,
          0.0000402467456257329,
          0.00006371067929336075,
          0.0023696460763464105,
          0.000058390055573221014,
          0.00010679940996059197,
          0.00004833439692737519,
          0.037818810099084665,
          0.07493118149235697,
          0.0000617965342181128,
          0.00007254540581518117,
          0.00005632791210021814,
          0.00008087948546893144,
          0.015658582203757668,
          0.00005367633167806441,
          0.00003410201838537495,
          0.00006165674444734674
         ],
         "xaxis": "x",
         "y": [
          0.5245901639344263,
          0.8360655737704918,
          0.8852459016393442,
          0.6885245901639344,
          0.8688524590163934,
          0.8688524590163934,
          0.8524590163934426,
          0.5573770491803278,
          0.4918032786885246,
          0.8524590163934426,
          0.5245901639344263,
          0.819672131147541,
          0.5245901639344263,
          0.8852459016393442,
          0.8852459016393442,
          0.8688524590163934,
          0.8524590163934426,
          0.7704918032786885,
          0.47540983606557374,
          0.8524590163934426,
          0.8852459016393442,
          0.8360655737704918,
          0.8524590163934426,
          0.8524590163934426,
          0.8688524590163934,
          0.8688524590163934,
          0.8360655737704918,
          0.8360655737704918,
          0.8688524590163934,
          0.47540983606557374,
          0.5245901639344263,
          0.8688524590163934,
          0.8852459016393442,
          0.5245901639344263,
          0.8688524590163934,
          0.6557377049180327,
          0.8360655737704918,
          0.6885245901639344,
          0.5245901639344263,
          0.8688524590163934,
          0.8524590163934426,
          0.8852459016393442,
          0.819672131147541,
          0.7704918032786885,
          0.8360655737704918,
          0.5409836065573771,
          0.7377049180327869,
          0.8524590163934426,
          0.6721311475409836,
          0.8524590163934426,
          0.9016393442622951,
          0.47540983606557374,
          0.5573770491803278,
          0.8360655737704918,
          0.8524590163934426,
          0.47540983606557374,
          0.5245901639344263,
          0.7868852459016393,
          0.5245901639344263,
          0.8688524590163934,
          0.8524590163934426,
          0.8688524590163934,
          0.7704918032786885,
          0.8688524590163934,
          0.5245901639344263,
          0.8524590163934426,
          0.8524590163934426,
          0.8360655737704918,
          0.8852459016393442,
          0.8524590163934426,
          0.9016393442622951,
          0.5245901639344263,
          0.47540983606557374,
          0.8688524590163934,
          0.47540983606557374,
          0.8360655737704918,
          0.5245901639344263,
          0.8688524590163934,
          0.8688524590163934,
          0.9016393442622951,
          0.5245901639344263,
          0.9016393442622951,
          0.8688524590163934,
          0.5245901639344263,
          0.7049180327868853,
          0.8032786885245902,
          0.8524590163934426,
          0.8688524590163934,
          0.7704918032786885,
          0.6721311475409836,
          0.8688524590163934,
          0.8852459016393442,
          0.8852459016393442,
          0.9016393442622951,
          0.8852459016393442,
          0.8524590163934426,
          0.8688524590163934,
          0.5737704918032787,
          0.8852459016393442,
          0.5245901639344263,
          0.47540983606557374,
          0.9016393442622951,
          0.5245901639344263,
          0.9016393442622951,
          0.8688524590163934,
          0.6557377049180327,
          0.8524590163934426,
          0.8852459016393442,
          0.6065573770491803,
          0.8852459016393442,
          0.8524590163934426,
          0.8524590163934426,
          0.8852459016393442,
          0.8524590163934426,
          0.8688524590163934,
          0.29508196721311475,
          0.8688524590163934,
          0.8032786885245902,
          0.5245901639344263,
          0.8360655737704918,
          0.8688524590163934,
          0.7868852459016393,
          0.8688524590163934,
          0.8852459016393442,
          0.8524590163934426,
          0.8524590163934426,
          0.8524590163934426,
          0.5245901639344263,
          0.5245901639344263,
          0.8852459016393442,
          0.47540983606557374,
          0.7704918032786885,
          0.7704918032786885,
          0.7540983606557377,
          0.7868852459016393,
          0.7377049180327869,
          0.5245901639344263,
          0.9180327868852459,
          0.8852459016393442,
          0.8688524590163934,
          0.8360655737704918,
          0.8688524590163934,
          0.639344262295082,
          0.8688524590163934,
          0.8852459016393442,
          0.8524590163934426,
          0.9180327868852459,
          0.8688524590163934,
          0.8852459016393442,
          0.9016393442622951,
          0.8032786885245902,
          0.8360655737704918,
          0.8688524590163934,
          0.8688524590163934,
          0.8852459016393442,
          0.8688524590163934,
          0.8360655737704918,
          0.8524590163934426,
          0.6557377049180327,
          0.7213114754098361,
          0.5245901639344263,
          0.8360655737704918,
          0.7868852459016393,
          0.8524590163934426,
          0.8688524590163934,
          0.8524590163934426,
          0.8524590163934426,
          0.8688524590163934,
          0.9016393442622951,
          0.5409836065573771,
          0.8524590163934426,
          0.8852459016393442,
          0.8688524590163934,
          0.8688524590163934,
          0.9016393442622951,
          0.9016393442622951,
          0.8852459016393442,
          0.8852459016393442,
          0.8524590163934426,
          0.6557377049180327,
          0.8688524590163934,
          0.8524590163934426,
          0.8852459016393442,
          0.8688524590163934,
          0.8688524590163934,
          0.9016393442622951,
          0.8688524590163934,
          0.9016393442622951,
          0.8852459016393442,
          0.8524590163934426,
          0.8524590163934426,
          0.819672131147541,
          0.819672131147541,
          0.8688524590163934,
          0.9016393442622951,
          0.8360655737704918,
          0.8688524590163934,
          0.8852459016393442,
          0.7868852459016393,
          0.26229508196721313
         ],
         "yaxis": "y"
        },
        {
         "marker": {
          "color": [
           0,
           1,
           2,
           3,
           4,
           5,
           6,
           7,
           8,
           9,
           10,
           11,
           12,
           13,
           14,
           15,
           16,
           17,
           18,
           19,
           20,
           21,
           22,
           23,
           24,
           25,
           26,
           27,
           28,
           29,
           30,
           31,
           32,
           33,
           34,
           35,
           36,
           37,
           38,
           39,
           40,
           41,
           42,
           43,
           44,
           45,
           46,
           47,
           48,
           49,
           50,
           51,
           52,
           53,
           54,
           55,
           56,
           57,
           58,
           59,
           60,
           61,
           62,
           63,
           64,
           65,
           66,
           67,
           68,
           69,
           70,
           71,
           72,
           73,
           74,
           75,
           76,
           77,
           78,
           79,
           80,
           81,
           82,
           83,
           84,
           85,
           86,
           87,
           88,
           89,
           90,
           91,
           92,
           93,
           94,
           95,
           96,
           97,
           98,
           99,
           100,
           101,
           102,
           103,
           104,
           105,
           106,
           107,
           108,
           109,
           110,
           111,
           112,
           113,
           114,
           115,
           116,
           117,
           118,
           119,
           120,
           121,
           122,
           123,
           124,
           125,
           126,
           127,
           128,
           129,
           130,
           131,
           132,
           133,
           134,
           135,
           136,
           137,
           138,
           139,
           140,
           141,
           142,
           143,
           144,
           145,
           146,
           147,
           148,
           149,
           150,
           151,
           152,
           153,
           154,
           155,
           156,
           157,
           158,
           159,
           160,
           161,
           162,
           163,
           164,
           165,
           166,
           167,
           168,
           169,
           170,
           171,
           172,
           173,
           174,
           175,
           176,
           177,
           178,
           179,
           180,
           181,
           182,
           183,
           184,
           185,
           186,
           187,
           188,
           189,
           190,
           191,
           192,
           193,
           194,
           195,
           196,
           197,
           198,
           199
          ],
          "colorbar": {
           "title": {
            "text": "Trial"
           },
           "x": 1,
           "xpad": 40
          },
          "colorscale": [
           [
            0,
            "rgb(247,251,255)"
           ],
           [
            0.125,
            "rgb(222,235,247)"
           ],
           [
            0.25,
            "rgb(198,219,239)"
           ],
           [
            0.375,
            "rgb(158,202,225)"
           ],
           [
            0.5,
            "rgb(107,174,214)"
           ],
           [
            0.625,
            "rgb(66,146,198)"
           ],
           [
            0.75,
            "rgb(33,113,181)"
           ],
           [
            0.875,
            "rgb(8,81,156)"
           ],
           [
            1,
            "rgb(8,48,107)"
           ]
          ],
          "line": {
           "color": "Grey",
           "width": 0.5
          },
          "showscale": false
         },
         "mode": "markers",
         "name": "Feasible Trial",
         "showlegend": false,
         "type": "scatter",
         "x": [
          2,
          1,
          3,
          1,
          1,
          2,
          2,
          1,
          1,
          1,
          3,
          3,
          3,
          3,
          3,
          3,
          3,
          2,
          3,
          2,
          3,
          3,
          3,
          3,
          2,
          3,
          3,
          2,
          3,
          2,
          3,
          3,
          3,
          3,
          3,
          3,
          3,
          2,
          3,
          3,
          2,
          3,
          3,
          3,
          3,
          3,
          1,
          3,
          3,
          3,
          3,
          3,
          3,
          3,
          3,
          3,
          3,
          3,
          3,
          2,
          1,
          3,
          3,
          3,
          3,
          3,
          3,
          3,
          3,
          3,
          3,
          3,
          3,
          3,
          3,
          3,
          3,
          3,
          3,
          2,
          2,
          2,
          2,
          2,
          2,
          2,
          2,
          2,
          2,
          2,
          1,
          3,
          3,
          3,
          3,
          2,
          3,
          3,
          3,
          3,
          2,
          3,
          3,
          3,
          3,
          3,
          3,
          3,
          3,
          3,
          3,
          3,
          3,
          3,
          3,
          3,
          3,
          3,
          3,
          2,
          3,
          3,
          3,
          3,
          3,
          3,
          3,
          3,
          2,
          3,
          3,
          3,
          3,
          3,
          3,
          3,
          3,
          3,
          3,
          2,
          1,
          3,
          3,
          3,
          3,
          3,
          3,
          3,
          2,
          3,
          3,
          3,
          3,
          3,
          3,
          3,
          3,
          3,
          2,
          3,
          3,
          3,
          3,
          1,
          3,
          3,
          3,
          3,
          3,
          3,
          3,
          3,
          3,
          3,
          3,
          3,
          3,
          3,
          3,
          3,
          3,
          3,
          3,
          3,
          3,
          2,
          2,
          2,
          2,
          2,
          2,
          2,
          2,
          2,
          2,
          2,
          2,
          2,
          2,
          2
         ],
         "xaxis": "x2",
         "y": [
          0.5245901639344263,
          0.8360655737704918,
          0.8852459016393442,
          0.6885245901639344,
          0.8688524590163934,
          0.8688524590163934,
          0.8524590163934426,
          0.5573770491803278,
          0.4918032786885246,
          0.8524590163934426,
          0.5245901639344263,
          0.819672131147541,
          0.5245901639344263,
          0.8852459016393442,
          0.8852459016393442,
          0.8688524590163934,
          0.8524590163934426,
          0.7704918032786885,
          0.47540983606557374,
          0.8524590163934426,
          0.8852459016393442,
          0.8360655737704918,
          0.8524590163934426,
          0.8524590163934426,
          0.8688524590163934,
          0.8688524590163934,
          0.8360655737704918,
          0.8360655737704918,
          0.8688524590163934,
          0.47540983606557374,
          0.5245901639344263,
          0.8688524590163934,
          0.8852459016393442,
          0.5245901639344263,
          0.8688524590163934,
          0.6557377049180327,
          0.8360655737704918,
          0.6885245901639344,
          0.5245901639344263,
          0.8688524590163934,
          0.8524590163934426,
          0.8852459016393442,
          0.819672131147541,
          0.7704918032786885,
          0.8360655737704918,
          0.5409836065573771,
          0.7377049180327869,
          0.8524590163934426,
          0.6721311475409836,
          0.8524590163934426,
          0.9016393442622951,
          0.47540983606557374,
          0.5573770491803278,
          0.8360655737704918,
          0.8524590163934426,
          0.47540983606557374,
          0.5245901639344263,
          0.7868852459016393,
          0.5245901639344263,
          0.8688524590163934,
          0.8524590163934426,
          0.8688524590163934,
          0.7704918032786885,
          0.8688524590163934,
          0.5245901639344263,
          0.8524590163934426,
          0.8524590163934426,
          0.8360655737704918,
          0.8852459016393442,
          0.8524590163934426,
          0.9016393442622951,
          0.5245901639344263,
          0.47540983606557374,
          0.8688524590163934,
          0.47540983606557374,
          0.8360655737704918,
          0.5245901639344263,
          0.8688524590163934,
          0.8688524590163934,
          0.9016393442622951,
          0.5245901639344263,
          0.9016393442622951,
          0.8688524590163934,
          0.5245901639344263,
          0.7049180327868853,
          0.8032786885245902,
          0.8524590163934426,
          0.8688524590163934,
          0.7704918032786885,
          0.6721311475409836,
          0.8688524590163934,
          0.8852459016393442,
          0.8852459016393442,
          0.9016393442622951,
          0.8852459016393442,
          0.8524590163934426,
          0.8688524590163934,
          0.5737704918032787,
          0.8852459016393442,
          0.5245901639344263,
          0.47540983606557374,
          0.9016393442622951,
          0.5245901639344263,
          0.9016393442622951,
          0.8688524590163934,
          0.6557377049180327,
          0.8524590163934426,
          0.8852459016393442,
          0.6065573770491803,
          0.8852459016393442,
          0.8524590163934426,
          0.8524590163934426,
          0.8852459016393442,
          0.8524590163934426,
          0.8688524590163934,
          0.29508196721311475,
          0.8688524590163934,
          0.8032786885245902,
          0.5245901639344263,
          0.8360655737704918,
          0.8688524590163934,
          0.7868852459016393,
          0.8688524590163934,
          0.8852459016393442,
          0.8524590163934426,
          0.8524590163934426,
          0.8524590163934426,
          0.5245901639344263,
          0.5245901639344263,
          0.8852459016393442,
          0.47540983606557374,
          0.7704918032786885,
          0.7704918032786885,
          0.7540983606557377,
          0.7868852459016393,
          0.7377049180327869,
          0.5245901639344263,
          0.9180327868852459,
          0.8852459016393442,
          0.8688524590163934,
          0.8360655737704918,
          0.8688524590163934,
          0.639344262295082,
          0.8688524590163934,
          0.8852459016393442,
          0.8524590163934426,
          0.9180327868852459,
          0.8688524590163934,
          0.8852459016393442,
          0.9016393442622951,
          0.8032786885245902,
          0.8360655737704918,
          0.8688524590163934,
          0.8688524590163934,
          0.8852459016393442,
          0.8688524590163934,
          0.8360655737704918,
          0.8524590163934426,
          0.6557377049180327,
          0.7213114754098361,
          0.5245901639344263,
          0.8360655737704918,
          0.7868852459016393,
          0.8524590163934426,
          0.8688524590163934,
          0.8524590163934426,
          0.8524590163934426,
          0.8688524590163934,
          0.9016393442622951,
          0.5409836065573771,
          0.8524590163934426,
          0.8852459016393442,
          0.8688524590163934,
          0.8688524590163934,
          0.9016393442622951,
          0.9016393442622951,
          0.8852459016393442,
          0.8852459016393442,
          0.8524590163934426,
          0.6557377049180327,
          0.8688524590163934,
          0.8524590163934426,
          0.8852459016393442,
          0.8688524590163934,
          0.8688524590163934,
          0.9016393442622951,
          0.8688524590163934,
          0.9016393442622951,
          0.8852459016393442,
          0.8524590163934426,
          0.8524590163934426,
          0.819672131147541,
          0.819672131147541,
          0.8688524590163934,
          0.9016393442622951,
          0.8360655737704918,
          0.8688524590163934,
          0.8852459016393442,
          0.7868852459016393,
          0.26229508196721313
         ],
         "yaxis": "y2"
        },
        {
         "marker": {
          "color": [
           0,
           1,
           2,
           3,
           4,
           5,
           6,
           7,
           8,
           9,
           10,
           11,
           12,
           13,
           14,
           15,
           16,
           17,
           18,
           19,
           20,
           21,
           22,
           23,
           24,
           25,
           26,
           27,
           28,
           29,
           30,
           31,
           32,
           33,
           34,
           35,
           36,
           37,
           38,
           39,
           40,
           41,
           42,
           43,
           44,
           45,
           46,
           47,
           48,
           49,
           50,
           51,
           52,
           53,
           54,
           55,
           56,
           57,
           58,
           59,
           60,
           61,
           62,
           63,
           64,
           65,
           66,
           67,
           68,
           69,
           70,
           71,
           72,
           73,
           74,
           75,
           76,
           77,
           78,
           79,
           80,
           81,
           82,
           83,
           84,
           85,
           86,
           87,
           88,
           89,
           90,
           91,
           92,
           93,
           94,
           95,
           96,
           97,
           98,
           99,
           100,
           101,
           102,
           103,
           104,
           105,
           106,
           107,
           108,
           109,
           110,
           111,
           112,
           113,
           114,
           115,
           116,
           117,
           118,
           119,
           120,
           121,
           122,
           123,
           124,
           125,
           126,
           127,
           128,
           129,
           130,
           131,
           132,
           133,
           134,
           135,
           136,
           137,
           138,
           139,
           140,
           141,
           142,
           143,
           144,
           145,
           146,
           147,
           148,
           149,
           150,
           151,
           152,
           153,
           154,
           155,
           156,
           157,
           158,
           159,
           160,
           161,
           162,
           163,
           164,
           165,
           166,
           167,
           168,
           169,
           170,
           171,
           172,
           173,
           174,
           175,
           176,
           177,
           178,
           179,
           180,
           181,
           182,
           183,
           184,
           185,
           186,
           187,
           188,
           189,
           190,
           191,
           192,
           193,
           194,
           195,
           196,
           197,
           198,
           199
          ],
          "colorbar": {
           "title": {
            "text": "Trial"
           },
           "x": 1,
           "xpad": 40
          },
          "colorscale": [
           [
            0,
            "rgb(247,251,255)"
           ],
           [
            0.125,
            "rgb(222,235,247)"
           ],
           [
            0.25,
            "rgb(198,219,239)"
           ],
           [
            0.375,
            "rgb(158,202,225)"
           ],
           [
            0.5,
            "rgb(107,174,214)"
           ],
           [
            0.625,
            "rgb(66,146,198)"
           ],
           [
            0.75,
            "rgb(33,113,181)"
           ],
           [
            0.875,
            "rgb(8,81,156)"
           ],
           [
            1,
            "rgb(8,48,107)"
           ]
          ],
          "line": {
           "color": "Grey",
           "width": 0.5
          },
          "showscale": false
         },
         "mode": "markers",
         "name": "Feasible Trial",
         "showlegend": false,
         "type": "scatter",
         "x": [
          102,
          81,
          96,
          54,
          82,
          81,
          17,
          106,
          45,
          101,
          127,
          65,
          89,
          125,
          128,
          117,
          113,
          94,
          113,
          19,
          64,
          126,
          122,
          111,
          96,
          127,
          118,
          107,
          91,
          99,
          73,
          54,
          65,
          36,
          68,
          76,
          59,
          86,
          46,
          106,
          121,
          62,
          75,
          84,
          55,
          79,
          70,
          47,
          65,
          37,
          104,
          122,
          116,
          105,
          124,
          128,
          111,
          102,
          93,
          88,
          79,
          58,
          61,
          67,
          50,
          117,
          64,
          99,
          72,
          62,
          120,
          120,
          109,
          125,
          116,
          113,
          125,
          57,
          51,
          119,
          119,
          124,
          128,
          114,
          122,
          123,
          110,
          103,
          120,
          114,
          97,
          69,
          125,
          119,
          118,
          128,
          108,
          123,
          115,
          111,
          104,
          75,
          74,
          83,
          77,
          88,
          84,
          82,
          94,
          91,
          100,
          71,
          126,
          67,
          120,
          78,
          65,
          118,
          22,
          123,
          106,
          60,
          56,
          63,
          121,
          66,
          126,
          53,
          70,
          128,
          62,
          75,
          72,
          81,
          59,
          68,
          73,
          124,
          117,
          123,
          120,
          125,
          84,
          112,
          124,
          97,
          115,
          116,
          119,
          122,
          121,
          127,
          114,
          122,
          118,
          125,
          128,
          108,
          91,
          116,
          122,
          65,
          125,
          69,
          119,
          123,
          62,
          76,
          112,
          114,
          112,
          110,
          120,
          117,
          121,
          122,
          121,
          126,
          101,
          118,
          124,
          122,
          115,
          119,
          128,
          124,
          124,
          121,
          121,
          126,
          123,
          117,
          122,
          119,
          126,
          125,
          128,
          120,
          126,
          123
         ],
         "xaxis": "x3",
         "y": [
          0.5245901639344263,
          0.8360655737704918,
          0.8852459016393442,
          0.6885245901639344,
          0.8688524590163934,
          0.8688524590163934,
          0.8524590163934426,
          0.5573770491803278,
          0.4918032786885246,
          0.8524590163934426,
          0.5245901639344263,
          0.819672131147541,
          0.5245901639344263,
          0.8852459016393442,
          0.8852459016393442,
          0.8688524590163934,
          0.8524590163934426,
          0.7704918032786885,
          0.47540983606557374,
          0.8524590163934426,
          0.8852459016393442,
          0.8360655737704918,
          0.8524590163934426,
          0.8524590163934426,
          0.8688524590163934,
          0.8688524590163934,
          0.8360655737704918,
          0.8360655737704918,
          0.8688524590163934,
          0.47540983606557374,
          0.5245901639344263,
          0.8688524590163934,
          0.8852459016393442,
          0.5245901639344263,
          0.8688524590163934,
          0.6557377049180327,
          0.8360655737704918,
          0.6885245901639344,
          0.5245901639344263,
          0.8688524590163934,
          0.8524590163934426,
          0.8852459016393442,
          0.819672131147541,
          0.7704918032786885,
          0.8360655737704918,
          0.5409836065573771,
          0.7377049180327869,
          0.8524590163934426,
          0.6721311475409836,
          0.8524590163934426,
          0.9016393442622951,
          0.47540983606557374,
          0.5573770491803278,
          0.8360655737704918,
          0.8524590163934426,
          0.47540983606557374,
          0.5245901639344263,
          0.7868852459016393,
          0.5245901639344263,
          0.8688524590163934,
          0.8524590163934426,
          0.8688524590163934,
          0.7704918032786885,
          0.8688524590163934,
          0.5245901639344263,
          0.8524590163934426,
          0.8524590163934426,
          0.8360655737704918,
          0.8852459016393442,
          0.8524590163934426,
          0.9016393442622951,
          0.5245901639344263,
          0.47540983606557374,
          0.8688524590163934,
          0.47540983606557374,
          0.8360655737704918,
          0.5245901639344263,
          0.8688524590163934,
          0.8688524590163934,
          0.9016393442622951,
          0.5245901639344263,
          0.9016393442622951,
          0.8688524590163934,
          0.5245901639344263,
          0.7049180327868853,
          0.8032786885245902,
          0.8524590163934426,
          0.8688524590163934,
          0.7704918032786885,
          0.6721311475409836,
          0.8688524590163934,
          0.8852459016393442,
          0.8852459016393442,
          0.9016393442622951,
          0.8852459016393442,
          0.8524590163934426,
          0.8688524590163934,
          0.5737704918032787,
          0.8852459016393442,
          0.5245901639344263,
          0.47540983606557374,
          0.9016393442622951,
          0.5245901639344263,
          0.9016393442622951,
          0.8688524590163934,
          0.6557377049180327,
          0.8524590163934426,
          0.8852459016393442,
          0.6065573770491803,
          0.8852459016393442,
          0.8524590163934426,
          0.8524590163934426,
          0.8852459016393442,
          0.8524590163934426,
          0.8688524590163934,
          0.29508196721311475,
          0.8688524590163934,
          0.8032786885245902,
          0.5245901639344263,
          0.8360655737704918,
          0.8688524590163934,
          0.7868852459016393,
          0.8688524590163934,
          0.8852459016393442,
          0.8524590163934426,
          0.8524590163934426,
          0.8524590163934426,
          0.5245901639344263,
          0.5245901639344263,
          0.8852459016393442,
          0.47540983606557374,
          0.7704918032786885,
          0.7704918032786885,
          0.7540983606557377,
          0.7868852459016393,
          0.7377049180327869,
          0.5245901639344263,
          0.9180327868852459,
          0.8852459016393442,
          0.8688524590163934,
          0.8360655737704918,
          0.8688524590163934,
          0.639344262295082,
          0.8688524590163934,
          0.8852459016393442,
          0.8524590163934426,
          0.9180327868852459,
          0.8688524590163934,
          0.8852459016393442,
          0.9016393442622951,
          0.8032786885245902,
          0.8360655737704918,
          0.8688524590163934,
          0.8688524590163934,
          0.8852459016393442,
          0.8688524590163934,
          0.8360655737704918,
          0.8524590163934426,
          0.6557377049180327,
          0.7213114754098361,
          0.5245901639344263,
          0.8360655737704918,
          0.7868852459016393,
          0.8524590163934426,
          0.8688524590163934,
          0.8524590163934426,
          0.8524590163934426,
          0.8688524590163934,
          0.9016393442622951,
          0.5409836065573771,
          0.8524590163934426,
          0.8852459016393442,
          0.8688524590163934,
          0.8688524590163934,
          0.9016393442622951,
          0.9016393442622951,
          0.8852459016393442,
          0.8852459016393442,
          0.8524590163934426,
          0.6557377049180327,
          0.8688524590163934,
          0.8524590163934426,
          0.8852459016393442,
          0.8688524590163934,
          0.8688524590163934,
          0.9016393442622951,
          0.8688524590163934,
          0.9016393442622951,
          0.8852459016393442,
          0.8524590163934426,
          0.8524590163934426,
          0.819672131147541,
          0.819672131147541,
          0.8688524590163934,
          0.9016393442622951,
          0.8360655737704918,
          0.8688524590163934,
          0.8852459016393442,
          0.7868852459016393,
          0.26229508196721313
         ],
         "yaxis": "y3"
        },
        {
         "marker": {
          "color": [
           0,
           2,
           5,
           6,
           10,
           11,
           12,
           13,
           14,
           15,
           16,
           17,
           18,
           19,
           20,
           21,
           22,
           23,
           24,
           25,
           26,
           27,
           28,
           29,
           30,
           31,
           32,
           33,
           34,
           35,
           36,
           37,
           38,
           39,
           40,
           41,
           42,
           43,
           44,
           45,
           47,
           48,
           49,
           50,
           51,
           52,
           53,
           54,
           55,
           56,
           57,
           58,
           59,
           61,
           62,
           63,
           64,
           65,
           66,
           67,
           68,
           69,
           70,
           71,
           72,
           73,
           74,
           75,
           76,
           77,
           78,
           79,
           80,
           81,
           82,
           83,
           84,
           85,
           86,
           87,
           88,
           89,
           91,
           92,
           93,
           94,
           95,
           96,
           97,
           98,
           99,
           100,
           101,
           102,
           103,
           104,
           105,
           106,
           107,
           108,
           109,
           110,
           111,
           112,
           113,
           114,
           115,
           116,
           117,
           118,
           119,
           120,
           121,
           122,
           123,
           124,
           125,
           126,
           127,
           128,
           129,
           130,
           131,
           132,
           133,
           134,
           135,
           136,
           137,
           138,
           139,
           141,
           142,
           143,
           144,
           145,
           146,
           147,
           148,
           149,
           150,
           151,
           152,
           153,
           154,
           155,
           156,
           157,
           158,
           159,
           160,
           161,
           162,
           164,
           165,
           166,
           167,
           168,
           169,
           170,
           171,
           172,
           173,
           174,
           175,
           176,
           177,
           178,
           179,
           180,
           181,
           182,
           183,
           184,
           185,
           186,
           187,
           188,
           189,
           190,
           191,
           192,
           193,
           194,
           195,
           196,
           197,
           198,
           199
          ],
          "colorbar": {
           "title": {
            "text": "Trial"
           },
           "x": 1,
           "xpad": 40
          },
          "colorscale": [
           [
            0,
            "rgb(247,251,255)"
           ],
           [
            0.125,
            "rgb(222,235,247)"
           ],
           [
            0.25,
            "rgb(198,219,239)"
           ],
           [
            0.375,
            "rgb(158,202,225)"
           ],
           [
            0.5,
            "rgb(107,174,214)"
           ],
           [
            0.625,
            "rgb(66,146,198)"
           ],
           [
            0.75,
            "rgb(33,113,181)"
           ],
           [
            0.875,
            "rgb(8,81,156)"
           ],
           [
            1,
            "rgb(8,48,107)"
           ]
          ],
          "line": {
           "color": "Grey",
           "width": 0.5
          },
          "showscale": false
         },
         "mode": "markers",
         "name": "Feasible Trial",
         "showlegend": false,
         "type": "scatter",
         "x": [
          68,
          96,
          120,
          123,
          24,
          81,
          83,
          52,
          51,
          98,
          43,
          54,
          100,
          21,
          101,
          46,
          64,
          35,
          51,
          60,
          78,
          89,
          35,
          112,
          75,
          104,
          93,
          111,
          57,
          69,
          38,
          110,
          68,
          88,
          120,
          95,
          91,
          103,
          82,
          94,
          116,
          127,
          28,
          46,
          49,
          41,
          61,
          29,
          53,
          104,
          45,
          99,
          66,
          94,
          85,
          92,
          75,
          107,
          98,
          48,
          55,
          96,
          60,
          58,
          61,
          41,
          78,
          16,
          87,
          50,
          101,
          72,
          70,
          65,
          64,
          73,
          54,
          58,
          63,
          80,
          44,
          35,
          66,
          107,
          71,
          75,
          67,
          71,
          47,
          55,
          52,
          63,
          84,
          91,
          86,
          85,
          79,
          73,
          83,
          57,
          77,
          60,
          97,
          88,
          102,
          85,
          92,
          51,
          69,
          99,
          81,
          94,
          95,
          89,
          106,
          65,
          39,
          49,
          90,
          93,
          101,
          96,
          46,
          53,
          58,
          55,
          71,
          62,
          60,
          66,
          60,
          55,
          56,
          43,
          76,
          52,
          73,
          68,
          72,
          84,
          84,
          86,
          80,
          82,
          104,
          98,
          74,
          87,
          69,
          90,
          77,
          59,
          49,
          63,
          96,
          47,
          92,
          100,
          102,
          113,
          99,
          65,
          51,
          94,
          100,
          106,
          100,
          94,
          96,
          103,
          100,
          109,
          92,
          97,
          89,
          89,
          83,
          83,
          87,
          78,
          88,
          84,
          81,
          93,
          90,
          94,
          71,
          86,
          98
         ],
         "xaxis": "x4",
         "y": [
          0.5245901639344263,
          0.8852459016393442,
          0.8688524590163934,
          0.8524590163934426,
          0.5245901639344263,
          0.819672131147541,
          0.5245901639344263,
          0.8852459016393442,
          0.8852459016393442,
          0.8688524590163934,
          0.8524590163934426,
          0.7704918032786885,
          0.47540983606557374,
          0.8524590163934426,
          0.8852459016393442,
          0.8360655737704918,
          0.8524590163934426,
          0.8524590163934426,
          0.8688524590163934,
          0.8688524590163934,
          0.8360655737704918,
          0.8360655737704918,
          0.8688524590163934,
          0.47540983606557374,
          0.5245901639344263,
          0.8688524590163934,
          0.8852459016393442,
          0.5245901639344263,
          0.8688524590163934,
          0.6557377049180327,
          0.8360655737704918,
          0.6885245901639344,
          0.5245901639344263,
          0.8688524590163934,
          0.8524590163934426,
          0.8852459016393442,
          0.819672131147541,
          0.7704918032786885,
          0.8360655737704918,
          0.5409836065573771,
          0.8524590163934426,
          0.6721311475409836,
          0.8524590163934426,
          0.9016393442622951,
          0.47540983606557374,
          0.5573770491803278,
          0.8360655737704918,
          0.8524590163934426,
          0.47540983606557374,
          0.5245901639344263,
          0.7868852459016393,
          0.5245901639344263,
          0.8688524590163934,
          0.8688524590163934,
          0.7704918032786885,
          0.8688524590163934,
          0.5245901639344263,
          0.8524590163934426,
          0.8524590163934426,
          0.8360655737704918,
          0.8852459016393442,
          0.8524590163934426,
          0.9016393442622951,
          0.5245901639344263,
          0.47540983606557374,
          0.8688524590163934,
          0.47540983606557374,
          0.8360655737704918,
          0.5245901639344263,
          0.8688524590163934,
          0.8688524590163934,
          0.9016393442622951,
          0.5245901639344263,
          0.9016393442622951,
          0.8688524590163934,
          0.5245901639344263,
          0.7049180327868853,
          0.8032786885245902,
          0.8524590163934426,
          0.8688524590163934,
          0.7704918032786885,
          0.6721311475409836,
          0.8852459016393442,
          0.8852459016393442,
          0.9016393442622951,
          0.8852459016393442,
          0.8524590163934426,
          0.8688524590163934,
          0.5737704918032787,
          0.8852459016393442,
          0.5245901639344263,
          0.47540983606557374,
          0.9016393442622951,
          0.5245901639344263,
          0.9016393442622951,
          0.8688524590163934,
          0.6557377049180327,
          0.8524590163934426,
          0.8852459016393442,
          0.6065573770491803,
          0.8852459016393442,
          0.8524590163934426,
          0.8524590163934426,
          0.8852459016393442,
          0.8524590163934426,
          0.8688524590163934,
          0.29508196721311475,
          0.8688524590163934,
          0.8032786885245902,
          0.5245901639344263,
          0.8360655737704918,
          0.8688524590163934,
          0.7868852459016393,
          0.8688524590163934,
          0.8852459016393442,
          0.8524590163934426,
          0.8524590163934426,
          0.8524590163934426,
          0.5245901639344263,
          0.5245901639344263,
          0.8852459016393442,
          0.47540983606557374,
          0.7704918032786885,
          0.7704918032786885,
          0.7540983606557377,
          0.7868852459016393,
          0.7377049180327869,
          0.5245901639344263,
          0.9180327868852459,
          0.8852459016393442,
          0.8688524590163934,
          0.8688524590163934,
          0.639344262295082,
          0.8688524590163934,
          0.8852459016393442,
          0.8524590163934426,
          0.9180327868852459,
          0.8688524590163934,
          0.8852459016393442,
          0.9016393442622951,
          0.8032786885245902,
          0.8360655737704918,
          0.8688524590163934,
          0.8688524590163934,
          0.8852459016393442,
          0.8688524590163934,
          0.8360655737704918,
          0.8524590163934426,
          0.6557377049180327,
          0.7213114754098361,
          0.5245901639344263,
          0.8360655737704918,
          0.7868852459016393,
          0.8688524590163934,
          0.8524590163934426,
          0.8524590163934426,
          0.8688524590163934,
          0.9016393442622951,
          0.5409836065573771,
          0.8524590163934426,
          0.8852459016393442,
          0.8688524590163934,
          0.8688524590163934,
          0.9016393442622951,
          0.9016393442622951,
          0.8852459016393442,
          0.8852459016393442,
          0.8524590163934426,
          0.6557377049180327,
          0.8688524590163934,
          0.8524590163934426,
          0.8852459016393442,
          0.8688524590163934,
          0.8688524590163934,
          0.9016393442622951,
          0.8688524590163934,
          0.9016393442622951,
          0.8852459016393442,
          0.8524590163934426,
          0.8524590163934426,
          0.819672131147541,
          0.819672131147541,
          0.8688524590163934,
          0.9016393442622951,
          0.8360655737704918,
          0.8688524590163934,
          0.8852459016393442,
          0.7868852459016393,
          0.26229508196721313
         ],
         "yaxis": "y4"
        },
        {
         "marker": {
          "color": [
           2,
           10,
           11,
           12,
           13,
           14,
           15,
           16,
           18,
           20,
           21,
           22,
           23,
           25,
           26,
           28,
           30,
           31,
           32,
           33,
           34,
           35,
           36,
           38,
           39,
           41,
           42,
           43,
           44,
           45,
           47,
           48,
           49,
           50,
           51,
           52,
           53,
           54,
           55,
           56,
           57,
           58,
           61,
           62,
           63,
           64,
           65,
           66,
           67,
           68,
           69,
           70,
           71,
           72,
           73,
           74,
           75,
           76,
           77,
           78,
           91,
           92,
           93,
           94,
           96,
           97,
           98,
           99,
           101,
           102,
           103,
           104,
           105,
           106,
           107,
           108,
           109,
           110,
           111,
           112,
           113,
           114,
           115,
           116,
           117,
           118,
           120,
           121,
           122,
           123,
           124,
           125,
           126,
           127,
           129,
           130,
           131,
           132,
           133,
           134,
           135,
           136,
           137,
           138,
           141,
           142,
           143,
           144,
           145,
           146,
           147,
           149,
           150,
           151,
           152,
           153,
           154,
           155,
           156,
           157,
           159,
           160,
           161,
           162,
           164,
           165,
           166,
           167,
           168,
           169,
           170,
           171,
           172,
           173,
           174,
           175,
           176,
           177,
           178,
           179,
           180,
           181,
           182,
           183,
           184
          ],
          "colorbar": {
           "title": {
            "text": "Trial"
           },
           "x": 1,
           "xpad": 40
          },
          "colorscale": [
           [
            0,
            "rgb(247,251,255)"
           ],
           [
            0.125,
            "rgb(222,235,247)"
           ],
           [
            0.25,
            "rgb(198,219,239)"
           ],
           [
            0.375,
            "rgb(158,202,225)"
           ],
           [
            0.5,
            "rgb(107,174,214)"
           ],
           [
            0.625,
            "rgb(66,146,198)"
           ],
           [
            0.75,
            "rgb(33,113,181)"
           ],
           [
            0.875,
            "rgb(8,81,156)"
           ],
           [
            1,
            "rgb(8,48,107)"
           ]
          ],
          "line": {
           "color": "Grey",
           "width": 0.5
          },
          "showscale": false
         },
         "mode": "markers",
         "name": "Feasible Trial",
         "showlegend": false,
         "type": "scatter",
         "x": [
          125,
          126,
          103,
          22,
          69,
          65,
          67,
          92,
          42,
          128,
          65,
          55,
          86,
          81,
          44,
          107,
          72,
          127,
          115,
          51,
          115,
          79,
          119,
          96,
          60,
          115,
          128,
          109,
          118,
          72,
          121,
          128,
          98,
          109,
          112,
          103,
          123,
          105,
          62,
          31,
          121,
          78,
          115,
          112,
          122,
          87,
          69,
          53,
          117,
          110,
          58,
          65,
          66,
          73,
          125,
          76,
          48,
          87,
          63,
          56,
          103,
          116,
          69,
          83,
          69,
          61,
          74,
          68,
          128,
          125,
          128,
          128,
          123,
          126,
          65,
          37,
          119,
          21,
          124,
          120,
          71,
          98,
          112,
          128,
          121,
          64,
          16,
          114,
          119,
          107,
          59,
          124,
          77,
          117,
          114,
          67,
          109,
          109,
          112,
          91,
          101,
          126,
          106,
          122,
          71,
          105,
          117,
          110,
          80,
          106,
          107,
          75,
          94,
          74,
          83,
          57,
          101,
          62,
          69,
          128,
          124,
          121,
          106,
          66,
          114,
          102,
          53,
          110,
          126,
          128,
          125,
          126,
          123,
          119,
          115,
          115,
          116,
          121,
          60,
          112,
          71,
          118,
          114,
          64,
          123
         ],
         "xaxis": "x5",
         "y": [
          0.8852459016393442,
          0.5245901639344263,
          0.819672131147541,
          0.5245901639344263,
          0.8852459016393442,
          0.8852459016393442,
          0.8688524590163934,
          0.8524590163934426,
          0.47540983606557374,
          0.8852459016393442,
          0.8360655737704918,
          0.8524590163934426,
          0.8524590163934426,
          0.8688524590163934,
          0.8360655737704918,
          0.8688524590163934,
          0.5245901639344263,
          0.8688524590163934,
          0.8852459016393442,
          0.5245901639344263,
          0.8688524590163934,
          0.6557377049180327,
          0.8360655737704918,
          0.5245901639344263,
          0.8688524590163934,
          0.8852459016393442,
          0.819672131147541,
          0.7704918032786885,
          0.8360655737704918,
          0.5409836065573771,
          0.8524590163934426,
          0.6721311475409836,
          0.8524590163934426,
          0.9016393442622951,
          0.47540983606557374,
          0.5573770491803278,
          0.8360655737704918,
          0.8524590163934426,
          0.47540983606557374,
          0.5245901639344263,
          0.7868852459016393,
          0.5245901639344263,
          0.8688524590163934,
          0.7704918032786885,
          0.8688524590163934,
          0.5245901639344263,
          0.8524590163934426,
          0.8524590163934426,
          0.8360655737704918,
          0.8852459016393442,
          0.8524590163934426,
          0.9016393442622951,
          0.5245901639344263,
          0.47540983606557374,
          0.8688524590163934,
          0.47540983606557374,
          0.8360655737704918,
          0.5245901639344263,
          0.8688524590163934,
          0.8688524590163934,
          0.8852459016393442,
          0.8852459016393442,
          0.9016393442622951,
          0.8852459016393442,
          0.8688524590163934,
          0.5737704918032787,
          0.8852459016393442,
          0.5245901639344263,
          0.9016393442622951,
          0.5245901639344263,
          0.9016393442622951,
          0.8688524590163934,
          0.6557377049180327,
          0.8524590163934426,
          0.8852459016393442,
          0.6065573770491803,
          0.8852459016393442,
          0.8524590163934426,
          0.8524590163934426,
          0.8852459016393442,
          0.8524590163934426,
          0.8688524590163934,
          0.29508196721311475,
          0.8688524590163934,
          0.8032786885245902,
          0.5245901639344263,
          0.8688524590163934,
          0.7868852459016393,
          0.8688524590163934,
          0.8852459016393442,
          0.8524590163934426,
          0.8524590163934426,
          0.8524590163934426,
          0.5245901639344263,
          0.8852459016393442,
          0.47540983606557374,
          0.7704918032786885,
          0.7704918032786885,
          0.7540983606557377,
          0.7868852459016393,
          0.7377049180327869,
          0.5245901639344263,
          0.9180327868852459,
          0.8852459016393442,
          0.8688524590163934,
          0.639344262295082,
          0.8688524590163934,
          0.8852459016393442,
          0.8524590163934426,
          0.9180327868852459,
          0.8688524590163934,
          0.9016393442622951,
          0.8032786885245902,
          0.8360655737704918,
          0.8688524590163934,
          0.8688524590163934,
          0.8852459016393442,
          0.8688524590163934,
          0.8360655737704918,
          0.8524590163934426,
          0.7213114754098361,
          0.5245901639344263,
          0.8360655737704918,
          0.7868852459016393,
          0.8688524590163934,
          0.8524590163934426,
          0.8524590163934426,
          0.8688524590163934,
          0.9016393442622951,
          0.5409836065573771,
          0.8524590163934426,
          0.8852459016393442,
          0.8688524590163934,
          0.8688524590163934,
          0.9016393442622951,
          0.9016393442622951,
          0.8852459016393442,
          0.8852459016393442,
          0.8524590163934426,
          0.6557377049180327,
          0.8688524590163934,
          0.8524590163934426,
          0.8852459016393442,
          0.8688524590163934,
          0.8688524590163934
         ],
         "yaxis": "y5"
        },
        {
         "marker": {
          "color": [
           0,
           1,
           2,
           3,
           4,
           5,
           6,
           7,
           8,
           9,
           10,
           11,
           12,
           13,
           14,
           15,
           16,
           17,
           18,
           19,
           20,
           21,
           22,
           23,
           24,
           25,
           26,
           27,
           28,
           29,
           30,
           31,
           32,
           33,
           34,
           35,
           36,
           37,
           38,
           39,
           40,
           41,
           42,
           43,
           44,
           45,
           46,
           47,
           48,
           49,
           50,
           51,
           52,
           53,
           54,
           55,
           56,
           57,
           58,
           59,
           60,
           61,
           62,
           63,
           64,
           65,
           66,
           67,
           68,
           69,
           70,
           71,
           72,
           73,
           74,
           75,
           76,
           77,
           78,
           79,
           80,
           81,
           82,
           83,
           84,
           85,
           86,
           87,
           88,
           89,
           90,
           91,
           92,
           93,
           94,
           95,
           96,
           97,
           98,
           99,
           100,
           101,
           102,
           103,
           104,
           105,
           106,
           107,
           108,
           109,
           110,
           111,
           112,
           113,
           114,
           115,
           116,
           117,
           118,
           119,
           120,
           121,
           122,
           123,
           124,
           125,
           126,
           127,
           128,
           129,
           130,
           131,
           132,
           133,
           134,
           135,
           136,
           137,
           138,
           139,
           140,
           141,
           142,
           143,
           144,
           145,
           146,
           147,
           148,
           149,
           150,
           151,
           152,
           153,
           154,
           155,
           156,
           157,
           158,
           159,
           160,
           161,
           162,
           163,
           164,
           165,
           166,
           167,
           168,
           169,
           170,
           171,
           172,
           173,
           174,
           175,
           176,
           177,
           178,
           179,
           180,
           181,
           182,
           183,
           184,
           185,
           186,
           187,
           188,
           189,
           190,
           191,
           192,
           193,
           194,
           195,
           196,
           197,
           198,
           199
          ],
          "colorbar": {
           "title": {
            "text": "Trial"
           },
           "x": 1,
           "xpad": 40
          },
          "colorscale": [
           [
            0,
            "rgb(247,251,255)"
           ],
           [
            0.125,
            "rgb(222,235,247)"
           ],
           [
            0.25,
            "rgb(198,219,239)"
           ],
           [
            0.375,
            "rgb(158,202,225)"
           ],
           [
            0.5,
            "rgb(107,174,214)"
           ],
           [
            0.625,
            "rgb(66,146,198)"
           ],
           [
            0.75,
            "rgb(33,113,181)"
           ],
           [
            0.875,
            "rgb(8,81,156)"
           ],
           [
            1,
            "rgb(8,48,107)"
           ]
          ],
          "line": {
           "color": "Grey",
           "width": 0.5
          },
          "showscale": false
         },
         "mode": "markers",
         "name": "Feasible Trial",
         "showlegend": false,
         "type": "scatter",
         "x": [
          "Adagrad",
          "Adadelta",
          "Adam",
          "Adadelta",
          "Adagrad",
          "Adam",
          "AdamW",
          "Adadelta",
          "Adam",
          "RMSprop",
          "SGD",
          "Adagrad",
          "Adagrad",
          "Adam",
          "Adam",
          "Adam",
          "Adam",
          "RMSprop",
          "SGD",
          "AdamW",
          "Adam",
          "Adam",
          "Adam",
          "Adam",
          "Adam",
          "Adam",
          "Adam",
          "AdamW",
          "RMSprop",
          "SGD",
          "Adam",
          "Adam",
          "Adam",
          "Adadelta",
          "Adam",
          "Adam",
          "Adam",
          "Adadelta",
          "Adagrad",
          "AdamW",
          "Adam",
          "Adam",
          "Adam",
          "Adam",
          "Adam",
          "SGD",
          "RMSprop",
          "Adagrad",
          "Adadelta",
          "Adam",
          "Adam",
          "Adam",
          "Adam",
          "Adam",
          "Adam",
          "Adam",
          "AdamW",
          "Adam",
          "SGD",
          "RMSprop",
          "Adam",
          "Adam",
          "Adam",
          "Adam",
          "Adam",
          "Adagrad",
          "Adam",
          "Adam",
          "Adam",
          "Adam",
          "Adadelta",
          "Adadelta",
          "Adadelta",
          "Adadelta",
          "Adadelta",
          "AdamW",
          "Adam",
          "RMSprop",
          "SGD",
          "Adam",
          "Adadelta",
          "Adam",
          "Adam",
          "Adam",
          "Adam",
          "Adam",
          "Adagrad",
          "Adam",
          "Adam",
          "Adam",
          "Adam",
          "Adam",
          "Adam",
          "Adam",
          "Adam",
          "AdamW",
          "Adam",
          "Adam",
          "RMSprop",
          "SGD",
          "Adadelta",
          "Adam",
          "Adam",
          "Adam",
          "Adam",
          "Adam",
          "Adam",
          "Adam",
          "Adagrad",
          "Adam",
          "Adam",
          "Adam",
          "Adam",
          "Adam",
          "Adam",
          "Adadelta",
          "Adam",
          "Adam",
          "Adam",
          "AdamW",
          "Adam",
          "Adam",
          "Adam",
          "Adam",
          "Adam",
          "Adam",
          "RMSprop",
          "Adadelta",
          "SGD",
          "Adam",
          "Adam",
          "Adam",
          "Adam",
          "Adam",
          "Adam",
          "Adam",
          "Adagrad",
          "Adam",
          "Adam",
          "Adam",
          "Adadelta",
          "Adam",
          "Adam",
          "Adam",
          "Adam",
          "Adam",
          "Adam",
          "Adam",
          "Adam",
          "Adam",
          "AdamW",
          "Adam",
          "Adam",
          "Adam",
          "Adam",
          "Adam",
          "RMSprop",
          "Adam",
          "SGD",
          "Adam",
          "Adadelta",
          "Adam",
          "Adam",
          "Adam",
          "Adam",
          "Adam",
          "Adam",
          "Adam",
          "Adam",
          "Adagrad",
          "Adam",
          "Adam",
          "Adam",
          "Adam",
          "Adam",
          "Adam",
          "Adam",
          "Adam",
          "Adam",
          "Adadelta",
          "Adam",
          "Adam",
          "Adam",
          "Adam",
          "Adam",
          "Adam",
          "Adam",
          "AdamW",
          "AdamW",
          "AdamW",
          "AdamW",
          "AdamW",
          "Adam",
          "Adam",
          "Adam",
          "Adam",
          "AdamW",
          "RMSprop",
          "Adam",
          "SGD"
         ],
         "xaxis": "x6",
         "y": [
          0.5245901639344263,
          0.8360655737704918,
          0.8852459016393442,
          0.6885245901639344,
          0.8688524590163934,
          0.8688524590163934,
          0.8524590163934426,
          0.5573770491803278,
          0.4918032786885246,
          0.8524590163934426,
          0.5245901639344263,
          0.819672131147541,
          0.5245901639344263,
          0.8852459016393442,
          0.8852459016393442,
          0.8688524590163934,
          0.8524590163934426,
          0.7704918032786885,
          0.47540983606557374,
          0.8524590163934426,
          0.8852459016393442,
          0.8360655737704918,
          0.8524590163934426,
          0.8524590163934426,
          0.8688524590163934,
          0.8688524590163934,
          0.8360655737704918,
          0.8360655737704918,
          0.8688524590163934,
          0.47540983606557374,
          0.5245901639344263,
          0.8688524590163934,
          0.8852459016393442,
          0.5245901639344263,
          0.8688524590163934,
          0.6557377049180327,
          0.8360655737704918,
          0.6885245901639344,
          0.5245901639344263,
          0.8688524590163934,
          0.8524590163934426,
          0.8852459016393442,
          0.819672131147541,
          0.7704918032786885,
          0.8360655737704918,
          0.5409836065573771,
          0.7377049180327869,
          0.8524590163934426,
          0.6721311475409836,
          0.8524590163934426,
          0.9016393442622951,
          0.47540983606557374,
          0.5573770491803278,
          0.8360655737704918,
          0.8524590163934426,
          0.47540983606557374,
          0.5245901639344263,
          0.7868852459016393,
          0.5245901639344263,
          0.8688524590163934,
          0.8524590163934426,
          0.8688524590163934,
          0.7704918032786885,
          0.8688524590163934,
          0.5245901639344263,
          0.8524590163934426,
          0.8524590163934426,
          0.8360655737704918,
          0.8852459016393442,
          0.8524590163934426,
          0.9016393442622951,
          0.5245901639344263,
          0.47540983606557374,
          0.8688524590163934,
          0.47540983606557374,
          0.8360655737704918,
          0.5245901639344263,
          0.8688524590163934,
          0.8688524590163934,
          0.9016393442622951,
          0.5245901639344263,
          0.9016393442622951,
          0.8688524590163934,
          0.5245901639344263,
          0.7049180327868853,
          0.8032786885245902,
          0.8524590163934426,
          0.8688524590163934,
          0.7704918032786885,
          0.6721311475409836,
          0.8688524590163934,
          0.8852459016393442,
          0.8852459016393442,
          0.9016393442622951,
          0.8852459016393442,
          0.8524590163934426,
          0.8688524590163934,
          0.5737704918032787,
          0.8852459016393442,
          0.5245901639344263,
          0.47540983606557374,
          0.9016393442622951,
          0.5245901639344263,
          0.9016393442622951,
          0.8688524590163934,
          0.6557377049180327,
          0.8524590163934426,
          0.8852459016393442,
          0.6065573770491803,
          0.8852459016393442,
          0.8524590163934426,
          0.8524590163934426,
          0.8852459016393442,
          0.8524590163934426,
          0.8688524590163934,
          0.29508196721311475,
          0.8688524590163934,
          0.8032786885245902,
          0.5245901639344263,
          0.8360655737704918,
          0.8688524590163934,
          0.7868852459016393,
          0.8688524590163934,
          0.8852459016393442,
          0.8524590163934426,
          0.8524590163934426,
          0.8524590163934426,
          0.5245901639344263,
          0.5245901639344263,
          0.8852459016393442,
          0.47540983606557374,
          0.7704918032786885,
          0.7704918032786885,
          0.7540983606557377,
          0.7868852459016393,
          0.7377049180327869,
          0.5245901639344263,
          0.9180327868852459,
          0.8852459016393442,
          0.8688524590163934,
          0.8360655737704918,
          0.8688524590163934,
          0.639344262295082,
          0.8688524590163934,
          0.8852459016393442,
          0.8524590163934426,
          0.9180327868852459,
          0.8688524590163934,
          0.8852459016393442,
          0.9016393442622951,
          0.8032786885245902,
          0.8360655737704918,
          0.8688524590163934,
          0.8688524590163934,
          0.8852459016393442,
          0.8688524590163934,
          0.8360655737704918,
          0.8524590163934426,
          0.6557377049180327,
          0.7213114754098361,
          0.5245901639344263,
          0.8360655737704918,
          0.7868852459016393,
          0.8524590163934426,
          0.8688524590163934,
          0.8524590163934426,
          0.8524590163934426,
          0.8688524590163934,
          0.9016393442622951,
          0.5409836065573771,
          0.8524590163934426,
          0.8852459016393442,
          0.8688524590163934,
          0.8688524590163934,
          0.9016393442622951,
          0.9016393442622951,
          0.8852459016393442,
          0.8852459016393442,
          0.8524590163934426,
          0.6557377049180327,
          0.8688524590163934,
          0.8524590163934426,
          0.8852459016393442,
          0.8688524590163934,
          0.8688524590163934,
          0.9016393442622951,
          0.8688524590163934,
          0.9016393442622951,
          0.8852459016393442,
          0.8524590163934426,
          0.8524590163934426,
          0.819672131147541,
          0.819672131147541,
          0.8688524590163934,
          0.9016393442622951,
          0.8360655737704918,
          0.8688524590163934,
          0.8852459016393442,
          0.7868852459016393,
          0.26229508196721313
         ],
         "yaxis": "y6"
        }
       ],
       "layout": {
        "template": {
         "data": {
          "bar": [
           {
            "error_x": {
             "color": "#2a3f5f"
            },
            "error_y": {
             "color": "#2a3f5f"
            },
            "marker": {
             "line": {
              "color": "#E5ECF6",
              "width": 0.5
             },
             "pattern": {
              "fillmode": "overlay",
              "size": 10,
              "solidity": 0.2
             }
            },
            "type": "bar"
           }
          ],
          "barpolar": [
           {
            "marker": {
             "line": {
              "color": "#E5ECF6",
              "width": 0.5
             },
             "pattern": {
              "fillmode": "overlay",
              "size": 10,
              "solidity": 0.2
             }
            },
            "type": "barpolar"
           }
          ],
          "carpet": [
           {
            "aaxis": {
             "endlinecolor": "#2a3f5f",
             "gridcolor": "white",
             "linecolor": "white",
             "minorgridcolor": "white",
             "startlinecolor": "#2a3f5f"
            },
            "baxis": {
             "endlinecolor": "#2a3f5f",
             "gridcolor": "white",
             "linecolor": "white",
             "minorgridcolor": "white",
             "startlinecolor": "#2a3f5f"
            },
            "type": "carpet"
           }
          ],
          "choropleth": [
           {
            "colorbar": {
             "outlinewidth": 0,
             "ticks": ""
            },
            "type": "choropleth"
           }
          ],
          "contour": [
           {
            "colorbar": {
             "outlinewidth": 0,
             "ticks": ""
            },
            "colorscale": [
             [
              0,
              "#0d0887"
             ],
             [
              0.1111111111111111,
              "#46039f"
             ],
             [
              0.2222222222222222,
              "#7201a8"
             ],
             [
              0.3333333333333333,
              "#9c179e"
             ],
             [
              0.4444444444444444,
              "#bd3786"
             ],
             [
              0.5555555555555556,
              "#d8576b"
             ],
             [
              0.6666666666666666,
              "#ed7953"
             ],
             [
              0.7777777777777778,
              "#fb9f3a"
             ],
             [
              0.8888888888888888,
              "#fdca26"
             ],
             [
              1,
              "#f0f921"
             ]
            ],
            "type": "contour"
           }
          ],
          "contourcarpet": [
           {
            "colorbar": {
             "outlinewidth": 0,
             "ticks": ""
            },
            "type": "contourcarpet"
           }
          ],
          "heatmap": [
           {
            "colorbar": {
             "outlinewidth": 0,
             "ticks": ""
            },
            "colorscale": [
             [
              0,
              "#0d0887"
             ],
             [
              0.1111111111111111,
              "#46039f"
             ],
             [
              0.2222222222222222,
              "#7201a8"
             ],
             [
              0.3333333333333333,
              "#9c179e"
             ],
             [
              0.4444444444444444,
              "#bd3786"
             ],
             [
              0.5555555555555556,
              "#d8576b"
             ],
             [
              0.6666666666666666,
              "#ed7953"
             ],
             [
              0.7777777777777778,
              "#fb9f3a"
             ],
             [
              0.8888888888888888,
              "#fdca26"
             ],
             [
              1,
              "#f0f921"
             ]
            ],
            "type": "heatmap"
           }
          ],
          "heatmapgl": [
           {
            "colorbar": {
             "outlinewidth": 0,
             "ticks": ""
            },
            "colorscale": [
             [
              0,
              "#0d0887"
             ],
             [
              0.1111111111111111,
              "#46039f"
             ],
             [
              0.2222222222222222,
              "#7201a8"
             ],
             [
              0.3333333333333333,
              "#9c179e"
             ],
             [
              0.4444444444444444,
              "#bd3786"
             ],
             [
              0.5555555555555556,
              "#d8576b"
             ],
             [
              0.6666666666666666,
              "#ed7953"
             ],
             [
              0.7777777777777778,
              "#fb9f3a"
             ],
             [
              0.8888888888888888,
              "#fdca26"
             ],
             [
              1,
              "#f0f921"
             ]
            ],
            "type": "heatmapgl"
           }
          ],
          "histogram": [
           {
            "marker": {
             "pattern": {
              "fillmode": "overlay",
              "size": 10,
              "solidity": 0.2
             }
            },
            "type": "histogram"
           }
          ],
          "histogram2d": [
           {
            "colorbar": {
             "outlinewidth": 0,
             "ticks": ""
            },
            "colorscale": [
             [
              0,
              "#0d0887"
             ],
             [
              0.1111111111111111,
              "#46039f"
             ],
             [
              0.2222222222222222,
              "#7201a8"
             ],
             [
              0.3333333333333333,
              "#9c179e"
             ],
             [
              0.4444444444444444,
              "#bd3786"
             ],
             [
              0.5555555555555556,
              "#d8576b"
             ],
             [
              0.6666666666666666,
              "#ed7953"
             ],
             [
              0.7777777777777778,
              "#fb9f3a"
             ],
             [
              0.8888888888888888,
              "#fdca26"
             ],
             [
              1,
              "#f0f921"
             ]
            ],
            "type": "histogram2d"
           }
          ],
          "histogram2dcontour": [
           {
            "colorbar": {
             "outlinewidth": 0,
             "ticks": ""
            },
            "colorscale": [
             [
              0,
              "#0d0887"
             ],
             [
              0.1111111111111111,
              "#46039f"
             ],
             [
              0.2222222222222222,
              "#7201a8"
             ],
             [
              0.3333333333333333,
              "#9c179e"
             ],
             [
              0.4444444444444444,
              "#bd3786"
             ],
             [
              0.5555555555555556,
              "#d8576b"
             ],
             [
              0.6666666666666666,
              "#ed7953"
             ],
             [
              0.7777777777777778,
              "#fb9f3a"
             ],
             [
              0.8888888888888888,
              "#fdca26"
             ],
             [
              1,
              "#f0f921"
             ]
            ],
            "type": "histogram2dcontour"
           }
          ],
          "mesh3d": [
           {
            "colorbar": {
             "outlinewidth": 0,
             "ticks": ""
            },
            "type": "mesh3d"
           }
          ],
          "parcoords": [
           {
            "line": {
             "colorbar": {
              "outlinewidth": 0,
              "ticks": ""
             }
            },
            "type": "parcoords"
           }
          ],
          "pie": [
           {
            "automargin": true,
            "type": "pie"
           }
          ],
          "scatter": [
           {
            "fillpattern": {
             "fillmode": "overlay",
             "size": 10,
             "solidity": 0.2
            },
            "type": "scatter"
           }
          ],
          "scatter3d": [
           {
            "line": {
             "colorbar": {
              "outlinewidth": 0,
              "ticks": ""
             }
            },
            "marker": {
             "colorbar": {
              "outlinewidth": 0,
              "ticks": ""
             }
            },
            "type": "scatter3d"
           }
          ],
          "scattercarpet": [
           {
            "marker": {
             "colorbar": {
              "outlinewidth": 0,
              "ticks": ""
             }
            },
            "type": "scattercarpet"
           }
          ],
          "scattergeo": [
           {
            "marker": {
             "colorbar": {
              "outlinewidth": 0,
              "ticks": ""
             }
            },
            "type": "scattergeo"
           }
          ],
          "scattergl": [
           {
            "marker": {
             "colorbar": {
              "outlinewidth": 0,
              "ticks": ""
             }
            },
            "type": "scattergl"
           }
          ],
          "scattermapbox": [
           {
            "marker": {
             "colorbar": {
              "outlinewidth": 0,
              "ticks": ""
             }
            },
            "type": "scattermapbox"
           }
          ],
          "scatterpolar": [
           {
            "marker": {
             "colorbar": {
              "outlinewidth": 0,
              "ticks": ""
             }
            },
            "type": "scatterpolar"
           }
          ],
          "scatterpolargl": [
           {
            "marker": {
             "colorbar": {
              "outlinewidth": 0,
              "ticks": ""
             }
            },
            "type": "scatterpolargl"
           }
          ],
          "scatterternary": [
           {
            "marker": {
             "colorbar": {
              "outlinewidth": 0,
              "ticks": ""
             }
            },
            "type": "scatterternary"
           }
          ],
          "surface": [
           {
            "colorbar": {
             "outlinewidth": 0,
             "ticks": ""
            },
            "colorscale": [
             [
              0,
              "#0d0887"
             ],
             [
              0.1111111111111111,
              "#46039f"
             ],
             [
              0.2222222222222222,
              "#7201a8"
             ],
             [
              0.3333333333333333,
              "#9c179e"
             ],
             [
              0.4444444444444444,
              "#bd3786"
             ],
             [
              0.5555555555555556,
              "#d8576b"
             ],
             [
              0.6666666666666666,
              "#ed7953"
             ],
             [
              0.7777777777777778,
              "#fb9f3a"
             ],
             [
              0.8888888888888888,
              "#fdca26"
             ],
             [
              1,
              "#f0f921"
             ]
            ],
            "type": "surface"
           }
          ],
          "table": [
           {
            "cells": {
             "fill": {
              "color": "#EBF0F8"
             },
             "line": {
              "color": "white"
             }
            },
            "header": {
             "fill": {
              "color": "#C8D4E3"
             },
             "line": {
              "color": "white"
             }
            },
            "type": "table"
           }
          ]
         },
         "layout": {
          "annotationdefaults": {
           "arrowcolor": "#2a3f5f",
           "arrowhead": 0,
           "arrowwidth": 1
          },
          "autotypenumbers": "strict",
          "coloraxis": {
           "colorbar": {
            "outlinewidth": 0,
            "ticks": ""
           }
          },
          "colorscale": {
           "diverging": [
            [
             0,
             "#8e0152"
            ],
            [
             0.1,
             "#c51b7d"
            ],
            [
             0.2,
             "#de77ae"
            ],
            [
             0.3,
             "#f1b6da"
            ],
            [
             0.4,
             "#fde0ef"
            ],
            [
             0.5,
             "#f7f7f7"
            ],
            [
             0.6,
             "#e6f5d0"
            ],
            [
             0.7,
             "#b8e186"
            ],
            [
             0.8,
             "#7fbc41"
            ],
            [
             0.9,
             "#4d9221"
            ],
            [
             1,
             "#276419"
            ]
           ],
           "sequential": [
            [
             0,
             "#0d0887"
            ],
            [
             0.1111111111111111,
             "#46039f"
            ],
            [
             0.2222222222222222,
             "#7201a8"
            ],
            [
             0.3333333333333333,
             "#9c179e"
            ],
            [
             0.4444444444444444,
             "#bd3786"
            ],
            [
             0.5555555555555556,
             "#d8576b"
            ],
            [
             0.6666666666666666,
             "#ed7953"
            ],
            [
             0.7777777777777778,
             "#fb9f3a"
            ],
            [
             0.8888888888888888,
             "#fdca26"
            ],
            [
             1,
             "#f0f921"
            ]
           ],
           "sequentialminus": [
            [
             0,
             "#0d0887"
            ],
            [
             0.1111111111111111,
             "#46039f"
            ],
            [
             0.2222222222222222,
             "#7201a8"
            ],
            [
             0.3333333333333333,
             "#9c179e"
            ],
            [
             0.4444444444444444,
             "#bd3786"
            ],
            [
             0.5555555555555556,
             "#d8576b"
            ],
            [
             0.6666666666666666,
             "#ed7953"
            ],
            [
             0.7777777777777778,
             "#fb9f3a"
            ],
            [
             0.8888888888888888,
             "#fdca26"
            ],
            [
             1,
             "#f0f921"
            ]
           ]
          },
          "colorway": [
           "#636efa",
           "#EF553B",
           "#00cc96",
           "#ab63fa",
           "#FFA15A",
           "#19d3f3",
           "#FF6692",
           "#B6E880",
           "#FF97FF",
           "#FECB52"
          ],
          "font": {
           "color": "#2a3f5f"
          },
          "geo": {
           "bgcolor": "white",
           "lakecolor": "white",
           "landcolor": "#E5ECF6",
           "showlakes": true,
           "showland": true,
           "subunitcolor": "white"
          },
          "hoverlabel": {
           "align": "left"
          },
          "hovermode": "closest",
          "mapbox": {
           "style": "light"
          },
          "paper_bgcolor": "white",
          "plot_bgcolor": "#E5ECF6",
          "polar": {
           "angularaxis": {
            "gridcolor": "white",
            "linecolor": "white",
            "ticks": ""
           },
           "bgcolor": "#E5ECF6",
           "radialaxis": {
            "gridcolor": "white",
            "linecolor": "white",
            "ticks": ""
           }
          },
          "scene": {
           "xaxis": {
            "backgroundcolor": "#E5ECF6",
            "gridcolor": "white",
            "gridwidth": 2,
            "linecolor": "white",
            "showbackground": true,
            "ticks": "",
            "zerolinecolor": "white"
           },
           "yaxis": {
            "backgroundcolor": "#E5ECF6",
            "gridcolor": "white",
            "gridwidth": 2,
            "linecolor": "white",
            "showbackground": true,
            "ticks": "",
            "zerolinecolor": "white"
           },
           "zaxis": {
            "backgroundcolor": "#E5ECF6",
            "gridcolor": "white",
            "gridwidth": 2,
            "linecolor": "white",
            "showbackground": true,
            "ticks": "",
            "zerolinecolor": "white"
           }
          },
          "shapedefaults": {
           "line": {
            "color": "#2a3f5f"
           }
          },
          "ternary": {
           "aaxis": {
            "gridcolor": "white",
            "linecolor": "white",
            "ticks": ""
           },
           "baxis": {
            "gridcolor": "white",
            "linecolor": "white",
            "ticks": ""
           },
           "bgcolor": "#E5ECF6",
           "caxis": {
            "gridcolor": "white",
            "linecolor": "white",
            "ticks": ""
           }
          },
          "title": {
           "x": 0.05
          },
          "xaxis": {
           "automargin": true,
           "gridcolor": "white",
           "linecolor": "white",
           "ticks": "",
           "title": {
            "standoff": 15
           },
           "zerolinecolor": "white",
           "zerolinewidth": 2
          },
          "yaxis": {
           "automargin": true,
           "gridcolor": "white",
           "linecolor": "white",
           "ticks": "",
           "title": {
            "standoff": 15
           },
           "zerolinecolor": "white",
           "zerolinewidth": 2
          }
         }
        },
        "title": {
         "text": "Slice Plot"
        },
        "width": 1800,
        "xaxis": {
         "anchor": "y",
         "domain": [
          0,
          0.1388888888888889
         ],
         "title": {
          "text": "lr"
         },
         "type": "log"
        },
        "xaxis2": {
         "anchor": "y2",
         "domain": [
          0.17222222222222222,
          0.3111111111111111
         ],
         "title": {
          "text": "n_layers"
         }
        },
        "xaxis3": {
         "anchor": "y3",
         "domain": [
          0.34444444444444444,
          0.48333333333333334
         ],
         "title": {
          "text": "n_units_l0"
         }
        },
        "xaxis4": {
         "anchor": "y4",
         "domain": [
          0.5166666666666667,
          0.6555555555555557
         ],
         "title": {
          "text": "n_units_l1"
         }
        },
        "xaxis5": {
         "anchor": "y5",
         "domain": [
          0.6888888888888889,
          0.8277777777777777
         ],
         "title": {
          "text": "n_units_l2"
         }
        },
        "xaxis6": {
         "anchor": "y6",
         "categoryarray": [
          "Adam",
          "RMSprop",
          "SGD",
          "Adadelta",
          "Adagrad",
          "AdamW"
         ],
         "categoryorder": "array",
         "domain": [
          0.861111111111111,
          1
         ],
         "title": {
          "text": "optimizer"
         },
         "type": "category"
        },
        "yaxis": {
         "anchor": "x",
         "domain": [
          0,
          1
         ],
         "title": {
          "text": "Objective Value"
         }
        },
        "yaxis2": {
         "anchor": "x2",
         "domain": [
          0,
          1
         ],
         "matches": "y",
         "showticklabels": false
        },
        "yaxis3": {
         "anchor": "x3",
         "domain": [
          0,
          1
         ],
         "matches": "y",
         "showticklabels": false
        },
        "yaxis4": {
         "anchor": "x4",
         "domain": [
          0,
          1
         ],
         "matches": "y",
         "showticklabels": false
        },
        "yaxis5": {
         "anchor": "x5",
         "domain": [
          0,
          1
         ],
         "matches": "y",
         "showticklabels": false
        },
        "yaxis6": {
         "anchor": "x6",
         "domain": [
          0,
          1
         ],
         "matches": "y",
         "showticklabels": false
        }
       }
      }
     },
     "metadata": {},
     "output_type": "display_data"
    }
   ],
   "source": [
    "# Plot the slice plot for each hyperparameter\n",
    "slice_plot = plot_slice(study)\n",
    "slice_plot.show()"
   ]
  },
  {
   "cell_type": "code",
   "execution_count": null,
   "metadata": {},
   "outputs": [],
   "source": []
  }
 ],
 "metadata": {
  "kernelspec": {
   "display_name": ".venv",
   "language": "python",
   "name": "python3"
  },
  "language_info": {
   "codemirror_mode": {
    "name": "ipython",
    "version": 3
   },
   "file_extension": ".py",
   "mimetype": "text/x-python",
   "name": "python",
   "nbconvert_exporter": "python",
   "pygments_lexer": "ipython3",
   "version": "3.12.2"
  }
 },
 "nbformat": 4,
 "nbformat_minor": 2
}
